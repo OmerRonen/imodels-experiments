{
 "cells": [
  {
   "cell_type": "code",
   "execution_count": 2,
   "metadata": {},
   "outputs": [
    {
     "name": "stdout",
     "output_type": "stream",
     "text": [
      "The autoreload extension is already loaded. To reload it, use:\n",
      "  %reload_ext autoreload\n",
      "num_datasets 11 9\n"
     ]
    }
   ],
   "source": [
    "%load_ext autoreload\n",
    "%autoreload 2\n",
    "\n",
    "import sys\n",
    "\n",
    "from sklearn.tree import export_text\n",
    "\n",
    "sys.path.append('../..')\n",
    "from viz import *\n",
    "import viz\n",
    "import imodels\n",
    "from os.path import join as oj\n",
    "\n",
    "mpl.rcParams['figure.dpi'] = 250\n",
    "mpl.rcParams['axes.spines.top'] = False\n",
    "mpl.rcParams['axes.spines.right'] = False\n",
    "from imodels.util.data_util import get_clean_dataset\n",
    "from config.saps.datasets import DATASETS_CLASSIFICATION, DATASETS_REGRESSION\n",
    "from sklearn.tree import DecisionTreeClassifier\n",
    "from util import DATASET_PATH\n",
    "print('num_datasets', len(DATASETS_CLASSIFICATION), len(DATASETS_REGRESSION))\n",
    "\n",
    "prop_cycle = plt.rcParams['axes.prop_cycle']\n",
    "colors = prop_cycle.by_key()['color']"
   ]
  },
  {
   "cell_type": "markdown",
   "metadata": {},
   "source": [
    "# overarching plots"
   ]
  },
  {
   "cell_type": "code",
   "execution_count": 5,
   "metadata": {},
   "outputs": [
    {
     "data": {
      "text/plain": [
       "[('readmission', 'readmission_clean', 'imodels'),\n",
       " ('credit', 'credit_card_clean', 'imodels'),\n",
       " ('recidivism', 'compas_two_year_clean', 'imodels'),\n",
       " ('juvenile', 'juvenile_clean', 'imodels'),\n",
       " ('german-credit', 'german', 'pmlb'),\n",
       " ('diabetes', 'diabetes', 'pmlb')]"
      ]
     },
     "execution_count": 5,
     "metadata": {},
     "output_type": "execute_result"
    }
   ],
   "source": [
    "datasets"
   ]
  },
  {
   "cell_type": "code",
   "execution_count": 18,
   "metadata": {
    "tags": []
   },
   "outputs": [
    {
     "name": "stdout",
     "output_type": "stream",
     "text": [
      "[ 1  4  7 10 13 16 25 30] [ 1  3  7 15 31]\n"
     ]
    },
    {
     "data": {
      "text/plain": [
       "<Figure size 2250x625 with 0 Axes>"
      ]
     },
     "metadata": {},
     "output_type": "display_data"
    },
    {
     "data": {
      "image/png": "[encoded data removed]",
      "text/plain": [
       "<Figure size 900x540 with 1 Axes>"
      ]
     },
     "metadata": {
      "needs_background": "light"
     },
     "output_type": "display_data"
    }
   ],
   "source": [
    "num_dsets = 1\n",
    "datasets = DATASETS_CLASSIFICATION[::-1][:6] #+ DATASETS_REGRESSION[::-1]\n",
    "\n",
    "R, C = ceil(num_dsets / 3), 3\n",
    "plt.figure(figsize=(3 * C, 2.5 * R), facecolor='w')\n",
    "\n",
    "COLORS = [cb, cg, cr, 'gray', cp, 'green']\n",
    "COLORS = COLORS + COLORS + COLORS\n",
    "plt.figure(figsize=(6, 3.6), dpi=150)\n",
    "# for i, dset in enumerate(tqdm(datasets)):\n",
    "dset = datasets[0]\n",
    "dset_name = dset[0]\n",
    "#     print(dset_name)\n",
    "\n",
    "pkl_file = oj('../../results', 'saps', dset_name, 'train-test/seed0/results_aggregated.pkl')\n",
    "data = pkl.load(open(pkl_file, 'rb'))  #['df']\n",
    "\n",
    "rules = data['df_rules']\n",
    "#     rules['model'] = rules.index\n",
    "rules.index = np.arange(rules.shape[0])\n",
    "\n",
    "df = data['df']\n",
    "#     df['model'] = df.index\n",
    "df.index = np.arange(df.shape[0])\n",
    "\n",
    "cols_to_use = df.columns.difference(rules.columns)\n",
    "d = rules.join(df[cols_to_use])\n",
    "\n",
    "# SAPS\n",
    "#     print('d', d)\n",
    "g = d[d.estimator == 'SAPS']\n",
    "#     print('g', g)\n",
    "name = 'SAPS'\n",
    "est_params = g[dset_name]\n",
    "#     print(est_params.iloc[0])\n",
    "trees = [x['trees_'] for x in est_params]\n",
    "#     print(trees)\n",
    "n_trees = np.array([len(t) for t in trees])\n",
    "x = g['complexity'].values\n",
    "#     plt.plot(x, n_trees)\n",
    "\n",
    "# CART\n",
    "THRESH_REPEAT = 0.1\n",
    "g = d[d.estimator == 'CART']\n",
    "est_params = g[dset_name]\n",
    "trees = [x['tree_'] for x in est_params]\n",
    "#     print(g)\n",
    "#     print(trees)\n",
    "x2 = g['complexity'].values\n",
    "# plt.plot(x, x2)\n",
    "print(x, x2)\n",
    "    \n",
    "# plt.legend(labelcolor='linecolor')\n",
    "dvu.line_legend(adjust_text_labels=True, extra_spacing=0.5)\n",
    "plt.grid(axis='y')"
   ]
  },
  {
   "cell_type": "code",
   "execution_count": null,
   "metadata": {},
   "outputs": [],
   "source": []
  }
 ],
 "metadata": {
  "jupytext": {
   "formats": "ipynb,../../tests/notebooks//py:percent"
  },
  "kernelspec": {
   "display_name": "Python 3.7",
   "language": "python",
   "name": "python3.7"
  },
  "language_info": {
   "codemirror_mode": {
    "name": "ipython",
    "version": 3
   },
   "file_extension": ".py",
   "mimetype": "text/x-python",
   "name": "python",
   "nbconvert_exporter": "python",
   "pygments_lexer": "ipython3",
   "version": "3.7.5"
  }
 },
 "nbformat": 4,
 "nbformat_minor": 4
}
