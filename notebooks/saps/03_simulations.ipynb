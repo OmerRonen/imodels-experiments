{
 "cells": [
  {
   "cell_type": "code",
   "execution_count": 8,
   "metadata": {},
   "outputs": [
    {
     "name": "stdout",
     "output_type": "stream",
     "text": [
      "The autoreload extension is already loaded. To reload it, use:\n",
      "  %reload_ext autoreload\n"
     ]
    }
   ],
   "source": [
    "%load_ext autoreload\n",
    "%autoreload 2\n",
    "import os\n",
    "import pickle as pkl\n",
    "from os.path import join as oj\n",
    "\n",
    "import dvu\n",
    "import matplotlib as mpl\n",
    "import matplotlib.pyplot as plt\n",
    "from math import ceil\n",
    "from tqdm import tqdm\n",
    "import numpy as np\n",
    "import matplotlib.patches as patches\n",
    "import sys\n",
    "from math import log\n",
    "from simulations_util import *\n",
    "from collections import defaultdict\n",
    "import pickle as pkl\n",
    "\n",
    "sys.path.append('..')\n",
    "\n",
    "# change working directory to project root\n",
    "if os.getcwd().split('/')[-1] == 'notebooks':\n",
    "    os.chdir('../..')\n",
    "\n",
    "from experiments.viz import *\n",
    "from experiments import viz\n",
    "\n",
    "out_dir = 'results/sum_of_squares'\n",
    "prop_cycle = plt.rcParams['axes.prop_cycle']\n",
    "colors = prop_cycle.by_key()['color']\n",
    "\n",
    "n_train = np.array([100, 250, 500, 750, 1000, 1500]) # 1500,2000,2500]\n",
    "n_test = 500\n",
    "d = 50\n",
    "beta = 1\n",
    "sigma = 0.1\n",
    "sparsity = [10, 20]\n",
    "n_avg = 5\n",
    "\n",
    "# keys end up being saps, cart, rf\n",
    "scores = defaultdict(list)\n",
    "error_bar = defaultdict(list)"
   ]
  },
  {
   "cell_type": "markdown",
   "metadata": {},
   "source": [
    "# plot results"
   ]
  },
  {
   "cell_type": "code",
   "execution_count": 9,
   "metadata": {},
   "outputs": [
    {
     "name": "stdout",
     "output_type": "stream",
     "text": [
      "scores_0.pkl  scores_1.pkl\n"
     ]
    }
   ],
   "source": [
    "!ls {out_dir}"
   ]
  },
  {
   "cell_type": "code",
   "execution_count": 10,
   "metadata": {},
   "outputs": [],
   "source": [
    "(scores, error_bar) = pkl.load(open(oj('results/sum_of_squares', 'scores_1.pkl'), 'rb'))\n",
    "best_fits = defaultdict(list)\n",
    "for k in scores.keys():\n",
    "    for i in range(len(sparsity)):\n",
    "        best_fits[k].append(get_best_fit_line(np.log(n_train), np.log(scores[k][i])))"
   ]
  },
  {
   "cell_type": "code",
   "execution_count": 11,
   "metadata": {},
   "outputs": [],
   "source": [
    "mpl.rcParams['grid.linewidth'] = 2.5\n",
    "mpl.rcParams['legend.fontsize'] = 14\n",
    "mpl.rcParams[\"figure.figsize\"] = [8, 6]\n",
    "plt.rcParams['figure.facecolor'] = 'white'\n",
    "cs = {\n",
    "    'SAPS': 'black',\n",
    "    'CART': 'orange',\n",
    "    'RF': cg\n",
    "}\n",
    "\n",
    "label_size = 14\n",
    "mpl.rcParams['xtick.labelsize'] = label_size \n",
    "mpl.rcParams['ytick.labelsize'] = label_size \n",
    "mpl.rcParams['axes.labelsize'] = label_size\n",
    "mpl.rcParams['axes.titlesize'] = label_size\n",
    "mpl.rcParams['figure.titlesize'] = label_size\n",
    "\n",
    "mpl.rcParams['figure.dpi'] = 250\n",
    "mpl.rcParams['axes.spines.top'] = False\n",
    "mpl.rcParams['axes.spines.right'] = False"
   ]
  },
  {
   "cell_type": "code",
   "execution_count": null,
   "metadata": {},
   "outputs": [],
   "source": [
    "for num in range(2):\n",
    "    sum_squares_fig, axs = plt.subplots(1, 1, figsize = (6, 4),sharex = True,sharey = True)\n",
    "    axs = [axs]\n",
    "\n",
    "    for i, k in enumerate(scores.keys()):\n",
    "        kwargs = dict(color=cs[k], ms=7, elinewidth=4, lw=3)\n",
    "        slope = best_fits[k][num][0]    \n",
    "        axs[0].errorbar(n_train, np.exp(slope * np.log(n_train) + best_fits[k][num][1]), linestyle = '--', **kwargs)    \n",
    "        axs[0].errorbar(n_train, scores[k][num], yerr=error_bar[k][num], fmt='o', label=k + f' (slope: {slope:.2f})', **kwargs)\n",
    "\n",
    "\n",
    "    titles = ['Sparsity ($s$) = 10', 'Sparsity ($s$) = 20']\n",
    "    for i in range(1):\n",
    "        axs[i].legend(loc='best') #, labelcolor='linecolor')\n",
    "        axs[i].set_xlabel('Number of Samples ($n$)') #, fontsize=25)\n",
    "        axs[i].set_xscale('log')\n",
    "        axs[i].set_yscale('log')\n",
    "    #     axs[i].set_title(titles[i])\n",
    "        axs[i].grid()\n",
    "        axs[i].set_yticks([0.1, 0.2, 0.5, 1.0])\n",
    "    axs[0].set_ylabel('MSE')\n",
    "\n",
    "    plt.tight_layout(pad=0.4,w_pad=0.5, h_pad=1.5)\n",
    "    plt.yscale('log')\n",
    "    plt.xscale('log')\n",
    "    labels = [r'$2 \\times \\mathregular{10^{-1}}$', r'$5 \\times \\mathregular{10^{-1}}$', r'$\\mathregular{10^{0}}$',r'$3 \\times \\mathregular{10^{0}}$']\n",
    "\n",
    "    # plt.yticks(ytick, labels)\n",
    "    viz.savefig(f'err_rate_{num}')\n",
    "    plt.show()"
   ]
  },
  {
   "cell_type": "code",
   "execution_count": null,
   "metadata": {},
   "outputs": [],
   "source": []
  }
 ],
 "metadata": {
  "jupytext": {
   "formats": "ipynb,../../tests/notebooks//py:percent"
  },
  "kernelspec": {
   "display_name": "Python 3.7",
   "language": "python",
   "name": "python3.7"
  },
  "language_info": {
   "codemirror_mode": {
    "name": "ipython",
    "version": 3
   },
   "file_extension": ".py",
   "mimetype": "text/x-python",
   "name": "python",
   "nbconvert_exporter": "python",
   "pygments_lexer": "ipython3",
   "version": "3.7.5"
  }
 },
 "nbformat": 4,
 "nbformat_minor": 4
}
