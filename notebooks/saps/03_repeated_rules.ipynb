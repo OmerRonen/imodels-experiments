{
 "cells": [
  {
   "cell_type": "code",
   "execution_count": 1,
   "metadata": {},
   "outputs": [
    {
     "name": "stderr",
     "output_type": "stream",
     "text": [
      "/accounts/projects/vision/.local/lib/python3.7/site-packages/statsmodels/tools/_testing.py:19: FutureWarning: pandas.util.testing is deprecated. Use the functions in the public API at pandas.testing instead.\n",
      "  import pandas.util.testing as tm\n"
     ]
    },
    {
     "name": "stdout",
     "output_type": "stream",
     "text": [
      "num_datasets 11 9\n"
     ]
    }
   ],
   "source": [
    "%load_ext autoreload\n",
    "%autoreload 2\n",
    "\n",
    "import sys\n",
    "from copy import deepcopy\n",
    "from sklearn.tree import export_text\n",
    "\n",
    "sys.path.append('../..')\n",
    "from viz import *\n",
    "import viz\n",
    "import imodels\n",
    "from os.path import join as oj\n",
    "from collections import defaultdict\n",
    "\n",
    "mpl.rcParams['figure.dpi'] = 250\n",
    "mpl.rcParams['axes.spines.top'] = False\n",
    "mpl.rcParams['axes.spines.right'] = False\n",
    "from imodels.util.data_util import get_clean_dataset\n",
    "from config.saps.datasets import DATASETS_CLASSIFICATION, DATASETS_REGRESSION\n",
    "from sklearn.tree import DecisionTreeClassifier\n",
    "from util import DATASET_PATH\n",
    "print('num_datasets', len(DATASETS_CLASSIFICATION), len(DATASETS_REGRESSION))\n",
    "\n",
    "prop_cycle = plt.rcParams['axes.prop_cycle']\n",
    "colors = prop_cycle.by_key()['color']"
   ]
  },
  {
   "cell_type": "markdown",
   "metadata": {},
   "source": [
    "# overarching plots"
   ]
  },
  {
   "cell_type": "code",
   "execution_count": 2,
   "metadata": {},
   "outputs": [],
   "source": [
    "def count_repeated_splits(m, model='SAPS', feat_thresh=0.01):\n",
    "    if model == 'SAPS':\n",
    "        feats = []\n",
    "        threshes = []\n",
    "        nodes = [root for root in m]\n",
    "        while len(nodes) > 0:\n",
    "            n = nodes.pop()\n",
    "            feats.append(n.feature)\n",
    "            threshes.append(n.threshold)\n",
    "            if n.left is not None:\n",
    "                nodes.append(n.left)\n",
    "            if n.right is not None:\n",
    "                nodes.append(n.right)\n",
    "    elif model == 'CART':\n",
    "        feats = m.feature\n",
    "        threshes = m.threshold\n",
    "\n",
    "    # count repeated splits\n",
    "    n = len(feats)\n",
    "    counts = np.zeros(n)\n",
    "    for i in range(n):\n",
    "        for j in range(n):\n",
    "            if not i == j and feats[i] == feats[j] \\\n",
    "            and abs(threshes[i] - threshes[j]) <= feat_thresh:\n",
    "                counts[i] += 1\n",
    "    return np.sum(counts > 0) / n"
   ]
  },
  {
   "cell_type": "code",
   "execution_count": 3,
   "metadata": {
    "tags": []
   },
   "outputs": [
    {
     "name": "stderr",
     "output_type": "stream",
     "text": [
      "100%|██████████| 11/11 [00:08<00:00,  1.33it/s]\n"
     ]
    },
    {
     "data": {
      "text/plain": [
       "<Figure size 648x180 with 0 Axes>"
      ]
     },
     "metadata": {},
     "output_type": "display_data"
    }
   ],
   "source": [
    "num_dsets = 1\n",
    "datasets = DATASETS_CLASSIFICATION[::-1] #+ DATASETS_REGRESSION[::-1]\n",
    "\n",
    "R, C = ceil(num_dsets / 3), 3\n",
    "plt.figure(figsize=(3 * C, 2.5 * R), facecolor='w')\n",
    "\n",
    "COLORS = [cb, cg, cr, 'gray', cp, 'green']\n",
    "COLORS = COLORS + COLORS + COLORS\n",
    "# plt.figure(figsize=(6, 3.6), dpi=150)\n",
    "# for i, dset in enumerate(tqdm(datasets)):\n",
    "r = {}\n",
    "for dset in tqdm(datasets):\n",
    "# dset = datasets[0]\n",
    "    dset_name = dset[0]\n",
    "    results = defaultdict(list)\n",
    "    for seed in range(6):\n",
    "        pkl_file = oj('../../results', 'saps', dset_name, f'train-test/seed{seed}/results_aggregated.pkl')\n",
    "        data = pkl.load(open(pkl_file, 'rb'))  #['df']\n",
    "\n",
    "        rules = data['df_rules']\n",
    "        rules.index = np.arange(rules.shape[0])\n",
    "\n",
    "        df = data['df']\n",
    "        df.index = np.arange(df.shape[0])\n",
    "\n",
    "        cols_to_use = df.columns.difference(rules.columns)\n",
    "        d = rules.join(df[cols_to_use])\n",
    "\n",
    "        # SAPS\n",
    "        g = d[d.estimator == 'SAPS']\n",
    "        name = 'SAPS'\n",
    "        est_params = g[dset_name]\n",
    "        trees = [x['trees_'] for x in est_params]\n",
    "        n_trees = np.array([len(t) for t in trees])\n",
    "        x = g['complexity'].values\n",
    "        repeats = [count_repeated_splits(t, model='SAPS') for t in trees]\n",
    "#         plt.plot(x, repeats, '.-', label='SAPS')\n",
    "        results['x_saps'].append(x)\n",
    "        results['repeats_saps'].append(repeats)\n",
    "\n",
    "        # CART\n",
    "        THRESH_REPEAT = 0.1\n",
    "        g = d[d.estimator == 'CART']\n",
    "        est_params = g[dset_name]\n",
    "        trees = [x['tree_'] for x in est_params]\n",
    "        repeats2 = [count_repeated_splits(t, model='CART') for t in trees]\n",
    "        x2 = g['complexity'].values\n",
    "#         plt.plot(x2, repeats2, '.-', label='CART')\n",
    "        results['x_cart'].append(x2)\n",
    "        results['repeats_cart'].append(repeats2)\n",
    "    r[dset_name] = deepcopy(results)\n",
    "    \n",
    "# plt.legend(labelcolor='linecolor')\n",
    "# dvu.line_legend(adjust_text_labels=True, extra_spacing=0.5)\n",
    "# plt.grid(axis='y')\n",
    "# plt.grid()\n",
    "# plt.ylabel('Num repeats')\n",
    "# plt.xlabel('Number of rules')\n",
    "# plt.show()"
   ]
  },
  {
   "cell_type": "code",
   "execution_count": 4,
   "metadata": {},
   "outputs": [
    {
     "data": {
      "image/png": "[encoded data removed]",
      "text/plain": [
       "<Figure size 432x288 with 1 Axes>"
      ]
     },
     "metadata": {
      "needs_background": "light"
     },
     "output_type": "display_data"
    }
   ],
   "source": [
    "alphas = [1, 1/3, 2/3]\n",
    "dset_names = ['readmission', 'recidivism', 'credit']\n",
    "for i, dset_name in enumerate(dset_names):\n",
    "    df = pd.DataFrame.from_dict(r[dset_name])\n",
    "    plt.plot(df['x_saps'].values[0], np.vstack(df['repeats_saps'].values).mean(axis=0), label=f'FIGS ({dset_name.capitalize()})', color='black', alpha=alphas[i], lw=2)\n",
    "    plt.plot(df['x_cart'].values[0], np.vstack(df['repeats_cart'].values).mean(axis=0), label=f'CART ({dset_name.capitalize()})', color='orange', alpha=alphas[i], lw=2)\n",
    "dvu.line_legend(adjust_text_labels=True, extra_spacing=0.75)\n",
    "\n",
    "for i, dset_name in enumerate(dset_names):\n",
    "    df = pd.DataFrame.from_dict(r[dset_name])\n",
    "    plt.errorbar(df['x_saps'].values[0], np.vstack(df['repeats_saps'].values).mean(axis=0),\n",
    "                 yerr=np.vstack(df['repeats_saps'].values).std(axis=0) / np.sqrt(df.shape[0]),\n",
    "                 color='black', lw=0, elinewidth=2, alpha=alphas[i])\n",
    "    plt.errorbar(df['x_cart'].values[0], np.vstack(df['repeats_cart'].values).mean(axis=0),\n",
    "                 yerr=np.vstack(df['repeats_cart'].values).std(axis=0) / np.sqrt(df.shape[0]),\n",
    "                 color='orange', lw=0, elinewidth=2, alpha=alphas[i])\n",
    "\n",
    "plt.xticks([0, 10, 20, 30], fontsize=14)\n",
    "plt.yticks(fontsize=14)\n",
    "plt.ylabel('Fraction of splits that are repeated', fontsize=14)\n",
    "plt.xlabel('Number of splits', fontsize=14)\n",
    "plt.tight_layout()\n",
    "viz.savefig('repeated_splits')\n",
    "plt.show()"
   ]
  },
  {
   "cell_type": "code",
   "execution_count": null,
   "metadata": {},
   "outputs": [],
   "source": [
    "# alphas = [1, 1/3, 2/3]\n",
    "plt.figure(figsize=(10, 8))\n",
    "dset_names = ['readmission', 'recidivism', 'credit']\n",
    "for i, dset_name in enumerate(r):\n",
    "    df = pd.DataFrame.from_dict(r[dset_name])\n",
    "    plt.plot(df['x_saps'].values[0], np.vstack(df['repeats_saps'].values).mean(axis=0), label=f'SAPS ({dset_name.capitalize()})', color='black', alpha=1-i/10, lw=2)\n",
    "    plt.plot(df['x_cart'].values[0], np.vstack(df['repeats_cart'].values).mean(axis=0), label=f'CART ({dset_name.capitalize()})', color='orange', alpha=1-i/10, lw=2)\n",
    "dvu.line_legend(adjust_text_labels=True, extra_spacing=3)\n",
    "\n",
    "for i, dset_name in enumerate(r):\n",
    "    df = pd.DataFrame.from_dict(r[dset_name])\n",
    "    plt.errorbar(df['x_saps'].values[0], np.vstack(df['repeats_saps'].values).mean(axis=0),\n",
    "                 yerr=np.vstack(df['repeats_saps'].values).std(axis=0) / np.sqrt(df.shape[0]),\n",
    "                 color='black', lw=0, elinewidth=2, alpha=1-i/10)\n",
    "    plt.errorbar(df['x_cart'].values[0], np.vstack(df['repeats_cart'].values).mean(axis=0),\n",
    "                 yerr=np.vstack(df['repeats_cart'].values).std(axis=0) / np.sqrt(df.shape[0]),\n",
    "                 color='orange', lw=0, elinewidth=2, alpha=1-i/10)\n",
    "\n",
    "plt.xticks([0, 10, 20, 30], fontsize=14)\n",
    "plt.yticks(fontsize=14)\n",
    "plt.ylabel('Fraction of splits that are repeated', fontsize=14)\n",
    "plt.xlabel('Number of splits', fontsize=14)\n",
    "plt.tight_layout()\n",
    "viz.savefig('repeated_splits_full')\n",
    "plt.show()"
   ]
  },
  {
   "cell_type": "code",
   "execution_count": null,
   "metadata": {},
   "outputs": [],
   "source": []
  }
 ],
 "metadata": {
  "jupytext": {
   "formats": "ipynb,../../tests/notebooks//py:percent"
  },
  "kernelspec": {
   "display_name": "Python 3.7",
   "language": "python",
   "name": "python3.7"
  },
  "language_info": {
   "codemirror_mode": {
    "name": "ipython",
    "version": 3
   },
   "file_extension": ".py",
   "mimetype": "text/x-python",
   "name": "python",
   "nbconvert_exporter": "python",
   "pygments_lexer": "ipython3",
   "version": "3.7.5"
  }
 },
 "nbformat": 4,
 "nbformat_minor": 4
}
