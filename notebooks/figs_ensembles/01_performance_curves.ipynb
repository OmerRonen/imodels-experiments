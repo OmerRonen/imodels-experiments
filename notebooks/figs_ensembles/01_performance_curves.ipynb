{
 "cells": [
  {
   "cell_type": "code",
   "execution_count": 32,
   "metadata": {},
   "outputs": [
    {
     "name": "stdout",
     "output_type": "stream",
     "text": [
      "The autoreload extension is already loaded. To reload it, use:\n",
      "  %reload_ext autoreload\n",
      "num_datasets 11 9\n"
     ]
    }
   ],
   "source": [
    "%load_ext autoreload\n",
    "%autoreload 2\n",
    "import os\n",
    "import pickle as pkl\n",
    "from os.path import join as oj\n",
    "\n",
    "import dvu\n",
    "import matplotlib as mpl\n",
    "import matplotlib.pyplot as plt\n",
    "from math import ceil\n",
    "from tqdm import tqdm\n",
    "import numpy as np\n",
    "import matplotlib.patches as patches\n",
    "import sys\n",
    "sys.path.append('..')\n",
    "\n",
    "mpl.rcParams['figure.dpi'] = 250\n",
    "mpl.rcParams['axes.spines.top'] = False\n",
    "mpl.rcParams['axes.spines.right'] = False\n",
    "\n",
    "# change working directory to project root\n",
    "while os.getcwd().split('/')[-1] != 'imodels-experiments':\n",
    "    os.chdir('..')\n",
    "\n",
    "from config.figs_ensembles.datasets import DATASETS_CLASSIFICATION, DATASETS_REGRESSION\n",
    "import viz\n",
    "\n",
    "print('num_datasets', len(DATASETS_CLASSIFICATION), len(DATASETS_REGRESSION))\n",
    "\n",
    "prop_cycle = plt.rcParams['axes.prop_cycle']\n",
    "colors = prop_cycle.by_key()['color']"
   ]
  },
  {
   "cell_type": "code",
   "execution_count": 36,
   "metadata": {},
   "outputs": [
    {
     "name": "stdout",
     "output_type": "stream",
     "text": [
      "  0%|                                                   | 0/100 [00:00<?, ?it/s]02_aggregate_results.py:53: UserWarning: bad complexity range\n",
      "  warnings.warn(f'bad complexity range')\n",
      "  4%|█▋                                         | 4/100 [00:24<09:47,  6.12s/it]/accounts/projects/vision/.local/lib/python3.7/site-packages/sklearn/base.py:338: UserWarning: Trying to unpickle estimator DecisionTreeRegressor from version 1.0.1 when using version 1.0.2. This might lead to breaking code or invalid results. Use at your own risk. For more info please refer to:\n",
      "https://scikit-learn.org/stable/modules/model_persistence.html#security-maintainability-limitations\n",
      "  UserWarning,\n",
      "  5%|██▏                                        | 5/100 [00:32<10:23,  6.56s/it]/accounts/projects/vision/.local/lib/python3.7/site-packages/sklearn/base.py:338: UserWarning: Trying to unpickle estimator DecisionTreeClassifier from version 1.0.1 when using version 1.0.2. This might lead to breaking code or invalid results. Use at your own risk. For more info please refer to:\n",
      "https://scikit-learn.org/stable/modules/model_persistence.html#security-maintainability-limitations\n",
      "  UserWarning,\n",
      "100%|█████████████████████████████████████████| 100/100 [08:54<00:00,  5.34s/it]\n",
      "successfully processed 80 / 100 individual seeds\n",
      "100%|███████████████████████████████████████████| 20/20 [08:09<00:00, 24.45s/it]\n",
      "successfully processed 20 / 20 averaged seeds\n"
     ]
    }
   ],
   "source": [
    "# run comparison aggregations\n",
    "!python3 02_aggregate_results.py"
   ]
  },
  {
   "cell_type": "markdown",
   "metadata": {},
   "source": [
    "# overarching plots"
   ]
  },
  {
   "cell_type": "code",
   "execution_count": null,
   "metadata": {
    "tags": []
   },
   "outputs": [],
   "source": [
    "viz.plot_bests(metric='rocauc',\n",
    "                     datasets=DATASETS_CLASSIFICATION,\n",
    "                models_to_include=['Linear', 'CART', 'FIGS', 'RandomForest', 'RFFIGS-10', 'RFFIGS-10-sub50'], # FIGS, BaggingFIGS, 'RFFIGS-log2', 'RFFIGS', 'RFFIGS-10-sub75'\n",
    "                config_name='figs_ensembles')"
   ]
  },
  {
   "cell_type": "code",
   "execution_count": null,
   "metadata": {},
   "outputs": [],
   "source": [
    "viz.plot_bests(metric='r2',\n",
    "                     datasets=DATASETS_REGRESSION,\n",
    "                models_to_include=['Linear', 'CART', 'FIGS', 'RandomForest', 'RFFIGS-10', 'RFFIGS-10sub50'], # FIGS, 'BaggingFIGS', 'RFFIGS-log2', 'RFFIGS', \n",
    "                config_name='figs_ensembles')"
   ]
  },
  {
   "cell_type": "code",
   "execution_count": null,
   "metadata": {},
   "outputs": [],
   "source": [
    "# df = pkl.load(open('results/saps/friedman1/train-test/results_aggregated.pkl', 'rb'))['df_mean']\n",
    "df.keys()"
   ]
  }
 ],
 "metadata": {
  "jupytext": {
   "formats": "ipynb,../../tests/notebooks//py:percent"
  },
  "kernelspec": {
   "display_name": "Python 3.7",
   "language": "python",
   "name": "python3.7"
  },
  "language_info": {
   "codemirror_mode": {
    "name": "ipython",
    "version": 3
   },
   "file_extension": ".py",
   "mimetype": "text/x-python",
   "name": "python",
   "nbconvert_exporter": "python",
   "pygments_lexer": "ipython3",
   "version": "3.7.5"
  }
 },
 "nbformat": 4,
 "nbformat_minor": 4
}
