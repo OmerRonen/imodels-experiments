{
 "cells": [
  {
   "cell_type": "code",
   "execution_count": 11,
   "metadata": {},
   "outputs": [
    {
     "name": "stdout",
     "output_type": "stream",
     "text": [
      "The autoreload extension is already loaded. To reload it, use:\n",
      "  %reload_ext autoreload\n",
      "num_datasets 14 9\n"
     ]
    }
   ],
   "source": [
    "%load_ext autoreload\n",
    "%autoreload 2\n",
    "%matplotlib inline\n",
    "import os\n",
    "import pickle as pkl\n",
    "from os.path import join as oj\n",
    "\n",
    "import dvu\n",
    "import matplotlib as mpl\n",
    "import matplotlib.pyplot as plt\n",
    "from math import ceil\n",
    "from tqdm import tqdm\n",
    "import numpy as np\n",
    "import matplotlib.patches as patches\n",
    "import sys\n",
    "sys.path.append('..')\n",
    "\n",
    "mpl.rcParams['figure.dpi'] = 250\n",
    "mpl.rcParams['axes.spines.top'] = False\n",
    "mpl.rcParams['axes.spines.right'] = False\n",
    "\n",
    "# change working directory to project root\n",
    "while os.getcwd().split('/')[-1] != 'imodels-experiments':\n",
    "    os.chdir('..')\n",
    "\n",
    "from config.figs_ensembles.datasets import DATASETS_CLASSIFICATION, DATASETS_REGRESSION\n",
    "import viz\n",
    "\n",
    "print('num_datasets', len(DATASETS_CLASSIFICATION), len(DATASETS_REGRESSION))\n",
    "\n",
    "prop_cycle = plt.rcParams['axes.prop_cycle']\n",
    "colors = prop_cycle.by_key()['color']"
   ]
  },
  {
   "cell_type": "code",
   "execution_count": null,
   "metadata": {},
   "outputs": [],
   "source": [
    "# run comparison aggregations\n",
    "!python3 02_aggregate_results.py"
   ]
  },
  {
   "cell_type": "markdown",
   "metadata": {},
   "source": [
    "# overarching plots"
   ]
  },
  {
   "cell_type": "code",
   "execution_count": 6,
   "metadata": {},
   "outputs": [],
   "source": [
    "import pandas as pd"
   ]
  },
  {
   "cell_type": "code",
   "execution_count": 7,
   "metadata": {},
   "outputs": [
    {
     "data": {
      "text/html": [
       "<div>\n",
       "<style scoped>\n",
       "    .dataframe tbody tr th:only-of-type {\n",
       "        vertical-align: middle;\n",
       "    }\n",
       "\n",
       "    .dataframe tbody tr th {\n",
       "        vertical-align: top;\n",
       "    }\n",
       "\n",
       "    .dataframe thead th {\n",
       "        text-align: right;\n",
       "    }\n",
       "</style>\n",
       "<table border=\"1\" class=\"dataframe\">\n",
       "  <thead>\n",
       "    <tr style=\"text-align: right;\">\n",
       "      <th></th>\n",
       "      <th>0</th>\n",
       "      <th>1</th>\n",
       "      <th>2</th>\n",
       "    </tr>\n",
       "  </thead>\n",
       "  <tbody>\n",
       "    <tr>\n",
       "      <th>0</th>\n",
       "      <td>sonar</td>\n",
       "      <td>sonar</td>\n",
       "      <td>pmlb</td>\n",
       "    </tr>\n",
       "    <tr>\n",
       "      <th>1</th>\n",
       "      <td>heart</td>\n",
       "      <td>heart</td>\n",
       "      <td>imodels</td>\n",
       "    </tr>\n",
       "    <tr>\n",
       "      <th>2</th>\n",
       "      <td>breast-cancer</td>\n",
       "      <td>breast_cancer</td>\n",
       "      <td>imodels</td>\n",
       "    </tr>\n",
       "    <tr>\n",
       "      <th>3</th>\n",
       "      <td>haberman</td>\n",
       "      <td>haberman</td>\n",
       "      <td>imodels</td>\n",
       "    </tr>\n",
       "    <tr>\n",
       "      <th>4</th>\n",
       "      <td>ionosphere</td>\n",
       "      <td>ionosphere</td>\n",
       "      <td>pmlb</td>\n",
       "    </tr>\n",
       "    <tr>\n",
       "      <th>5</th>\n",
       "      <td>diabetes</td>\n",
       "      <td>diabetes</td>\n",
       "      <td>pmlb</td>\n",
       "    </tr>\n",
       "    <tr>\n",
       "      <th>6</th>\n",
       "      <td>german-credit</td>\n",
       "      <td>german</td>\n",
       "      <td>pmlb</td>\n",
       "    </tr>\n",
       "    <tr>\n",
       "      <th>7</th>\n",
       "      <td>iai-pecarn</td>\n",
       "      <td>iai_pecarn_pred.csv</td>\n",
       "      <td>imodels</td>\n",
       "    </tr>\n",
       "    <tr>\n",
       "      <th>8</th>\n",
       "      <td>tbi-pecarn</td>\n",
       "      <td>tbi_pecarn_pred.csv</td>\n",
       "      <td>imodels</td>\n",
       "    </tr>\n",
       "    <tr>\n",
       "      <th>9</th>\n",
       "      <td>csi-pecarn</td>\n",
       "      <td>csi_pecarn_pred.csv</td>\n",
       "      <td>imodels</td>\n",
       "    </tr>\n",
       "    <tr>\n",
       "      <th>10</th>\n",
       "      <td>juvenile</td>\n",
       "      <td>juvenile_clean</td>\n",
       "      <td>imodels</td>\n",
       "    </tr>\n",
       "    <tr>\n",
       "      <th>11</th>\n",
       "      <td>recidivism</td>\n",
       "      <td>compas_two_year_clean</td>\n",
       "      <td>imodels</td>\n",
       "    </tr>\n",
       "    <tr>\n",
       "      <th>12</th>\n",
       "      <td>credit</td>\n",
       "      <td>credit_card_clean</td>\n",
       "      <td>imodels</td>\n",
       "    </tr>\n",
       "    <tr>\n",
       "      <th>13</th>\n",
       "      <td>readmission</td>\n",
       "      <td>readmission_clean</td>\n",
       "      <td>imodels</td>\n",
       "    </tr>\n",
       "  </tbody>\n",
       "</table>\n",
       "</div>"
      ],
      "text/plain": [
       "                0                      1        2\n",
       "0           sonar                  sonar     pmlb\n",
       "1           heart                  heart  imodels\n",
       "2   breast-cancer          breast_cancer  imodels\n",
       "3        haberman               haberman  imodels\n",
       "4      ionosphere             ionosphere     pmlb\n",
       "5        diabetes               diabetes     pmlb\n",
       "6   german-credit                 german     pmlb\n",
       "7      iai-pecarn    iai_pecarn_pred.csv  imodels\n",
       "8      tbi-pecarn    tbi_pecarn_pred.csv  imodels\n",
       "9      csi-pecarn    csi_pecarn_pred.csv  imodels\n",
       "10       juvenile         juvenile_clean  imodels\n",
       "11     recidivism  compas_two_year_clean  imodels\n",
       "12         credit      credit_card_clean  imodels\n",
       "13    readmission      readmission_clean  imodels"
      ]
     },
     "execution_count": 7,
     "metadata": {},
     "output_type": "execute_result"
    }
   ],
   "source": [
    "pd.DataFrame(DATASETS_CLASSIFICATION)"
   ]
  },
  {
   "cell_type": "code",
   "execution_count": 12,
   "metadata": {},
   "outputs": [
    {
     "name": "stderr",
     "output_type": "stream",
     "text": [
      "100%|##########| 1/1 [00:00<00:00, 28.76it/s]\n"
     ]
    },
    {
     "data": {
      "image/png": "[encoded data removed]",
      "text/plain": [
       "<Figure size 2250x625 with 1 Axes>"
      ]
     },
     "metadata": {},
     "output_type": "display_data"
    }
   ],
   "source": [
    "viz.plot_bests(metric='rocauc',\n",
    "                     datasets=[DATASETS_CLASSIFICATION[1]],\n",
    "                models_to_include=['RandomForest'],\n",
    "#                 models_to_include=['FIGS', 'RandomForest', 'RFFIGS-10', 'RFFIGS-10-sub50'], # FIGS, BaggingFIGS, 'RFFIGS-log2', 'RFFIGS', 'RFFIGS-10-sub75'\n",
    "                config_name='figs_ensembles')\n",
    "plt.show()"
   ]
  },
  {
   "cell_type": "code",
   "execution_count": null,
   "metadata": {
    "tags": []
   },
   "outputs": [],
   "source": [
    "viz.plot_bests(metric='rocauc',\n",
    "                     datasets=DATASETS_CLASSIFICATION,\n",
    "                models_to_include=['Linear', 'CART', 'FIGS', 'RandomForest', 'RFFIGS-10', 'RFFIGS-10-sub50'], # FIGS, BaggingFIGS, 'RFFIGS-log2', 'RFFIGS', 'RFFIGS-10-sub75'\n",
    "                config_name='figs_ensembles')"
   ]
  },
  {
   "cell_type": "code",
   "execution_count": null,
   "metadata": {},
   "outputs": [],
   "source": [
    "viz.plot_bests(metric='r2',\n",
    "                     datasets=DATASETS_REGRESSION,\n",
    "                models_to_include=['Linear', 'CART', 'FIGS', 'RandomForest', 'RFFIGS-10', 'RFFIGS-10sub50'], # FIGS, 'BaggingFIGS', 'RFFIGS-log2', 'RFFIGS', \n",
    "                config_name='figs_ensembles')"
   ]
  },
  {
   "cell_type": "code",
   "execution_count": null,
   "metadata": {},
   "outputs": [],
   "source": [
    "# df = pkl.load(open('results/saps/friedman1/train-test/results_aggregated.pkl', 'rb'))['df_mean']\n",
    "df.keys()"
   ]
  }
 ],
 "metadata": {
  "jupytext": {
   "formats": "ipynb,../../tests/notebooks//py:percent"
  },
  "kernelspec": {
   "display_name": "Xeus Python 3.8",
   "language": "python",
   "name": "xpython"
  },
  "language_info": {
   "file_extension": ".py",
   "mimetype": "text/x-python",
   "name": "python",
   "version": "3.8.13"
  }
 },
 "nbformat": 4,
 "nbformat_minor": 4
}
