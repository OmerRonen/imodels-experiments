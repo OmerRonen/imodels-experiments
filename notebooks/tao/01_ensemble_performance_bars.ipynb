{
 "cells": [
  {
   "cell_type": "code",
   "execution_count": 1,
   "metadata": {},
   "outputs": [
    {
     "name": "stdout",
     "output_type": "stream",
     "text": [
      "num_datasets 11 9\n"
     ]
    }
   ],
   "source": [
    "%load_ext autoreload\n",
    "%autoreload 2\n",
    "import os\n",
    "import pickle as pkl\n",
    "from os.path import join as oj\n",
    "\n",
    "import dvu\n",
    "import matplotlib as mpl\n",
    "import matplotlib.pyplot as plt\n",
    "from math import ceil\n",
    "from tqdm import tqdm\n",
    "import numpy as np\n",
    "import matplotlib.patches as patches\n",
    "import sys\n",
    "sys.path.append('..')\n",
    "\n",
    "mpl.rcParams['figure.dpi'] = 250\n",
    "mpl.rcParams['axes.spines.top'] = False\n",
    "mpl.rcParams['axes.spines.right'] = False\n",
    "\n",
    "# change working directory to project root\n",
    "while os.getcwd().split('/')[-1] != 'imodels-experiments':\n",
    "    os.chdir('..')\n",
    "\n",
    "from config.tao.datasets import DATASETS_CLASSIFICATION, DATASETS_REGRESSION\n",
    "import viz\n",
    "\n",
    "print('num_datasets', len(DATASETS_CLASSIFICATION), len(DATASETS_REGRESSION))\n",
    "\n",
    "prop_cycle = plt.rcParams['axes.prop_cycle']\n",
    "colors = prop_cycle.by_key()['color']"
   ]
  },
  {
   "cell_type": "code",
   "execution_count": 2,
   "metadata": {},
   "outputs": [
    {
     "name": "stdout",
     "output_type": "stream",
     "text": [
      "  0%|                                                    | 0/14 [00:00<?, ?it/s]02_aggregate_results.py:53: UserWarning: bad complexity range\n",
      "  warnings.warn(f'bad complexity range')\n",
      "100%|███████████████████████████████████████████| 14/14 [00:04<00:00,  3.29it/s]\n",
      "successfully processed 13 / 14 individual seeds\n",
      "100%|███████████████████████████████████████████| 14/14 [00:03<00:00,  3.54it/s]\n",
      "successfully processed 14 / 14 averaged seeds\n"
     ]
    }
   ],
   "source": [
    "# run comparison aggregations\n",
    "!python3 02_aggregate_results.py"
   ]
  },
  {
   "cell_type": "markdown",
   "metadata": {},
   "source": [
    "# overarching plots"
   ]
  },
  {
   "cell_type": "code",
   "execution_count": null,
   "metadata": {
    "tags": []
   },
   "outputs": [],
   "source": [
    "viz.plot_bests(metric='rocauc',\n",
    "                     datasets=DATASETS_CLASSIFICATION,\n",
    "                models_to_include=['CART', 'RandomForest'], # FIGS, BaggingFIGS, 'RFFIGS-log2', 'RFFIGS', \n",
    "                config_name='tao')"
   ]
  },
  {
   "cell_type": "code",
   "execution_count": null,
   "metadata": {},
   "outputs": [
    {
     "name": "stderr",
     "output_type": "stream",
     "text": [
      "  0%|                                                                                                                                                                             | 0/9 [00:00<?, ?it/s]/Users/chandan/venvs/imodels/lib/python3.7/site-packages/matplotlib/axes/_base.py:2283: UserWarning: Warning: converting a masked element to nan.\n",
      "  xys = np.asarray(xys)\n",
      " 33%|███████████████████████████████████████████████████████                                                                                                              | 3/9 [00:00<00:00, 24.31it/s]/Users/chandan/rules/imodels-experiments/viz.py:248: UserWarning: tried BaggingTao but valid keys are dict_keys(['CART', 'RandomForest'])\n",
      "  warnings.warn(f'tried {name} but valid keys are {df.groupby(\"estimator\").groups.keys()}')\n",
      "100%|█████████████████████████████████████████████████████████████████████████████████████████████████████████████████████████████████████████████████████████████████████| 9/9 [00:01<00:00,  4.98it/s]\n"
     ]
    }
   ],
   "source": [
    "viz.plot_bests(metric='r2',\n",
    "                     datasets=DATASETS_REGRESSION,\n",
    "                models_to_include=['CART', 'RandomForest', 'BaggingTao'], # FIGS, 'BaggingFIGS', 'RFFIGS-log2', 'RFFIGS', \n",
    "                config_name='tao')"
   ]
  },
  {
   "cell_type": "code",
   "execution_count": null,
   "metadata": {},
   "outputs": [],
   "source": [
    "# df = pkl.load(open('results/saps/friedman1/train-test/results_aggregated.pkl', 'rb'))['df_mean']\n",
    "df.keys()"
   ]
  }
 ],
 "metadata": {
  "jupytext": {
   "formats": "ipynb,../../tests/notebooks//py:percent"
  },
  "kernelspec": {
   "display_name": "Python 3 (ipykernel)",
   "language": "python",
   "name": "python3"
  },
  "language_info": {
   "codemirror_mode": {
    "name": "ipython",
    "version": 3
   },
   "file_extension": ".py",
   "mimetype": "text/x-python",
   "name": "python",
   "nbconvert_exporter": "python",
   "pygments_lexer": "ipython3",
   "version": "3.7.0"
  }
 },
 "nbformat": 4,
 "nbformat_minor": 4
}
