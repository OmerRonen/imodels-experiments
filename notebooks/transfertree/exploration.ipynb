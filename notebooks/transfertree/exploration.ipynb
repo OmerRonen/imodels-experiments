{
 "cells": [
  {
   "cell_type": "code",
   "execution_count": 30,
   "metadata": {},
   "outputs": [
    {
     "name": "stdout",
     "output_type": "stream",
     "text": [
      "The autoreload extension is already loaded. To reload it, use:\n",
      "  %reload_ext autoreload\n"
     ]
    }
   ],
   "source": [
    "%load_ext autoreload\n",
    "%autoreload 2\n",
    "import os\n",
    "import pickle as pkl\n",
    "from functools import partial\n",
    "from os.path import join as oj\n",
    "import warnings\n",
    "\n",
    "import numpy as np\n",
    "import pandas as pd\n",
    "from tqdm import tqdm\n",
    "\n",
    "pd.set_option('display.max_rows', 500)\n",
    "pd.set_option('display.max_columns', 50)\n",
    "from sklearn.tree import DecisionTreeClassifier, plot_tree\n",
    "from sklearn import metrics, model_selection\n",
    "from sklearn.neighbors import KernelDensity\n",
    "\n",
    "import imodels\n",
    "from imodels.util import data_util\n",
    "from imodels.discretization import discretizer, simple\n",
    "\n",
    "import matplotlib as mpl\n",
    "import matplotlib.pyplot as plt\n",
    "import seaborn as sns\n",
    "\n",
    "mpl.rcParams['figure.dpi'] = 250\n",
    "\n",
    "# change working directory to project root\n",
    "while os.getcwd().split('/')[-1] != 'imodels-experiments':\n",
    "    os.chdir('..')\n",
    "\n",
    "import viz\n",
    "import validate\n",
    "# from local_models.stable import StableLinearClassifier as stbl_local\n",
    "# from experiments.util import get_comparison_result\n",
    "\n",
    "np.random.seed(0)"
   ]
  },
  {
   "cell_type": "code",
   "execution_count": 31,
   "metadata": {},
   "outputs": [],
   "source": [
    "class TransferTree:\n",
    "\n",
    "    def __init__(self, num_groups: int, *args, **kwargs):\n",
    "        self.trees = [\n",
    "            DecisionTreeClassifier(*args, **kwargs) for _ in range(num_groups)\n",
    "        ]\n",
    "\n",
    "    def fit(self, X, y, sample_weights):\n",
    "        for tree, weight in zip(self.trees, sample_weights):\n",
    "            tree.fit(X, y, weight)\n",
    "        return self\n",
    "\n",
    "    def predict(self, X, subgroups):\n",
    "        preds = np.zeros(X.shape[0])\n",
    "        for tree, subgroup in zip(self.trees, subgroups):\n",
    "            preds[subgroup] = tree.predict(X[subgroup])\n",
    "        return preds\n",
    "    \n",
    "    def predict_proba(self, X, subgroups):\n",
    "        preds_proba = np.zeros((X.shape[0], 2))\n",
    "        for tree, subgroup in zip(self.trees, subgroups):\n",
    "            preds_proba[subgroup] = tree.predict_proba(X[subgroup])\n",
    "        return preds_proba\n",
    "\n",
    "\n",
    "def print_results(model, X_test, y_test, test_subgroups):\n",
    "    if isinstance(model, TransferTree):\n",
    "        pred_proba_args = (X_test, test_subgroups)\n",
    "        tree_0 = model.trees[0]\n",
    "        tree_1 = model.trees[1]\n",
    "    else:\n",
    "        pred_proba_args = (X_test,)\n",
    "        tree_0, tree_1 = model, model\n",
    "\n",
    "    spec_scorer = validate.make_best_spec_high_sens_scorer(0.95)\n",
    "    print('spec: ', spec_scorer(y_test, model.predict_proba(*pred_proba_args)[:, 1]))\n",
    "    print('APC: ', metrics.average_precision_score(y_test, model.predict_proba(*pred_proba_args)[:, 1]))\n",
    "    print('AUC: ', metrics.roc_auc_score(y_test, model.predict_proba(*pred_proba_args)[:, 1]))\n",
    "\n",
    "    # y_test_0, y_test_1 = y_test[~test_subgroups[1]], y_test[test_subgroups[1]]\n",
    "    # X_test_0, X_test_1 = X_test[~test_subgroups[1]], X_test[test_subgroups[1]]\n",
    "\n",
    "    # y_score_0 = tree_0.predict_proba(X_test_0)[:, 1]\n",
    "    # print('group 0 spec: ', spec_scorer(y_test_0, y_score_0))\n",
    "    # print('group 0 APC: ', metrics.average_precision_score(y_test_0, y_score_0))\n",
    "    # print('group 0 AUC: ', metrics.roc_auc_score(y_test_0, y_score_0))\n",
    "\n",
    "    # y_score_1 = tree_1.predict_proba(X_test_1)[:, 1]\n",
    "    # print('group 1 spec: ', spec_scorer(y_test_1, y_score_1))\n",
    "    # print('group 1 APC: ', metrics.average_precision_score(y_test_1, y_score_1))\n",
    "    # print('group 1 AUC: ', metrics.roc_auc_score(y_test_1, y_score_1))\n"
   ]
  },
  {
   "cell_type": "code",
   "execution_count": 32,
   "metadata": {},
   "outputs": [],
   "source": [
    "X, y, feature_names = data_util.get_clean_dataset('csi_with_meta_keys.csv', data_source='imodels')\n",
    "X_df = pd.DataFrame(X, columns=feature_names)\n",
    "X_df_clean = X_df.drop(columns=['SITE', 'AgeInYears'])\n",
    "X, feature_names = X_df_clean.values, X_df_clean.columns.values\n",
    "X_train, X_test, y_train, y_test = model_selection.train_test_split(X, y, random_state=2)"
   ]
  },
  {
   "cell_type": "markdown",
   "metadata": {},
   "source": [
    "## age split"
   ]
  },
  {
   "cell_type": "code",
   "execution_count": 34,
   "metadata": {},
   "outputs": [],
   "source": [
    "def get_subgroups_age(df, cutoff = 4):\n",
    "    max = df['AgeInYears'].max()\n",
    "    is_group_1 = df['AgeInYears'] > cutoff\n",
    "    p_group_1 = 0.5 / cutoff * df['AgeInYears']\n",
    "    p_group_1[is_group_1] = 0.5 / (max - cutoff) * (df.loc[is_group_1, 'AgeInYears'] - cutoff) + 0.5\n",
    "    return is_group_1, p_group_1\n",
    "\n",
    "is_group_1, p_group_1 = get_subgroups_age(X_df, 7)\n",
    "is_group_1_train, is_group_1_test, p_group_1_train, p_group_1_test = model_selection.train_test_split(\n",
    "    is_group_1, p_group_1, random_state=2)\n",
    "age_groups_test = [~is_group_1_test, is_group_1_test]\n",
    "# age_groups_train, age_groups_test = zip(*[\n",
    "#     model_selection.train_test_split(group, random_state=2) for group in age_groups])"
   ]
  },
  {
   "cell_type": "code",
   "execution_count": 36,
   "metadata": {},
   "outputs": [],
   "source": [
    "dtree_args = {'max_leaf_nodes': 8, 'class_weight': {0: 1, 1: 6}, 'random_state': 0}"
   ]
  },
  {
   "cell_type": "markdown",
   "metadata": {},
   "source": [
    "### plain cart"
   ]
  },
  {
   "cell_type": "code",
   "execution_count": 37,
   "metadata": {},
   "outputs": [
    {
     "name": "stdout",
     "output_type": "stream",
     "text": [
      "spec:  0.004341534008683068\n",
      "APC:  0.3850632074339372\n",
      "AUC:  0.7852828289183916\n"
     ]
    }
   ],
   "source": [
    "cart = DecisionTreeClassifier(max_leaf_nodes=16, class_weight={0: 1, 1: 6})\n",
    "cart.fit(X_train, y_train)\n",
    "print_results(cart, X_test, y_test, age_groups_test)"
   ]
  },
  {
   "cell_type": "markdown",
   "metadata": {},
   "source": [
    "### two trees, no transfer"
   ]
  },
  {
   "cell_type": "code",
   "execution_count": 38,
   "metadata": {},
   "outputs": [
    {
     "name": "stdout",
     "output_type": "stream",
     "text": [
      "spec:  0.14182344428364688\n",
      "APC:  0.39299643947229146\n",
      "AUC:  0.7772551857211771\n"
     ]
    }
   ],
   "source": [
    "age_sample_weights_train = [(~is_group_1_train).astype(int), is_group_1_train.astype(int)]\n",
    "subcart_no_transfer = TransferTree(2, **dtree_args)\n",
    "subcart_no_transfer.fit(X_train, y_train, age_sample_weights_train)\n",
    "print_results(subcart_no_transfer, X_test, y_test, age_groups_test)"
   ]
  },
  {
   "cell_type": "markdown",
   "metadata": {},
   "source": [
    "### linear transfer"
   ]
  },
  {
   "cell_type": "code",
   "execution_count": 39,
   "metadata": {},
   "outputs": [
    {
     "name": "stdout",
     "output_type": "stream",
     "text": [
      "spec:  0.13748191027496381\n",
      "APC:  0.3819664167355267\n",
      "AUC:  0.7824199333039703\n"
     ]
    }
   ],
   "source": [
    "age_sample_weights_train = [1 - p_group_1_train, p_group_1_train]\n",
    "linear_transfer = TransferTree(2, **dtree_args)\n",
    "linear_transfer.fit(X_train, y_train, age_sample_weights_train)\n",
    "print_results(linear_transfer, X_test, y_test, age_groups_test)"
   ]
  },
  {
   "cell_type": "markdown",
   "metadata": {},
   "source": [
    "### linear one-way transfer (higher -> lower)"
   ]
  },
  {
   "cell_type": "code",
   "execution_count": 40,
   "metadata": {},
   "outputs": [
    {
     "name": "stdout",
     "output_type": "stream",
     "text": [
      "spec:  0.13748191027496381\n",
      "APC:  0.3819664167355267\n",
      "AUC:  0.7824199333039703\n"
     ]
    }
   ],
   "source": [
    "age_sample_weights_train = [1 - p_group_1_train, is_group_1_train.astype(int)]\n",
    "linear_onew = TransferTree(2, **dtree_args)\n",
    "linear_onew.fit(X_train, y_train, age_sample_weights_train)\n",
    "print_results(linear_onew, X_test, y_test, age_groups_test)"
   ]
  },
  {
   "cell_type": "markdown",
   "metadata": {},
   "source": [
    "### density transfer"
   ]
  },
  {
   "cell_type": "code",
   "execution_count": 41,
   "metadata": {},
   "outputs": [],
   "source": [
    "# kde = KernelDensity()\n",
    "# kde.fit(np.expand_dims(X_df['AgeInYears'].values, axis=1))\n",
    "# np.exp(kde.score([[14]]))"
   ]
  },
  {
   "cell_type": "code",
   "execution_count": 42,
   "metadata": {},
   "outputs": [
    {
     "data": {
      "text/plain": [
       "<AxesSubplot:xlabel='AgeInYears', ylabel='Density'>"
      ]
     },
     "execution_count": 42,
     "metadata": {},
     "output_type": "execute_result"
    },
    {
     "data": {
      "image/png": "[encoded data removed]",
      "text/plain": [
       "<Figure size 2500x1000 with 2 Axes>"
      ]
     },
     "metadata": {
      "needs_background": "light"
     },
     "output_type": "display_data"
    }
   ],
   "source": [
    "fig, axes = plt.subplots(1, 2, figsize=(10, 4))\n",
    "sns.histplot(X_df['AgeInYears'], ax=axes[0], kde=True)\n",
    "sns.kdeplot(X_df['AgeInYears'], cumulative=True, ax=axes[1])"
   ]
  },
  {
   "cell_type": "code",
   "execution_count": 43,
   "metadata": {},
   "outputs": [],
   "source": [
    "cdf_x, cdf_y = axes[1].lines[0].get_xdata(), axes[1].lines[0].get_ydata()\n",
    "def kde_cdf(x):\n",
    "    return cdf_y[np.searchsorted(cdf_x, x)]"
   ]
  },
  {
   "cell_type": "code",
   "execution_count": 44,
   "metadata": {},
   "outputs": [],
   "source": [
    "p_group_1_sig = X_df['AgeInYears'].apply(kde_cdf)\n",
    "p_group_1_sig_train, p_group_1_sig_test = model_selection.train_test_split(\n",
    "    p_group_1_sig, random_state=0)\n",
    "age_sample_weights_train = [1 - p_group_1_sig_train, p_group_1_sig_train]"
   ]
  },
  {
   "cell_type": "code",
   "execution_count": 45,
   "metadata": {},
   "outputs": [
    {
     "name": "stdout",
     "output_type": "stream",
     "text": [
      "spec:  0.2735166425470333\n",
      "APC:  0.37708172686278874\n",
      "AUC:  0.784396694561547\n"
     ]
    }
   ],
   "source": [
    "kde_transfer = TransferTree(2, **dtree_args)\n",
    "kde_transfer.fit(X_train, y_train, age_sample_weights_train)\n",
    "print_results(kde_transfer, X_test, y_test, age_groups_test)"
   ]
  },
  {
   "cell_type": "markdown",
   "metadata": {},
   "source": [
    "### sigmoidal transfer"
   ]
  },
  {
   "cell_type": "code",
   "execution_count": 46,
   "metadata": {},
   "outputs": [],
   "source": [
    "p_group_1_sig = 1 / (1 + np.exp(-5 * (X_df['AgeInYears'] - 7)))\n",
    "p_group_1_sig_train, p_group_1_sig_test = model_selection.train_test_split(p_group_1_sig, random_state=0)\n",
    "age_sample_weights_train = [1 - p_group_1_sig_train, p_group_1_sig_train]"
   ]
  },
  {
   "cell_type": "code",
   "execution_count": 47,
   "metadata": {},
   "outputs": [
    {
     "name": "stdout",
     "output_type": "stream",
     "text": [
      "spec:  0.13748191027496381\n",
      "APC:  0.3723711184671986\n",
      "AUC:  0.7828236749931836\n"
     ]
    }
   ],
   "source": [
    "sig_transfer = TransferTree(2, **dtree_args)\n",
    "sig_transfer.fit(X_train, y_train, age_sample_weights_train)\n",
    "print_results(sig_transfer, X_test, y_test, age_groups_test)"
   ]
  },
  {
   "cell_type": "markdown",
   "metadata": {},
   "source": [
    "### sigmoidal one-way transfer (higher -> lower)\\"
   ]
  },
  {
   "cell_type": "code",
   "execution_count": 48,
   "metadata": {},
   "outputs": [
    {
     "name": "stdout",
     "output_type": "stream",
     "text": [
      "spec:  0.13748191027496381\n",
      "APC:  0.3729538782757635\n",
      "AUC:  0.785240881729902\n"
     ]
    }
   ],
   "source": [
    "age_sample_weights_train = [1 - p_group_1_sig_train, is_group_1_train.astype(int)]\n",
    "sig_onew = TransferTree(2, **dtree_args)\n",
    "sig_onew.fit(X_train, y_train, age_sample_weights_train)\n",
    "print_results(sig_onew, X_test, y_test, age_groups_test)"
   ]
  },
  {
   "cell_type": "markdown",
   "metadata": {},
   "source": [
    "### step transfer"
   ]
  },
  {
   "cell_type": "code",
   "execution_count": 49,
   "metadata": {},
   "outputs": [],
   "source": [
    "p_group_1_sig_train = is_group_1_train.astype(int) * 0.6\n",
    "p_group_1_sig_train[p_group_1_sig_train == 0] = 0.4\n",
    "age_sample_weights_train = [1 - p_group_1_sig_train, p_group_1_sig_train]"
   ]
  },
  {
   "cell_type": "code",
   "execution_count": 50,
   "metadata": {},
   "outputs": [
    {
     "name": "stdout",
     "output_type": "stream",
     "text": [
      "spec:  0.13748191027496381\n",
      "APC:  0.3918771209313332\n",
      "AUC:  0.7979770968350846\n"
     ]
    }
   ],
   "source": [
    "step_transfer = TransferTree(2, **dtree_args)\n",
    "step_transfer.fit(X_train, y_train, age_sample_weights_train)\n",
    "print_results(step_transfer, X_test, y_test, age_groups_test)"
   ]
  },
  {
   "cell_type": "markdown",
   "metadata": {},
   "source": [
    "## site split"
   ]
  },
  {
   "cell_type": "code",
   "execution_count": 52,
   "metadata": {},
   "outputs": [],
   "source": [
    "n_sites = X_df['SITE'].unique().shape[0]\n",
    "site_groups = [\n",
    "    X_df['SITE'] == site for site in X_df['SITE'].unique()]\n",
    "site_groups_train, site_groups_test = zip(*[\n",
    "    model_selection.train_test_split(group, random_state=2) for group in site_groups])\n",
    "dtree_args['max_leaf_nodes'] = 4"
   ]
  },
  {
   "cell_type": "markdown",
   "metadata": {},
   "source": [
    "### plain cart"
   ]
  },
  {
   "cell_type": "code",
   "execution_count": 53,
   "metadata": {},
   "outputs": [
    {
     "name": "stdout",
     "output_type": "stream",
     "text": [
      "spec:  0\n",
      "APC:  0.37602550063137025\n",
      "AUC:  0.7518928668805973\n"
     ]
    }
   ],
   "source": [
    "cart = DecisionTreeClassifier(max_leaf_nodes=n_sites * 4, class_weight={0: 1, 1: 6}, random_state=0)\n",
    "cart.fit(X_train, y_train)\n",
    "print_results(cart, X_test, y_test, age_groups_test)"
   ]
  },
  {
   "cell_type": "markdown",
   "metadata": {},
   "source": [
    "### |sites| trees, no transfer"
   ]
  },
  {
   "cell_type": "code",
   "execution_count": 54,
   "metadata": {},
   "outputs": [
    {
     "name": "stdout",
     "output_type": "stream",
     "text": [
      "spec:  0.08104196816208394\n",
      "APC:  0.31733059551100673\n",
      "AUC:  0.6948918811216678\n"
     ]
    }
   ],
   "source": [
    "site_sample_weights_train = [group.astype(int) for group in site_groups_train]\n",
    "subcart_no_transfer = TransferTree(n_sites, **dtree_args)\n",
    "subcart_no_transfer.fit(X_train, y_train, site_sample_weights_train)\n",
    "print_results(subcart_no_transfer, X_test, y_test, site_groups_test)"
   ]
  },
  {
   "cell_type": "markdown",
   "metadata": {},
   "source": [
    "### step transfer"
   ]
  },
  {
   "cell_type": "code",
   "execution_count": 55,
   "metadata": {},
   "outputs": [
    {
     "name": "stdout",
     "output_type": "stream",
     "text": [
      "spec:  0.3921852387843705\n",
      "APC:  0.3714990400734532\n",
      "AUC:  0.7709368904549172\n"
     ]
    }
   ],
   "source": [
    "site_sample_weights_train = [group.astype(int).replace({0: 0.5}) for group in site_groups_train]\n",
    "step_transfer = TransferTree(17, **dtree_args)\n",
    "step_transfer.fit(X_train, y_train, site_sample_weights_train)\n",
    "print_results(step_transfer, X_test, y_test, site_groups_test)"
   ]
  }
 ],
 "metadata": {
  "interpreter": {
   "hash": "d833dc0779f0f050568351c83cfa2f037bffe4d045df2adc54e8a65e73ce0016"
  },
  "kernelspec": {
   "display_name": "Python 3.10.0 ('imodels-experiments')",
   "language": "python",
   "name": "python3"
  },
  "language_info": {
   "codemirror_mode": {
    "name": "ipython",
    "version": 3
   },
   "file_extension": ".py",
   "mimetype": "text/x-python",
   "name": "python",
   "nbconvert_exporter": "python",
   "pygments_lexer": "ipython3",
   "version": "3.10.0"
  },
  "orig_nbformat": 4
 },
 "nbformat": 4,
 "nbformat_minor": 2
}
