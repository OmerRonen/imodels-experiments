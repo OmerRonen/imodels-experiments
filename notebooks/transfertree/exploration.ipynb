{
 "cells": [
  {
   "cell_type": "code",
   "execution_count": 1,
   "metadata": {},
   "outputs": [],
   "source": [
    "%load_ext autoreload\n",
    "%autoreload 2\n",
    "import os\n",
    "import pickle as pkl\n",
    "from functools import partial\n",
    "from os.path import join as oj\n",
    "\n",
    "import numpy as np\n",
    "import pandas as pd\n",
    "\n",
    "pd.set_option('display.max_rows', 500)\n",
    "pd.set_option('display.max_columns', 50)\n",
    "from sklearn.tree import DecisionTreeClassifier, plot_tree\n",
    "from sklearn import metrics, model_selection\n",
    "\n",
    "import imodels\n",
    "from imodels.util import data_util\n",
    "from imodels.discretization import discretizer, simple\n",
    "\n",
    "import matplotlib as mpl\n",
    "import matplotlib.pyplot as plt\n",
    "\n",
    "mpl.rcParams['figure.dpi'] = 250\n",
    "\n",
    "# change working directory to project root\n",
    "while os.getcwd().split('/')[-1] != 'imodels-experiments':\n",
    "    os.chdir('..')\n",
    "\n",
    "import viz\n",
    "# from local_models.stable import StableLinearClassifier as stbl_local\n",
    "# from experiments.util import get_comparison_result\n",
    "\n",
    "np.random.seed(0)"
   ]
  },
  {
   "cell_type": "code",
   "execution_count": 2,
   "metadata": {},
   "outputs": [],
   "source": [
    "class TransferTree:\n",
    "\n",
    "    def __init__(self, trees, sample_weights):\n",
    "        self.trees = trees\n",
    "        self.sample_weights = sample_weights\n",
    "\n",
    "    def fit(self, X, y):\n",
    "        for tree, weight in zip(self.trees, self.sample_weights):\n",
    "            tree.fit(X, y, weight)\n",
    "        return self\n",
    "\n",
    "    def predict(self, X, subgroups):\n",
    "        preds = np.zeros(X.shape[0])\n",
    "        for tree, subgroup in zip(self.trees, subgroups):\n",
    "            preds[subgroup] = tree.predict(X[subgroup])\n",
    "        return preds\n",
    "    \n",
    "    def predict_proba(self, X, subgroups):\n",
    "        preds_proba = np.zeros((X.shape[0], 2))\n",
    "        for tree, subgroup in zip(self.trees, subgroups):\n",
    "            preds_proba[subgroup] = tree.predict_proba(X[subgroup])\n",
    "        return preds_proba\n",
    "\n",
    "\n",
    "def print_results(model, X_test, y_test, test_subgroups):\n",
    "    # print('acc: ', metrics.accuracy_score(y_test, model.predict(X_test, test_subgroups)))\n",
    "    print('APC: ', metrics.average_precision_score(y_test, model.predict_proba(X_test, test_subgroups)[:, 1]))\n",
    "    print('AUC: ', metrics.roc_auc_score(y_test, model.predict_proba(X_test, test_subgroups)[:, 1]))\n",
    "\n",
    "    y_test_0, y_test_1 = y_test[~test_subgroups[1]], y_test[test_subgroups[1]]\n",
    "    X_test_0, X_test_1 = X_test[~test_subgroups[1]], X_test[test_subgroups[1]]\n",
    "\n",
    "    # print('group 0 acc: ', metrics.accuracy_score(\n",
    "    #     y_test_0, model.trees[0].predict(X_test_0)))\n",
    "    print('group 0 APC: ', metrics.average_precision_score(\n",
    "        y_test_0, model.trees[0].predict_proba(X_test_0)[:, 1]))\n",
    "    print('group 0 AUC: ', metrics.roc_auc_score(\n",
    "        y_test_0, model.trees[0].predict_proba(X_test_0)[:, 1]))\n",
    "    \n",
    "    # print('group 1 acc: ', metrics.accuracy_score(\n",
    "    #     y_test_1, model.trees[0].predict(X_test_1)))\n",
    "    print('group 1 APC: ', metrics.average_precision_score(\n",
    "        y_test_1, model.trees[1].predict_proba(X_test_1)[:, 1]))\n",
    "    print('group 1 AUC: ', metrics.roc_auc_score(\n",
    "        y_test_1, model.trees[1].predict_proba(X_test_1)[:, 1]))\n"
   ]
  },
  {
   "cell_type": "code",
   "execution_count": 3,
   "metadata": {},
   "outputs": [],
   "source": [
    "X, y, feature_names = data_util.get_clean_dataset('csi_with_meta_keys.csv', data_source='imodels')"
   ]
  },
  {
   "cell_type": "code",
   "execution_count": 4,
   "metadata": {},
   "outputs": [],
   "source": [
    "X_df = pd.DataFrame(X, columns=feature_names)"
   ]
  },
  {
   "cell_type": "code",
   "execution_count": 5,
   "metadata": {},
   "outputs": [],
   "source": [
    "cutoff = 4\n",
    "max = X_df['AgeInYears'].max()"
   ]
  },
  {
   "cell_type": "code",
   "execution_count": 6,
   "metadata": {},
   "outputs": [],
   "source": [
    "is_group_1 = X_df['AgeInYears'] > cutoff"
   ]
  },
  {
   "cell_type": "code",
   "execution_count": 7,
   "metadata": {},
   "outputs": [],
   "source": [
    "p_group_1 = 0.5 / cutoff * X_df['AgeInYears']\n",
    "p_group_1[is_group_1] = 0.5 / (max - cutoff) * (X_df.loc[is_group_1, 'AgeInYears'] - cutoff) + 0.5"
   ]
  },
  {
   "cell_type": "code",
   "execution_count": 8,
   "metadata": {},
   "outputs": [],
   "source": [
    "X_df_clean = X_df.drop(columns=['SITE', 'AgeInYears'])"
   ]
  },
  {
   "cell_type": "code",
   "execution_count": 9,
   "metadata": {},
   "outputs": [],
   "source": [
    "X, feature_names = X_df_clean.values, X_df_clean.columns.values\n",
    "X_train, X_test, y_train, y_test, is_group_1_train, is_group_1_test, p_group_1_train, p_group_1_test = (\n",
    "    model_selection.train_test_split(X, y, is_group_1, p_group_1, random_state=0))"
   ]
  },
  {
   "cell_type": "markdown",
   "metadata": {},
   "source": [
    "### plain cart"
   ]
  },
  {
   "cell_type": "code",
   "execution_count": 10,
   "metadata": {},
   "outputs": [
    {
     "name": "stdout",
     "output_type": "stream",
     "text": [
      "APC:  0.3426590940640236\n",
      "AUC:  0.7394838447470027\n",
      "group 0 APC:  0.4949816154749741\n",
      "group 0 AUC:  0.8115828092243187\n",
      "group 1 APC:  0.33472264208711\n",
      "group 1 AUC:  0.7267743036168497\n"
     ]
    }
   ],
   "source": [
    "cart = DecisionTreeClassifier(max_leaf_nodes=8)\n",
    "cart.fit(X_train, y_train)\n",
    "\n",
    "# print(metrics.accuracy_score(y_test, cart.predict(X_test)))\n",
    "print('APC: ', metrics.average_precision_score(y_test, cart.predict_proba(X_test)[:, 1]))\n",
    "print('AUC: ', metrics.roc_auc_score(y_test, cart.predict_proba(X_test)[:, 1]))\n",
    "\n",
    "# print(metrics.accuracy_score(y_test[~is_group_1_test], cart.predict(X_test[~is_group_1_test])))\n",
    "print('group 0 APC: ', metrics.average_precision_score(y_test[~is_group_1_test], cart.predict_proba(X_test[~is_group_1_test])[:, 1]))\n",
    "print('group 0 AUC: ', metrics.roc_auc_score(y_test[~is_group_1_test], cart.predict_proba(X_test[~is_group_1_test])[:, 1]))\n",
    "\n",
    "# print(metrics.accuracy_score(y_test[~is_group_1_test], cart.predict(X_test[~is_group_1_test])))\n",
    "print('group 1 APC: ', metrics.average_precision_score(y_test[is_group_1_test], cart.predict_proba(X_test[is_group_1_test])[:, 1]))\n",
    "print('group 1 AUC: ', metrics.roc_auc_score(y_test[is_group_1_test], cart.predict_proba(X_test[is_group_1_test])[:, 1]))"
   ]
  },
  {
   "cell_type": "markdown",
   "metadata": {},
   "source": [
    "### two trees, no transfer"
   ]
  },
  {
   "cell_type": "code",
   "execution_count": 11,
   "metadata": {},
   "outputs": [
    {
     "name": "stdout",
     "output_type": "stream",
     "text": [
      "APC:  0.3592480198628731\n",
      "AUC:  0.7604597078281289\n",
      "group 0 APC:  0.4500684676206498\n",
      "group 0 AUC:  0.7971698113207547\n",
      "group 1 APC:  0.3452409552595699\n",
      "group 1 AUC:  0.7580572616167256\n"
     ]
    }
   ],
   "source": [
    "subcart_no_transfer = TransferTree(\n",
    "    [DecisionTreeClassifier(max_leaf_nodes=8), DecisionTreeClassifier(max_leaf_nodes=8)],\n",
    "    [(~is_group_1_train).astype(int), is_group_1_train.astype(int)])\n",
    "subcart_no_transfer.fit(X_train, y_train)\n",
    "\n",
    "test_subgroups = [~is_group_1_test, is_group_1_test]\n",
    "print_results(subcart_no_transfer, X_test, y_test, test_subgroups)"
   ]
  },
  {
   "cell_type": "code",
   "execution_count": null,
   "metadata": {},
   "outputs": [],
   "source": [
    "plot_tree(subcart_no_transfer.trees[0], feature_names=feature_names)"
   ]
  },
  {
   "cell_type": "code",
   "execution_count": null,
   "metadata": {},
   "outputs": [],
   "source": [
    "plot_tree(subcart_no_transfer.trees[1], feature_names=feature_names)"
   ]
  },
  {
   "cell_type": "markdown",
   "metadata": {},
   "source": [
    "### linear transfer"
   ]
  },
  {
   "cell_type": "code",
   "execution_count": 13,
   "metadata": {},
   "outputs": [
    {
     "name": "stdout",
     "output_type": "stream",
     "text": [
      "APC:  0.3593844150296934\n",
      "AUC:  0.7524498182392919\n",
      "group 0 APC:  0.5026392716146038\n",
      "group 0 AUC:  0.8930817610062893\n",
      "group 1 APC:  0.33135741102922966\n",
      "group 1 AUC:  0.720570444816676\n"
     ]
    }
   ],
   "source": [
    "transfer = TransferTree(\n",
    "    [DecisionTreeClassifier(max_leaf_nodes=8), DecisionTreeClassifier(max_leaf_nodes=8)],\n",
    "    [1 - p_group_1_train, p_group_1_train])\n",
    "transfer.fit(X_train, y_train)\n",
    "\n",
    "print_results(transfer, X_test, y_test, test_subgroups)"
   ]
  },
  {
   "cell_type": "markdown",
   "metadata": {},
   "source": [
    "### linear one-way transfer (higher -> lower)"
   ]
  },
  {
   "cell_type": "code",
   "execution_count": 14,
   "metadata": {},
   "outputs": [
    {
     "name": "stdout",
     "output_type": "stream",
     "text": [
      "APC:  0.3709575706959853\n",
      "AUC:  0.7814412156517421\n",
      "group 0 APC:  0.5026392716146038\n",
      "group 0 AUC:  0.8930817610062893\n",
      "group 1 APC:  0.3452409552595699\n",
      "group 1 AUC:  0.7580572616167256\n"
     ]
    }
   ],
   "source": [
    "transfer = TransferTree(\n",
    "    [DecisionTreeClassifier(max_leaf_nodes=8), DecisionTreeClassifier(max_leaf_nodes=8)],\n",
    "    [1 - p_group_1_train, is_group_1_train.astype(int)])\n",
    "transfer.fit(X_train, y_train)\n",
    "\n",
    "print_results(transfer, X_test, y_test, test_subgroups)"
   ]
  },
  {
   "cell_type": "markdown",
   "metadata": {},
   "source": [
    "### sigmoidal transfer"
   ]
  },
  {
   "cell_type": "code",
   "execution_count": 15,
   "metadata": {},
   "outputs": [],
   "source": [
    "p_group_1_sig = 1 / (1 + np.exp(-1 * (X_df['AgeInYears'] - 4)))\n",
    "p_group_1_sig_train, p_group_1_sig_test = model_selection.train_test_split(p_group_1_sig, random_state=0)"
   ]
  },
  {
   "cell_type": "code",
   "execution_count": 16,
   "metadata": {},
   "outputs": [
    {
     "name": "stdout",
     "output_type": "stream",
     "text": [
      "APC:  0.36890429583001605\n",
      "AUC:  0.7509200930253563\n",
      "group 0 APC:  0.49171896165234175\n",
      "group 0 AUC:  0.8639937106918238\n",
      "group 1 APC:  0.33135741102922966\n",
      "group 1 AUC:  0.720570444816676\n"
     ]
    }
   ],
   "source": [
    "transfer = TransferTree(\n",
    "    [DecisionTreeClassifier(max_leaf_nodes=8), DecisionTreeClassifier(max_leaf_nodes=8)],\n",
    "    [1 - p_group_1_sig_train, p_group_1_sig_train])\n",
    "transfer.fit(X_train, y_train)\n",
    "\n",
    "print_results(transfer, X_test, y_test, test_subgroups)"
   ]
  },
  {
   "cell_type": "markdown",
   "metadata": {},
   "source": [
    "### sigmoidal one-way transfer (higher -> lower)\\"
   ]
  },
  {
   "cell_type": "code",
   "execution_count": 17,
   "metadata": {},
   "outputs": [
    {
     "name": "stdout",
     "output_type": "stream",
     "text": [
      "APC:  0.38108448086858565\n",
      "AUC:  0.7799002009528325\n",
      "group 0 APC:  0.49171896165234175\n",
      "group 0 AUC:  0.8639937106918238\n",
      "group 1 APC:  0.3452409552595699\n",
      "group 1 AUC:  0.7580572616167256\n"
     ]
    }
   ],
   "source": [
    "transfer = TransferTree(\n",
    "    [DecisionTreeClassifier(max_leaf_nodes=8), DecisionTreeClassifier(max_leaf_nodes=8)],\n",
    "    [1 - p_group_1_sig_train, is_group_1_train.astype(int)])\n",
    "transfer.fit(X_train, y_train)\n",
    "\n",
    "print_results(transfer, X_test, y_test, test_subgroups)"
   ]
  },
  {
   "cell_type": "markdown",
   "metadata": {},
   "source": [
    "### step transfer"
   ]
  },
  {
   "cell_type": "code",
   "execution_count": 24,
   "metadata": {},
   "outputs": [],
   "source": [
    "p_group_1_sig_train = is_group_1_train.astype(int) * 0.8\n",
    "p_group_1_sig_train[p_group_1_sig_train == 0] = 0.2"
   ]
  },
  {
   "cell_type": "code",
   "execution_count": 25,
   "metadata": {},
   "outputs": [
    {
     "name": "stdout",
     "output_type": "stream",
     "text": [
      "APC:  0.3775666062642785\n",
      "AUC:  0.7815484657589922\n",
      "group 0 APC:  0.5635977482119165\n",
      "group 0 AUC:  0.894916142557652\n",
      "group 1 APC:  0.3452409552595699\n",
      "group 1 AUC:  0.7580572616167256\n"
     ]
    }
   ],
   "source": [
    "transfer = TransferTree(\n",
    "    [DecisionTreeClassifier(max_leaf_nodes=8), DecisionTreeClassifier(max_leaf_nodes=8)],\n",
    "    [1 - p_group_1_sig_train, p_group_1_sig_train])\n",
    "transfer.fit(X_train, y_train)\n",
    "\n",
    "print_results(transfer, X_test, y_test, test_subgroups)"
   ]
  },
  {
   "cell_type": "code",
   "execution_count": 233,
   "metadata": {},
   "outputs": [],
   "source": [
    "# fpr, tpr, thres = metrics.roc_curve(y_test, subcart_no_transfer.predict_proba(X_test, test_subgroups)[:, 1])\n",
    "\n",
    "# plt.plot(fpr, tpr)"
   ]
  },
  {
   "cell_type": "code",
   "execution_count": null,
   "metadata": {},
   "outputs": [],
   "source": [
    "# remove meta keys, split into train and test and fit. \n",
    "\n",
    "# try regular cart on the whole thing, subgroup cart w/o transfer, and subgroup cart with transfer\n",
    "\n",
    "# try linear vs sigmoidal transfer function\n",
    "\n",
    "# site split"
   ]
  }
 ],
 "metadata": {
  "interpreter": {
   "hash": "d833dc0779f0f050568351c83cfa2f037bffe4d045df2adc54e8a65e73ce0016"
  },
  "kernelspec": {
   "display_name": "Python 3.10.0 ('imodels-experiments')",
   "language": "python",
   "name": "python3"
  },
  "language_info": {
   "codemirror_mode": {
    "name": "ipython",
    "version": 3
   },
   "file_extension": ".py",
   "mimetype": "text/x-python",
   "name": "python",
   "nbconvert_exporter": "python",
   "pygments_lexer": "ipython3",
   "version": "3.10.0"
  },
  "orig_nbformat": 4
 },
 "nbformat": 4,
 "nbformat_minor": 2
}
