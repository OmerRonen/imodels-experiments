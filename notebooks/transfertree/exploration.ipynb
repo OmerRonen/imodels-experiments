{
 "cells": [
  {
   "cell_type": "code",
   "execution_count": 151,
   "metadata": {},
   "outputs": [
    {
     "name": "stdout",
     "output_type": "stream",
     "text": [
      "The autoreload extension is already loaded. To reload it, use:\n",
      "  %reload_ext autoreload\n"
     ]
    }
   ],
   "source": [
    "%load_ext autoreload\n",
    "%autoreload 2\n",
    "import os\n",
    "import pickle as pkl\n",
    "from functools import partial\n",
    "from os.path import join as oj\n",
    "import warnings\n",
    "\n",
    "import numpy as np\n",
    "import pandas as pd\n",
    "from tqdm import tqdm\n",
    "\n",
    "pd.set_option('display.max_rows', 500)\n",
    "pd.set_option('display.max_columns', 50)\n",
    "from sklearn.tree import DecisionTreeClassifier, plot_tree\n",
    "from sklearn import metrics, model_selection\n",
    "\n",
    "import imodels\n",
    "from imodels.util import data_util\n",
    "from imodels.discretization import discretizer, simple\n",
    "\n",
    "import matplotlib as mpl\n",
    "import matplotlib.pyplot as plt\n",
    "\n",
    "mpl.rcParams['figure.dpi'] = 250\n",
    "\n",
    "# change working directory to project root\n",
    "while os.getcwd().split('/')[-1] != 'imodels-experiments':\n",
    "    os.chdir('..')\n",
    "\n",
    "import viz\n",
    "import validate\n",
    "# from local_models.stable import StableLinearClassifier as stbl_local\n",
    "# from experiments.util import get_comparison_result\n",
    "\n",
    "np.random.seed(0)"
   ]
  },
  {
   "cell_type": "code",
   "execution_count": 152,
   "metadata": {},
   "outputs": [],
   "source": [
    "class TransferTree:\n",
    "\n",
    "    def __init__(self, num_groups: int, *args, **kwargs):\n",
    "        self.trees = [\n",
    "            DecisionTreeClassifier(*args, **kwargs) for _ in range(num_groups)\n",
    "        ]\n",
    "\n",
    "    def fit(self, X, y, sample_weights):\n",
    "        for tree, weight in zip(self.trees, sample_weights):\n",
    "            tree.fit(X, y, weight)\n",
    "        return self\n",
    "\n",
    "    def predict(self, X, subgroups):\n",
    "        preds = np.zeros(X.shape[0])\n",
    "        for tree, subgroup in zip(self.trees, subgroups):\n",
    "            preds[subgroup] = tree.predict(X[subgroup])\n",
    "        return preds\n",
    "    \n",
    "    def predict_proba(self, X, subgroups):\n",
    "        preds_proba = np.zeros((X.shape[0], 2))\n",
    "        for tree, subgroup in zip(self.trees, subgroups):\n",
    "            preds_proba[subgroup] = tree.predict_proba(X[subgroup])\n",
    "        return preds_proba\n",
    "\n",
    "\n",
    "def print_results(model, X_test, y_test, test_subgroups):\n",
    "    if isinstance(model, TransferTree):\n",
    "        pred_proba_args = (X_test, test_subgroups)\n",
    "        tree_0 = model.trees[0]\n",
    "        tree_1 = model.trees[1]\n",
    "    else:\n",
    "        pred_proba_args = (X_test,)\n",
    "        tree_0, tree_1 = model, model\n",
    "\n",
    "    spec_scorer = validate.make_best_spec_high_sens_scorer(0.95)\n",
    "    print('spec: ', spec_scorer(y_test, model.predict_proba(*pred_proba_args)[:, 1]))\n",
    "    print('APC: ', metrics.average_precision_score(y_test, model.predict_proba(*pred_proba_args)[:, 1]))\n",
    "    print('AUC: ', metrics.roc_auc_score(y_test, model.predict_proba(*pred_proba_args)[:, 1]))\n",
    "\n",
    "    y_test_0, y_test_1 = y_test[~test_subgroups[1]], y_test[test_subgroups[1]]\n",
    "    X_test_0, X_test_1 = X_test[~test_subgroups[1]], X_test[test_subgroups[1]]\n",
    "\n",
    "    y_score_0 = tree_0.predict_proba(X_test_0)[:, 1]\n",
    "    print('group 0 spec: ', spec_scorer(y_test_0, y_score_0))\n",
    "    print('group 0 APC: ', metrics.average_precision_score(y_test_0, y_score_0))\n",
    "    print('group 0 AUC: ', metrics.roc_auc_score(y_test_0, y_score_0))\n",
    "\n",
    "    y_score_1 = tree_1.predict_proba(X_test_1)[:, 1]\n",
    "    print('group 1 spec: ', spec_scorer(y_test_1, y_score_1))\n",
    "    print('group 1 APC: ', metrics.average_precision_score(y_test_1, y_score_1))\n",
    "    print('group 1 AUC: ', metrics.roc_auc_score(y_test_1, y_score_1))"
   ]
  },
  {
   "cell_type": "code",
   "execution_count": 178,
   "metadata": {},
   "outputs": [],
   "source": [
    "X, y, feature_names = data_util.get_clean_dataset('csi_with_meta_keys.csv', data_source='imodels')\n",
    "X_df = pd.DataFrame(X, columns=feature_names)"
   ]
  },
  {
   "cell_type": "code",
   "execution_count": 182,
   "metadata": {},
   "outputs": [
    {
     "data": {
      "text/plain": [
       "8.0     351\n",
       "16.0    329\n",
       "15.0    285\n",
       "7.0     267\n",
       "11.0    240\n",
       "10.0    230\n",
       "17.0    216\n",
       "13.0    197\n",
       "3.0     194\n",
       "4.0     179\n",
       "1.0     147\n",
       "6.0     147\n",
       "9.0     136\n",
       "2.0     121\n",
       "14.0    121\n",
       "12.0     90\n",
       "5.0      63\n",
       "Name: SITE, dtype: int64"
      ]
     },
     "execution_count": 182,
     "metadata": {},
     "output_type": "execute_result"
    }
   ],
   "source": [
    "X_df['SITE'].value_counts()"
   ]
  },
  {
   "cell_type": "code",
   "execution_count": 154,
   "metadata": {},
   "outputs": [],
   "source": [
    "cutoff = 4\n",
    "max = X_df['AgeInYears'].max()"
   ]
  },
  {
   "cell_type": "code",
   "execution_count": 155,
   "metadata": {},
   "outputs": [],
   "source": [
    "is_group_1 = X_df['AgeInYears'] > cutoff"
   ]
  },
  {
   "cell_type": "code",
   "execution_count": 156,
   "metadata": {},
   "outputs": [],
   "source": [
    "p_group_1 = 0.5 / cutoff * X_df['AgeInYears']\n",
    "p_group_1[is_group_1] = 0.5 / (max - cutoff) * (X_df.loc[is_group_1, 'AgeInYears'] - cutoff) + 0.5"
   ]
  },
  {
   "cell_type": "code",
   "execution_count": 157,
   "metadata": {},
   "outputs": [],
   "source": [
    "X_df_clean = X_df.drop(columns=['SITE', 'AgeInYears'])"
   ]
  },
  {
   "cell_type": "code",
   "execution_count": 158,
   "metadata": {},
   "outputs": [],
   "source": [
    "X, feature_names = X_df_clean.values, X_df_clean.columns.values\n",
    "X_train, X_test, y_train, y_test, is_group_1_train, is_group_1_test, p_group_1_train, p_group_1_test = (\n",
    "    model_selection.train_test_split(X, y, is_group_1, p_group_1, random_state=2))\n",
    "\n",
    "test_subgroups = [~is_group_1_test, is_group_1_test]\n",
    "dtree_args = {'max_leaf_nodes': 8, 'class_weight': {0: 1, 1: 6}}"
   ]
  },
  {
   "cell_type": "code",
   "execution_count": 159,
   "metadata": {},
   "outputs": [],
   "source": [
    "def all_stats_curve(y_test, preds_proba, plot=False, thresholds=None):\n",
    "    '''preds_proba should be 1d\n",
    "    '''\n",
    "    if thresholds is None:\n",
    "        thresholds = sorted(np.unique(preds_proba))\n",
    "    all_stats = {\n",
    "        s: [] for s in ['sens', 'spec', 'ppv', 'npv', 'lr+', 'lr-', 'f1']\n",
    "    }\n",
    "    for threshold in tqdm(thresholds):\n",
    "        preds = preds_proba > threshold\n",
    "        tn, fp, fn, tp = metrics.confusion_matrix(y_test, preds).ravel()\n",
    "        with warnings.catch_warnings():\n",
    "            warnings.simplefilter(\"ignore\")\n",
    "            sens = tp / (tp + fn)\n",
    "            spec = tn / (tn + fp)\n",
    "            all_stats['sens'].append(sens)\n",
    "            all_stats['spec'].append(spec)\n",
    "            all_stats['ppv'].append(tp / (tp + fp))\n",
    "            all_stats['npv'].append(tn / (tn + fn))\n",
    "            all_stats['lr+'].append(sens / (1 - spec))\n",
    "            all_stats['lr-'].append((1 - sens) / spec)\n",
    "            all_stats['f1'].append(tp / (tp + 0.5 * (fp + fn)))\n",
    "\n",
    "    if plot:\n",
    "        plt.plot(all_stats['sens'], all_stats['spec'], '.-')\n",
    "        plt.xlabel('sensitivity')\n",
    "        plt.ylabel('specificity')\n",
    "        plt.grid()\n",
    "    return all_stats, thresholds"
   ]
  },
  {
   "cell_type": "code",
   "execution_count": 160,
   "metadata": {},
   "outputs": [],
   "source": [
    "def predict_and_save(model, model_name='decision_tree'):\n",
    "    '''Plots cv and returns cv, saves all stats\n",
    "    '''\n",
    "    results = {'model': model}\n",
    "    for x, y, suffix in [[X_test, y_test, '_test']]:\n",
    "        stats, threshes = all_stats_curve(y, model.predict_proba(x, test_subgroups)[:, 1],\n",
    "                                                     plot=suffix == '_test')\n",
    "        for stat in stats.keys():\n",
    "            results[stat + suffix] = stats[stat]\n",
    "        results['threshes' + suffix] = threshes\n",
    "    # pkl.dump(results, open(oj(MODELS_DIR, model_name + '.pkl'), 'wb'))\n",
    "    return stats, threshes"
   ]
  },
  {
   "cell_type": "markdown",
   "metadata": {},
   "source": [
    "### plain cart"
   ]
  },
  {
   "cell_type": "code",
   "execution_count": 161,
   "metadata": {},
   "outputs": [
    {
     "name": "stdout",
     "output_type": "stream",
     "text": [
      "spec:  0\n",
      "APC:  0.37684220439698934\n",
      "AUC:  0.7866985465299189\n",
      "group 0 spec:  0.5533980582524272\n",
      "group 0 APC:  0.5424594870886431\n",
      "group 0 AUC:  0.864288729421697\n",
      "group 1 spec:  0\n",
      "group 1 APC:  0.3573469744460341\n",
      "group 1 AUC:  0.7700014788524105\n"
     ]
    }
   ],
   "source": [
    "cart = DecisionTreeClassifier(**dtree_args)\n",
    "cart.fit(X_train, y_train)\n",
    "print_results(cart, X_test, y_test, test_subgroups)"
   ]
  },
  {
   "cell_type": "code",
   "execution_count": null,
   "metadata": {},
   "outputs": [],
   "source": [
    "predict_and_save(cart)\n",
    "plt.show()"
   ]
  },
  {
   "cell_type": "markdown",
   "metadata": {},
   "source": [
    "### two trees, no transfer"
   ]
  },
  {
   "cell_type": "code",
   "execution_count": 166,
   "metadata": {},
   "outputs": [
    {
     "name": "stdout",
     "output_type": "stream",
     "text": [
      "spec:  0.09117221418234443\n",
      "APC:  0.35900999628774966\n",
      "AUC:  0.76155645042891\n",
      "group 0 spec:  0\n",
      "group 0 APC:  0.3690793603478702\n",
      "group 0 AUC:  0.7847192908400169\n",
      "group 1 spec:  0\n",
      "group 1 APC:  0.3555925261645406\n",
      "group 1 AUC:  0.7629177758059745\n"
     ]
    }
   ],
   "source": [
    "subcart_no_transfer = TransferTree(2, **dtree_args)\n",
    "subcart_no_transfer.fit(\n",
    "    X_train, y_train, [(~is_group_1_train).astype(int), is_group_1_train.astype(int)])\n",
    "\n",
    "print_results(subcart_no_transfer, X_test, y_test, test_subgroups)"
   ]
  },
  {
   "cell_type": "code",
   "execution_count": 113,
   "metadata": {},
   "outputs": [],
   "source": [
    "# plot_tree(subcart_no_transfer.trees[0], feature_names=feature_names)"
   ]
  },
  {
   "cell_type": "code",
   "execution_count": 114,
   "metadata": {},
   "outputs": [],
   "source": [
    "# plot_tree(subcart_no_transfer.trees[1], feature_names=feature_names)"
   ]
  },
  {
   "cell_type": "markdown",
   "metadata": {},
   "source": [
    "### linear transfer"
   ]
  },
  {
   "cell_type": "code",
   "execution_count": 167,
   "metadata": {},
   "outputs": [
    {
     "name": "stdout",
     "output_type": "stream",
     "text": [
      "spec:  0.0824891461649783\n",
      "APC:  0.3656475390967175\n",
      "AUC:  0.7846850814824136\n",
      "group 0 spec:  0.6310679611650486\n",
      "group 0 APC:  0.4305700735578784\n",
      "group 0 AUC:  0.8330519206416209\n",
      "group 1 spec:  0\n",
      "group 1 APC:  0.3573469744460341\n",
      "group 1 AUC:  0.7700014788524105\n"
     ]
    }
   ],
   "source": [
    "transfer = TransferTree(2, **dtree_args)\n",
    "transfer.fit(X_train, y_train, [1 - p_group_1_train, p_group_1_train])\n",
    "\n",
    "print_results(transfer, X_test, y_test, test_subgroups)"
   ]
  },
  {
   "cell_type": "markdown",
   "metadata": {},
   "source": [
    "### linear one-way transfer (higher -> lower)"
   ]
  },
  {
   "cell_type": "code",
   "execution_count": 168,
   "metadata": {},
   "outputs": [
    {
     "name": "stdout",
     "output_type": "stream",
     "text": [
      "spec:  0.0824891461649783\n",
      "APC:  0.36441896738686214\n",
      "AUC:  0.7794941169068144\n",
      "group 0 spec:  0.6310679611650486\n",
      "group 0 APC:  0.4305700735578784\n",
      "group 0 AUC:  0.8330519206416209\n",
      "group 1 spec:  0\n",
      "group 1 APC:  0.3555925261645406\n",
      "group 1 AUC:  0.7629177758059745\n"
     ]
    }
   ],
   "source": [
    "transfer = TransferTree(2, **dtree_args)\n",
    "transfer.fit(X_train, y_train, [1 - p_group_1_train, is_group_1_train.astype(int)])\n",
    "\n",
    "print_results(transfer, X_test, y_test, test_subgroups)"
   ]
  },
  {
   "cell_type": "markdown",
   "metadata": {},
   "source": [
    "### sigmoidal transfer"
   ]
  },
  {
   "cell_type": "code",
   "execution_count": 169,
   "metadata": {},
   "outputs": [],
   "source": [
    "p_group_1_sig = 1 / (1 + np.exp(-1 * (X_df['AgeInYears'] - 4)))\n",
    "p_group_1_sig_train, p_group_1_sig_test = model_selection.train_test_split(p_group_1_sig, random_state=0)"
   ]
  },
  {
   "cell_type": "code",
   "execution_count": 170,
   "metadata": {},
   "outputs": [
    {
     "name": "stdout",
     "output_type": "stream",
     "text": [
      "spec:  0.34008683068017365\n",
      "APC:  0.35969449385571667\n",
      "AUC:  0.7766888986765661\n",
      "group 0 spec:  0.07766990291262135\n",
      "group 0 APC:  0.39347242810765287\n",
      "group 0 AUC:  0.787674124102997\n",
      "group 1 spec:  0\n",
      "group 1 APC:  0.3573469744460341\n",
      "group 1 AUC:  0.7700014788524105\n"
     ]
    }
   ],
   "source": [
    "transfer = TransferTree(2, **dtree_args)\n",
    "transfer.fit(X_train, y_train, [1 - p_group_1_sig_train, p_group_1_sig_train])\n",
    "\n",
    "print_results(transfer, X_test, y_test, test_subgroups)"
   ]
  },
  {
   "cell_type": "markdown",
   "metadata": {},
   "source": [
    "### sigmoidal one-way transfer (higher -> lower)\\"
   ]
  },
  {
   "cell_type": "code",
   "execution_count": 171,
   "metadata": {},
   "outputs": [
    {
     "name": "stdout",
     "output_type": "stream",
     "text": [
      "spec:  0.34008683068017365\n",
      "APC:  0.36555831346500395\n",
      "AUC:  0.7726934289729231\n",
      "group 0 spec:  0.07766990291262135\n",
      "group 0 APC:  0.39347242810765287\n",
      "group 0 AUC:  0.787674124102997\n",
      "group 1 spec:  0\n",
      "group 1 APC:  0.3555925261645406\n",
      "group 1 AUC:  0.7629177758059745\n"
     ]
    }
   ],
   "source": [
    "transfer = TransferTree(2, **dtree_args)\n",
    "transfer.fit(X_train, y_train, [1 - p_group_1_sig_train, is_group_1_train.astype(int)])\n",
    "\n",
    "print_results(transfer, X_test, y_test, test_subgroups)"
   ]
  },
  {
   "cell_type": "markdown",
   "metadata": {},
   "source": [
    "### step transfer"
   ]
  },
  {
   "cell_type": "code",
   "execution_count": 176,
   "metadata": {},
   "outputs": [],
   "source": [
    "p_group_1_sig_train = is_group_1_train.astype(int) * 0.6\n",
    "p_group_1_sig_train[p_group_1_sig_train == 0] = 0.4"
   ]
  },
  {
   "cell_type": "code",
   "execution_count": 177,
   "metadata": {},
   "outputs": [
    {
     "name": "stdout",
     "output_type": "stream",
     "text": [
      "spec:  0.0824891461649783\n",
      "APC:  0.3852164600642098\n",
      "AUC:  0.7870655844292035\n",
      "group 0 spec:  0.5533980582524272\n",
      "group 0 APC:  0.5424594870886431\n",
      "group 0 AUC:  0.864288729421697\n",
      "group 1 spec:  0\n",
      "group 1 APC:  0.3573469744460341\n",
      "group 1 AUC:  0.7700014788524105\n"
     ]
    }
   ],
   "source": [
    "transfer = TransferTree(2, **dtree_args)\n",
    "transfer.fit(X_train, y_train, [1 - p_group_1_sig_train, p_group_1_sig_train])\n",
    "\n",
    "print_results(transfer, X_test, y_test, test_subgroups)"
   ]
  },
  {
   "cell_type": "code",
   "execution_count": 75,
   "metadata": {},
   "outputs": [],
   "source": [
    "# predict_and_save(transfer)\n",
    "# plt.show()"
   ]
  },
  {
   "cell_type": "code",
   "execution_count": 22,
   "metadata": {},
   "outputs": [],
   "source": [
    "# fpr, tpr, thres = metrics.roc_curve(y_test, subcart_no_transfer.predict_proba(X_test, test_subgroups)[:, 1])\n",
    "\n",
    "# plt.plot(fpr, tpr)"
   ]
  },
  {
   "cell_type": "code",
   "execution_count": null,
   "metadata": {},
   "outputs": [],
   "source": [
    "# remove meta keys, split into train and test and fit. \n",
    "\n",
    "# try regular cart on the whole thing, subgroup cart w/o transfer, and subgroup cart with transfer\n",
    "\n",
    "# try linear vs sigmoidal transfer function\n",
    "\n",
    "# site split"
   ]
  }
 ],
 "metadata": {
  "interpreter": {
   "hash": "d833dc0779f0f050568351c83cfa2f037bffe4d045df2adc54e8a65e73ce0016"
  },
  "kernelspec": {
   "display_name": "Python 3.10.0 ('imodels-experiments')",
   "language": "python",
   "name": "python3"
  },
  "language_info": {
   "codemirror_mode": {
    "name": "ipython",
    "version": 3
   },
   "file_extension": ".py",
   "mimetype": "text/x-python",
   "name": "python",
   "nbconvert_exporter": "python",
   "pygments_lexer": "ipython3",
   "version": "3.10.0"
  },
  "orig_nbformat": 4
 },
 "nbformat": 4,
 "nbformat_minor": 2
}
