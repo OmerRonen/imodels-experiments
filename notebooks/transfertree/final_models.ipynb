{
 "cells": [
  {
   "cell_type": "code",
   "execution_count": 1,
   "metadata": {},
   "outputs": [],
   "source": [
    "%load_ext autoreload\n",
    "%autoreload 2\n",
    "import os\n",
    "import pickle as pkl\n",
    "from os.path import join as oj\n",
    "from collections import defaultdict\n",
    "import warnings\n",
    "\n",
    "warnings.filterwarnings(action=\"ignore\", category=UserWarning)\n",
    "\n",
    "import imodels\n",
    "import matplotlib as mpl\n",
    "import matplotlib.pyplot as plt\n",
    "import numpy as np\n",
    "import pandas as pd\n",
    "from imodels.util import data_util\n",
    "from numpy import concatenate as npcat\n",
    "from tqdm import tqdm\n",
    "from sklearn.ensemble import GradientBoostingClassifier\n",
    "from sklearn.linear_model import LogisticRegression\n",
    "from sklearn.tree import DecisionTreeClassifier\n",
    "from sklearn import metrics\n",
    "\n",
    "pd.set_option('display.max_rows', 500)\n",
    "pd.set_option('display.max_columns', 50)\n",
    "mpl.rcParams['figure.dpi'] = 250\n",
    "np.random.seed(0)\n",
    "\n",
    "# change working directory to project root\n",
    "while os.getcwd().split('/')[-1] != 'imodels-experiments':\n",
    "    os.chdir('..')\n",
    "\n",
    "import validate"
   ]
  },
  {
   "cell_type": "code",
   "execution_count": 2,
   "metadata": {},
   "outputs": [],
   "source": [
    "DATASET = 'iai'\n",
    "RESULT_PATH = f'notebooks/transfertree/results/{DATASET}'\n",
    "if not os.path.exists(RESULT_PATH):\n",
    "    os.makedirs(RESULT_PATH)"
   ]
  },
  {
   "cell_type": "code",
   "execution_count": 3,
   "metadata": {},
   "outputs": [],
   "source": [
    "def all_stats_curve(y_test, preds_proba, plot=False, thresholds=None, model_name=None):\n",
    "    '''preds_proba should be 1d\n",
    "    '''\n",
    "    if thresholds is None:\n",
    "        thresholds = sorted(np.unique(preds_proba))\n",
    "    all_stats = {\n",
    "        s: [] for s in ['sens', 'spec', 'ppv', 'npv', 'lr+', 'lr-', 'f1']\n",
    "    }\n",
    "    for threshold in tqdm(thresholds):\n",
    "        preds = preds_proba > threshold\n",
    "        tn, fp, fn, tp = metrics.confusion_matrix(y_test, preds).ravel()\n",
    "        with warnings.catch_warnings():\n",
    "            warnings.simplefilter(\"ignore\")\n",
    "            sens = tp / (tp + fn)\n",
    "            spec = tn / (tn + fp)\n",
    "            all_stats['sens'].append(sens)\n",
    "            all_stats['spec'].append(spec)\n",
    "            all_stats['ppv'].append(tp / (tp + fp))\n",
    "            all_stats['npv'].append(tn / (tn + fn))\n",
    "            all_stats['lr+'].append(sens / (1 - spec))\n",
    "            all_stats['lr-'].append((1 - sens) / spec)\n",
    "            all_stats['f1'].append(tp / (tp + 0.5 * (fp + fn)))\n",
    "\n",
    "    if plot:\n",
    "        if 'pecarn' in model_name.lower():\n",
    "            plt.plot(all_stats['sens'][0], all_stats['spec'][0], '.-', label=model_name)\n",
    "        else:\n",
    "            plt.plot(all_stats['sens'], all_stats['spec'], '.-', label=model_name)\n",
    "        plt.xlabel('sensitivity')\n",
    "        plt.ylabel('specificity')\n",
    "        plt.grid()\n",
    "    return all_stats, thresholds"
   ]
  },
  {
   "cell_type": "code",
   "execution_count": 4,
   "metadata": {},
   "outputs": [],
   "source": [
    "results = defaultdict(lambda:[])\n",
    "columns = [f'spec9{i}' for i in range(0, 9, 2)] + ['aps', 'auc', 'acc', 'f1', 'args']\n",
    "\n",
    "def log_results(model, model_name, X_test, y_test, model_args=None, dct=None):\n",
    "    pred_proba_args = (X_test,)\n",
    "    \n",
    "    spec_scorer_list = [validate.make_best_spec_high_sens_scorer(sens) for sens in [0.9, 0.92, 0.94, 0.96, 0.98]]\n",
    "    spec_scores = [scorer(y_test, model.predict_proba(*pred_proba_args)[:, 1]) for scorer in spec_scorer_list]\n",
    "    apc = metrics.average_precision_score(y_test, model.predict_proba(*pred_proba_args)[:, 1])\n",
    "    auc = metrics.roc_auc_score(y_test, model.predict_proba(*pred_proba_args)[:, 1])\n",
    "    acc = metrics.accuracy_score(y_test, model.predict(X_test))\n",
    "    f1 = metrics.f1_score(y_test, model.predict(X_test))\n",
    "    if dct is not None:\n",
    "        dct[model_name] = spec_scores + [apc, auc, acc, f1, model_args]\n",
    "    else:\n",
    "        results[model_name] = spec_scores + [apc, auc, acc, f1, model_args]"
   ]
  },
  {
   "cell_type": "code",
   "execution_count": 5,
   "metadata": {},
   "outputs": [],
   "source": [
    "class TransferTree:\n",
    "    def __init__(self, model_0, model_1, model_1_log_arr):\n",
    "        self.model_0 = model_0\n",
    "        self.model_1 = model_1\n",
    "        self.model_1_log_arr = model_1_log_arr\n",
    "\n",
    "    def predict(self, X):\n",
    "        return np.argmax(self.predict_proba(X), axis=1)\n",
    "\n",
    "    def predict_proba(self, X):\n",
    "        preds_proba = np.zeros((X.shape[0], 2))\n",
    "        preds_proba[~self.model_1_log_arr] = self.model_0.predict_proba(\n",
    "            X[~self.model_1_log_arr])\n",
    "        preds_proba[self.model_1_log_arr] = self.model_1.predict_proba(\n",
    "            X[self.model_1_log_arr])\n",
    "        return preds_proba\n",
    "\n",
    "class PECARNModel:\n",
    "    def __init__(self, young):\n",
    "        self.young = young\n",
    "\n",
    "    def predict(self, X: pd.DataFrame):\n",
    "        if DATASET == 'tbi' and self.young:\n",
    "            factors_sum = (\n",
    "                X['AMS'] + X['HemaLoc_Occipital'] + X['HemaLoc_Parietal/Temporal'] + X['LocLen_1-5 min'] + \n",
    "                X['LocLen_5 sec - 1 min'] + X['LocLen_>5 min'] + X['High_impact_InjSev_High'] + \n",
    "                X['SFxPalp_Unclear'] + X['SFxPalp_Yes'] + (1 - X['ActNorm']))\n",
    "        elif DATASET == 'tbi':\n",
    "            factors_sum = (\n",
    "                X['AMS'] + X['Vomit'] + X['LOCSeparate_Suspected'] + X['LOCSeparate_Yes'] + \n",
    "                X['High_impact_InjSev_High'] + X['SFxBas'] +  X['HASeverity_Severe'])\n",
    "        elif DATASET == 'csi':\n",
    "            factors_sum = (\n",
    "                X['AlteredMentalStatus2'] + X['PainNeck2'] + X['FocalNeuroFindings2'] + \n",
    "                X['Torticollis2'] + X['subinj_TorsoTrunk2'] + X['Predisposed'] + \n",
    "                X['HighriskDiving'] + X['HighriskMVC']\n",
    "            )\n",
    "        elif DATASET == 'iai':\n",
    "            factors_sum = (\n",
    "                X['AbdTrauma_or_SeatBeltSign_yes'] + (X['GCSScore'] <= 13).astype(int) + \n",
    "                X['AbdTenderDegree_Mild'] + X['AbdTenderDegree_Moderate'] + \n",
    "                X['AbdTenderDegree_Severe'] + X['ThoracicTrauma_yes'] + X['AbdomenPain_yes'] +\n",
    "                X['DecrBreathSound_yes'] + X['VomitWretch_yes']\n",
    "            )\n",
    "        preds = (factors_sum >= 1).astype(int)\n",
    "\n",
    "        return preds.values\n",
    "    \n",
    "    def predict_proba(self, X: pd.DataFrame):\n",
    "        preds = np.expand_dims(self.predict(X), axis=1)\n",
    "        return np.hstack((1 - preds, preds))"
   ]
  },
  {
   "cell_type": "code",
   "execution_count": 6,
   "metadata": {},
   "outputs": [],
   "source": [
    "X, y, feature_names = data_util.get_clean_dataset(f'{DATASET}_pecarn_pred.csv', data_source='imodels')\n",
    "X_df = pd.DataFrame(X, columns=feature_names)"
   ]
  },
  {
   "cell_type": "code",
   "execution_count": 7,
   "metadata": {},
   "outputs": [],
   "source": [
    "def predict_and_save(model, X_test, y_test, model_name, group):\n",
    "    '''Plots cv and returns cv, saves all stats\n",
    "    '''\n",
    "    results = {}\n",
    "    for x, y, suffix in zip([X_test],\n",
    "                            [y_test],\n",
    "                            ['_tune']):\n",
    "        stats, threshes = all_stats_curve(y, model.predict_proba(x)[:, 1], plot=suffix == '_tune', model_name=model_name)\n",
    "        for stat in stats.keys():\n",
    "            results[stat + suffix] = stats[stat]\n",
    "        results['threshes' + suffix] = threshes\n",
    "        results['acc'] = metrics.accuracy_score(y, model.predict(x))\n",
    "        results['f1'] = metrics.f1_score(y, model.predict(x))\n",
    "        if type(model) not in {TransferTree, PECARNModel}:\n",
    "            results['params'] = model.get_params()\n",
    "    if not os.path.exists(oj(RESULT_PATH, group)):\n",
    "        os.mkdir(oj(RESULT_PATH, group))\n",
    "    print(RESULT_PATH)\n",
    "    pkl.dump(results, open(oj(RESULT_PATH, group, model_name + '.pkl'), 'wb'))\n",
    "    return stats, threshes"
   ]
  },
  {
   "cell_type": "markdown",
   "metadata": {},
   "source": [
    "### training propensity model"
   ]
  },
  {
   "cell_type": "code",
   "execution_count": 8,
   "metadata": {},
   "outputs": [],
   "source": [
    "X_prop_raw, _, fnames_prop = data_util.get_clean_dataset(f'{DATASET}_pecarn_prop.csv', data_source='imodels', convertna=False)"
   ]
  },
  {
   "cell_type": "code",
   "execution_count": 9,
   "metadata": {},
   "outputs": [],
   "source": [
    "X_df_prop_raw = pd.DataFrame(X_prop_raw, columns=fnames_prop)\n",
    "X_df_prop_raw['outcome'] = y\n",
    "\n",
    "if DATASET == 'tbi':\n",
    "    y_prop = X_df_prop_raw['AgeTwoPlus']\n",
    "    X_df_prop = X_df_prop_raw.drop(columns=['AgeinYears', 'AgeInMonth', 'AgeTwoPlus', 'outcome'])\n",
    "    pmodel_all = GradientBoostingClassifier().fit(X_df_prop, y_prop)\n",
    "elif DATASET == 'csi':\n",
    "    y_prop = (X_df_prop_raw['AgeInYears'] >= 2).astype(int)\n",
    "    X_df_prop = X_df_prop_raw.drop(columns=['AgeInYears', 'outcome'])\n",
    "    pmodel_all = LogisticRegression(C=2.78, penalty='l2', solver='liblinear').fit(X_df_prop, y_prop)\n",
    "elif DATASET == 'iai':\n",
    "    y_prop = X_df_prop_raw['Age<2_no']\n",
    "    X_df_prop = X_df_prop_raw.drop(columns=['Age', 'Age<2_no', 'Age<2_yes', 'outcome'])\n",
    "    pmodel_all = LogisticRegression(C=0.1, penalty='l2', solver='liblinear').fit(X_df_prop, y_prop)\n",
    "\n",
    "pscores_all = pmodel_all.predict_proba(X_df_prop)[:, 1]"
   ]
  },
  {
   "cell_type": "markdown",
   "metadata": {},
   "source": [
    "### data setup"
   ]
  },
  {
   "cell_type": "code",
   "execution_count": 10,
   "metadata": {},
   "outputs": [],
   "source": [
    "if DATASET == 'csi':\n",
    "    is_group_1 = (X_df['AgeInYears'] >= 2).astype(bool)\n",
    "    X_df_clean = X_df\n",
    "elif DATASET == 'tbi':\n",
    "    is_group_1 = X_df['AgeTwoPlus'].astype(bool)\n",
    "    X_df_clean = X_df.drop(columns=['AgeinYears'])\n",
    "elif DATASET == 'iai':\n",
    "    is_group_1 = X_df['Age<2_no'].astype(bool)\n",
    "    X_df_clean = X_df.drop(columns=['Age<2_no', 'Age<2_yes'])\n",
    "feature_names = X_df_clean.columns\n",
    "\n",
    "X_young, X_old = X_df_clean[~is_group_1], X_df_clean[is_group_1]\n",
    "y_young, y_old = y[~is_group_1], y[is_group_1]"
   ]
  },
  {
   "cell_type": "code",
   "execution_count": 11,
   "metadata": {},
   "outputs": [],
   "source": [
    "cls_ratio = lambda x: int(pd.Series(x).value_counts()[0.0] / pd.Series(x).value_counts()[1.0])\n",
    "cls_ratio_all = cls_ratio(y)\n",
    "sw_all = y * cls_ratio_all + 1"
   ]
  },
  {
   "cell_type": "code",
   "execution_count": 17,
   "metadata": {},
   "outputs": [],
   "source": [
    "all_model_young = imodels.FIGSClassifier(max_rules=6)\n",
    "all_model_old = imodels.FIGSClassifier(max_rules=8)\n",
    "all_model_young.fit(X_df_clean, y, sample_weight=(1 - pscores_all) * sw_all)\n",
    "all_model_old.fit(X_df_clean, y, sample_weight=pscores_all * sw_all)\n",
    "all_model_all = TransferTree(all_model_young, all_model_old, is_group_1)"
   ]
  },
  {
   "cell_type": "code",
   "execution_count": 18,
   "metadata": {},
   "outputs": [
    {
     "name": "stdout",
     "output_type": "stream",
     "text": [
      "------------\n",
      "GCSScore <= 10.500 (Tree #0 root)\n",
      "\tVal: 0.877 (leaf)\n",
      "\tAbdTrauma_yes <= 0.500 (split)\n",
      "\t\tThoracicTender_no <= 0.500 (split)\n",
      "\t\t\tRtCostalTender <= 2.500 (split)\n",
      "\t\t\t\tVal: 0.792 (leaf)\n",
      "\t\t\t\tAbdTenderDegree_Mild <= 0.500 (split)\n",
      "\t\t\t\t\tThoracicTender_unknown <= 0.500 (split)\n",
      "\t\t\t\t\t\tVal: 0.943 (leaf)\n",
      "\t\t\t\t\t\tVal: 0.009 (leaf)\n",
      "\t\t\t\t\tVal: 0.982 (leaf)\n",
      "\t\t\tVal: 0.145 (leaf)\n",
      "\t\tVal: 0.738 (leaf)\n",
      "\n"
     ]
    }
   ],
   "source": [
    "all_model_young.feature_names_ = feature_names\n",
    "print(all_model_young)"
   ]
  },
  {
   "cell_type": "code",
   "execution_count": 19,
   "metadata": {},
   "outputs": [
    {
     "name": "stdout",
     "output_type": "stream",
     "text": [
      "------------\n",
      "AbdomenPain_no <= 0.500 (Tree #0 root)\n",
      "\tVal: 0.672 (leaf)\n",
      "\tGCSScore_Full_yes <= 0.500 (split)\n",
      "\t\tVal: 0.547 (leaf)\n",
      "\t\tAbdDistention_or_AbdomenPain_no <= 0.500 (split)\n",
      "\t\t\tVal: 0.576 (leaf)\n",
      "\t\t\tThoracicTender_unknown <= 0.500 (split)\n",
      "\t\t\t\tVal: 0.096 (leaf)\n",
      "\t\t\t\tVal: 0.485 (leaf)\n",
      "\n",
      "\t+\n",
      "AbdTrauma_no <= 0.500 (Tree #1 root)\n",
      "\tVal: 0.152 (leaf)\n",
      "\tAbdomenPain_yes <= 0.500 (split)\n",
      "\t\tGCSScore <= 10.500 (split)\n",
      "\t\t\tVal: 0.145 (leaf)\n",
      "\t\t\tVal: -0.057 (leaf)\n",
      "\t\tAbdTenderDegree_Severe <= 0.500 (split)\n",
      "\t\t\tVal: -0.355 (leaf)\n",
      "\t\t\tVal: 0.132 (leaf)\n",
      "\n"
     ]
    }
   ],
   "source": [
    "all_model_old.feature_names_ = feature_names\n",
    "print(all_model_old)"
   ]
  },
  {
   "cell_type": "code",
   "execution_count": 20,
   "metadata": {},
   "outputs": [
    {
     "name": "stderr",
     "output_type": "stream",
     "text": [
      "100%|██████████| 14/14 [00:00<00:00, 505.73it/s]\n"
     ]
    },
    {
     "name": "stdout",
     "output_type": "stream",
     "text": [
      "notebooks/transfertree/results/iai\n"
     ]
    },
    {
     "name": "stderr",
     "output_type": "stream",
     "text": [
      "100%|██████████| 7/7 [00:00<00:00, 1185.65it/s]"
     ]
    },
    {
     "name": "stdout",
     "output_type": "stream",
     "text": [
      "notebooks/transfertree/results/iai\n"
     ]
    },
    {
     "name": "stderr",
     "output_type": "stream",
     "text": [
      "\n",
      "100%|██████████| 21/21 [00:00<00:00, 511.54it/s]\n"
     ]
    },
    {
     "name": "stdout",
     "output_type": "stream",
     "text": [
      "notebooks/transfertree/results/iai\n"
     ]
    },
    {
     "data": {
      "text/plain": [
       "({'sens': [1.0,\n",
       "   0.9507389162561576,\n",
       "   0.9507389162561576,\n",
       "   0.9458128078817734,\n",
       "   0.8522167487684729,\n",
       "   0.8423645320197044,\n",
       "   0.8226600985221675,\n",
       "   0.8177339901477833,\n",
       "   0.8078817733990148,\n",
       "   0.8078817733990148,\n",
       "   0.7980295566502463,\n",
       "   0.7783251231527094,\n",
       "   0.7586206896551724,\n",
       "   0.7487684729064039,\n",
       "   0.7389162561576355,\n",
       "   0.6600985221674877,\n",
       "   0.5221674876847291,\n",
       "   0.029556650246305417,\n",
       "   0.0049261083743842365,\n",
       "   0.0049261083743842365,\n",
       "   0.0],\n",
       "  'spec': [0.018326154885567096,\n",
       "   0.4476817836331391,\n",
       "   0.5084874588294908,\n",
       "   0.5419305801874842,\n",
       "   0.7392112152689807,\n",
       "   0.7481631618951102,\n",
       "   0.7816062832531037,\n",
       "   0.7862511612194916,\n",
       "   0.8211299721307322,\n",
       "   0.8223123047039946,\n",
       "   0.8241702558905498,\n",
       "   0.8273794443036906,\n",
       "   0.8408073642428849,\n",
       "   0.8484080736424289,\n",
       "   0.8504349294823073,\n",
       "   0.8693522506545055,\n",
       "   0.8980660417194494,\n",
       "   0.9910480533738705,\n",
       "   0.9996621906933536,\n",
       "   0.9999155476733383,\n",
       "   1.0],\n",
       "  'ppv': [0.017164116005749557,\n",
       "   0.028664785385415118,\n",
       "   0.0320971229003825,\n",
       "   0.03418803418803419,\n",
       "   0.05305121128488194,\n",
       "   0.05423406279733587,\n",
       "   0.06066109698510715,\n",
       "   0.061549870226177236,\n",
       "   0.07186678352322524,\n",
       "   0.07231040564373897,\n",
       "   0.07219251336898395,\n",
       "   0.07175295186194369,\n",
       "   0.07552721922511035,\n",
       "   0.0780688238315357,\n",
       "   0.07808433107756377,\n",
       "   0.07971445568114217,\n",
       "   0.08073115003808073,\n",
       "   0.05357142857142857,\n",
       "   0.2,\n",
       "   0.5,\n",
       "   nan],\n",
       "  'npv': [1.0,\n",
       "   0.9981171154208247,\n",
       "   0.998341900182391,\n",
       "   0.9982887367766023,\n",
       "   0.9965843106000227,\n",
       "   0.9964008547969857,\n",
       "   0.996125282531482,\n",
       "   0.9960415106451268,\n",
       "   0.9960049170251998,\n",
       "   0.9960106382978723,\n",
       "   0.9958163265306123,\n",
       "   0.9954277585856534,\n",
       "   0.9951024487756122,\n",
       "   0.9949489947509161,\n",
       "   0.9947643979057592,\n",
       "   0.9933416964199556,\n",
       "   0.9909607678687914,\n",
       "   0.9834897753938988,\n",
       "   0.9832211977739015,\n",
       "   0.9832253778442119,\n",
       "   0.9831451345068084],\n",
       "  'lr+': [1.0186682725395733,\n",
       "   1.721360780946355,\n",
       "   1.9343126301355948,\n",
       "   2.0647805048171235,\n",
       "   3.267842785676,\n",
       "   3.3448821004846816,\n",
       "   3.766867063650807,\n",
       "   3.8256768776530623,\n",
       "   4.51658549519251,\n",
       "   4.5466388207308635,\n",
       "   4.5386493661362,\n",
       "   4.508878563234458,\n",
       "   4.765425775176073,\n",
       "   4.93936907391907,\n",
       "   4.940433308392187,\n",
       "   5.0525058829897995,\n",
       "   5.122605817460545,\n",
       "   3.3017009015707868,\n",
       "   14.582512315270975,\n",
       "   58.33004926104556,\n",
       "   nan],\n",
       "  'lr-': [0.0,\n",
       "   0.11003593522181439,\n",
       "   0.09687767689932537,\n",
       "   0.09998917591895304,\n",
       "   0.19992019625642782,\n",
       "   0.21069664480806866,\n",
       "   0.22689160166385897,\n",
       "   0.23181652230505892,\n",
       "   0.23396810873004892,\n",
       "   0.23363170598564914,\n",
       "   0.24505912692944287,\n",
       "   0.26792408050921385,\n",
       "   0.28708039511782885,\n",
       "   0.2961210941982153,\n",
       "   0.3070002592688618,\n",
       "   0.39098245570378654,\n",
       "   0.5320683447738502,\n",
       "   0.9792091780514272,\n",
       "   0.9954101504383641,\n",
       "   0.9951579350286247,\n",
       "   1.0],\n",
       "  'f1': [0.033748960931005816,\n",
       "   0.055651672433679356,\n",
       "   0.0620978120978121,\n",
       "   0.06599072005499226,\n",
       "   0.09988452655889145,\n",
       "   0.10190703218116806,\n",
       "   0.11299052774018944,\n",
       "   0.11448275862068966,\n",
       "   0.13199195171026157,\n",
       "   0.13273978146499393,\n",
       "   0.13240702901512055,\n",
       "   0.1313929313929314,\n",
       "   0.13737734165923282,\n",
       "   0.1413953488372093,\n",
       "   0.14124293785310735,\n",
       "   0.14225053078556263,\n",
       "   0.13984168865435356,\n",
       "   0.0380952380952381,\n",
       "   0.009615384615384616,\n",
       "   0.00975609756097561,\n",
       "   0.0]},\n",
       " [0.008829729466117259,\n",
       "  0.038345739018745315,\n",
       "  0.1454563393300897,\n",
       "  0.24792314255833808,\n",
       "  0.317185626724342,\n",
       "  0.42816984289680715,\n",
       "  0.4892412750076291,\n",
       "  0.5184399297540191,\n",
       "  0.6149280494890738,\n",
       "  0.6377472464363999,\n",
       "  0.6914036007831074,\n",
       "  0.6988186785472219,\n",
       "  0.7280173332936118,\n",
       "  0.7380921220995863,\n",
       "  0.7920408601789193,\n",
       "  0.8045669423199342,\n",
       "  0.817090375264552,\n",
       "  0.8245054530286665,\n",
       "  0.8769003659051432,\n",
       "  0.943343459779196,\n",
       "  0.9815413444215851])"
      ]
     },
     "execution_count": 20,
     "metadata": {},
     "output_type": "execute_result"
    },
    {
     "data": {
      "image/png": "[encoded data removed]",
      "text/plain": [
       "<Figure size 1500x1000 with 1 Axes>"
      ]
     },
     "metadata": {
      "needs_background": "light"
     },
     "output_type": "display_data"
    }
   ],
   "source": [
    "predict_and_save(all_model_old, X_old, y_old, 'pfigs_old', '')\n",
    "predict_and_save(all_model_young, X_young, y_young, 'pfigs_young', '')\n",
    "predict_and_save(all_model_all, X_df_clean, y, 'pfigs_all', '')"
   ]
  },
  {
   "cell_type": "code",
   "execution_count": 16,
   "metadata": {},
   "outputs": [],
   "source": [
    "pkl.dump(all_model_old, open(oj(RESULT_PATH, 'all_model_old.pkl'), 'wb'))\n",
    "pkl.dump(all_model_young, open(oj(RESULT_PATH, 'all_model_young.pkl'), 'wb'))"
   ]
  },
  {
   "cell_type": "code",
   "execution_count": 267,
   "metadata": {},
   "outputs": [
    {
     "data": {
      "text/plain": [
       "8"
      ]
     },
     "execution_count": 267,
     "metadata": {},
     "output_type": "execute_result"
    }
   ],
   "source": [
    "pkl.load(open('notebooks/transfertree/results/csi/seed_6/all_model_old.pkl', 'rb')).max_rules"
   ]
  },
  {
   "cell_type": "code",
   "execution_count": 107,
   "metadata": {},
   "outputs": [],
   "source": [
    "dt = DecisionTreeClassifier(max_depth=1).fit(X_df_clean, y)"
   ]
  },
  {
   "cell_type": "code",
   "execution_count": 109,
   "metadata": {},
   "outputs": [
    {
     "data": {
      "text/plain": [
       "array([[[11841.,   203.]],\n",
       "\n",
       "       [[11613.,   154.]],\n",
       "\n",
       "       [[  228.,    49.]]])"
      ]
     },
     "execution_count": 109,
     "metadata": {},
     "output_type": "execute_result"
    }
   ],
   "source": [
    "dt.tree_.value"
   ]
  },
  {
   "cell_type": "code",
   "execution_count": 111,
   "metadata": {},
   "outputs": [
    {
     "name": "stdout",
     "output_type": "stream",
     "text": [
      "[[[0.01685487]]\n",
      "\n",
      " [[0.01308745]]\n",
      "\n",
      " [[0.17689531]]]\n",
      "[[[ 1.76206078e-17]]\n",
      "\n",
      " [[-4.08219084e-03]]\n",
      "\n",
      " [[ 1.13258875e-01]]]\n",
      "[[[0.01308745]]\n",
      "\n",
      " [[0.00939833]]\n",
      "\n",
      " [[0.12303665]]]\n",
      "[[[0.17689531]]\n",
      "\n",
      " [[0.31730769]]\n",
      "\n",
      " [[0.09248555]]]\n",
      "[[[0.16530378]]\n",
      "\n",
      " [[0.30672225]]\n",
      "\n",
      " [[0.08028921]]]\n",
      "[[[0.01336032]]\n",
      "\n",
      " [[0.07747669]]\n",
      "\n",
      " [[0.01024649]]]\n",
      "[[[-5.36866669e-16]]\n",
      "\n",
      " [[ 6.75033882e-02]]\n",
      "\n",
      " [[-3.64484034e-03]]]\n",
      "[[[-0.00408219]]\n",
      "\n",
      " [[ 0.0634212 ]]\n",
      "\n",
      " [[-0.00786577]]]\n",
      "[[[0.11325887]]\n",
      "\n",
      " [[0.2271996 ]]\n",
      "\n",
      " [[0.03849934]]]\n",
      "[[[0.01342994]]\n",
      "\n",
      " [[0.07747669]]\n",
      "\n",
      " [[0.01031949]]]\n",
      "[[[-5.43964574e-16]]\n",
      "\n",
      " [[ 6.75033882e-02]]\n",
      "\n",
      " [[-3.64484034e-03]]]\n",
      "[[[-0.00408219]]\n",
      "\n",
      " [[ 0.0634212 ]]\n",
      "\n",
      " [[-0.00786577]]]\n",
      "[[[0.16234637]]\n",
      "\n",
      " [[0.30699506]]\n",
      "\n",
      " [[0.07538993]]]\n",
      "[[[0.2271996 ]]\n",
      "\n",
      " [[0.17067429]]\n",
      "\n",
      " [[0.51820028]]]\n",
      "[[[0.03849934]]\n",
      "\n",
      " [[0.03538583]]\n",
      "\n",
      " [[0.82310469]]]\n"
     ]
    },
    {
     "data": {
      "text/plain": [
       "FIGSClassifier(max_rules=3)"
      ]
     },
     "execution_count": 111,
     "metadata": {},
     "output_type": "execute_result"
    }
   ],
   "source": [
    "imodels.FIGSClassifier(max_rules=3).fit(X_df_clean, y)"
   ]
  },
  {
   "cell_type": "code",
   "execution_count": null,
   "metadata": {},
   "outputs": [],
   "source": []
  }
 ],
 "metadata": {
  "interpreter": {
   "hash": "d833dc0779f0f050568351c83cfa2f037bffe4d045df2adc54e8a65e73ce0016"
  },
  "kernelspec": {
   "display_name": "Python 3.10.0 ('imodels-experiments')",
   "language": "python",
   "name": "python3"
  },
  "language_info": {
   "codemirror_mode": {
    "name": "ipython",
    "version": 3
   },
   "file_extension": ".py",
   "mimetype": "text/x-python",
   "name": "python",
   "nbconvert_exporter": "python",
   "pygments_lexer": "ipython3",
   "version": "3.10.0"
  },
  "orig_nbformat": 4
 },
 "nbformat": 4,
 "nbformat_minor": 2
}
