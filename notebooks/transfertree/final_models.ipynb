{
 "cells": [
  {
   "cell_type": "code",
   "execution_count": 32,
   "metadata": {},
   "outputs": [
    {
     "name": "stdout",
     "output_type": "stream",
     "text": [
      "The autoreload extension is already loaded. To reload it, use:\n",
      "  %reload_ext autoreload\n"
     ]
    }
   ],
   "source": [
    "%load_ext autoreload\n",
    "%autoreload 2\n",
    "import os\n",
    "import pickle as pkl\n",
    "from os.path import join as oj\n",
    "from collections import defaultdict\n",
    "import warnings\n",
    "\n",
    "warnings.filterwarnings(action=\"ignore\", category=UserWarning)\n",
    "\n",
    "import imodels\n",
    "import matplotlib as mpl\n",
    "import matplotlib.pyplot as plt\n",
    "import numpy as np\n",
    "import pandas as pd\n",
    "from imodels.util import data_util\n",
    "from numpy import concatenate as npcat\n",
    "from tqdm import tqdm\n",
    "from sklearn.ensemble import GradientBoostingClassifier\n",
    "from sklearn.linear_model import LogisticRegression\n",
    "from sklearn.tree import DecisionTreeClassifier\n",
    "from sklearn import metrics\n",
    "\n",
    "pd.set_option('display.max_rows', 500)\n",
    "pd.set_option('display.max_columns', 50)\n",
    "mpl.rcParams['figure.dpi'] = 250\n",
    "np.random.seed(0)\n",
    "\n",
    "# change working directory to project root\n",
    "while os.getcwd().split('/')[-1] != 'imodels-experiments':\n",
    "    os.chdir('..')\n",
    "\n",
    "import validate"
   ]
  },
  {
   "cell_type": "code",
   "execution_count": 33,
   "metadata": {},
   "outputs": [],
   "source": [
    "DATASET = 'tbi'\n",
    "RESULT_PATH = f'notebooks/transfertree/results/{DATASET}'\n",
    "if not os.path.exists(RESULT_PATH):\n",
    "    os.makedirs(RESULT_PATH)"
   ]
  },
  {
   "cell_type": "code",
   "execution_count": 34,
   "metadata": {},
   "outputs": [],
   "source": [
    "def all_stats_curve(y_test, preds_proba, plot=False, thresholds=None, model_name=None):\n",
    "    '''preds_proba should be 1d\n",
    "    '''\n",
    "    if thresholds is None:\n",
    "        thresholds = sorted(np.unique(preds_proba))\n",
    "    all_stats = {\n",
    "        s: [] for s in ['sens', 'spec', 'ppv', 'npv', 'lr+', 'lr-', 'f1']\n",
    "    }\n",
    "    for threshold in tqdm(thresholds):\n",
    "        preds = preds_proba > threshold\n",
    "        tn, fp, fn, tp = metrics.confusion_matrix(y_test, preds).ravel()\n",
    "        with warnings.catch_warnings():\n",
    "            warnings.simplefilter(\"ignore\")\n",
    "            sens = tp / (tp + fn)\n",
    "            spec = tn / (tn + fp)\n",
    "            all_stats['sens'].append(sens)\n",
    "            all_stats['spec'].append(spec)\n",
    "            all_stats['ppv'].append(tp / (tp + fp))\n",
    "            all_stats['npv'].append(tn / (tn + fn))\n",
    "            all_stats['lr+'].append(sens / (1 - spec))\n",
    "            all_stats['lr-'].append((1 - sens) / spec)\n",
    "            all_stats['f1'].append(tp / (tp + 0.5 * (fp + fn)))\n",
    "\n",
    "    if plot:\n",
    "        if 'pecarn' in model_name.lower():\n",
    "            plt.plot(all_stats['sens'][0], all_stats['spec'][0], '.-', label=model_name)\n",
    "        else:\n",
    "            plt.plot(all_stats['sens'], all_stats['spec'], '.-', label=model_name)\n",
    "        plt.xlabel('sensitivity')\n",
    "        plt.ylabel('specificity')\n",
    "        plt.grid()\n",
    "    return all_stats, thresholds"
   ]
  },
  {
   "cell_type": "code",
   "execution_count": 35,
   "metadata": {},
   "outputs": [],
   "source": [
    "results = defaultdict(lambda:[])\n",
    "columns = [f'spec9{i}' for i in range(0, 9, 2)] + ['aps', 'auc', 'acc', 'f1', 'args']\n",
    "\n",
    "def log_results(model, model_name, X_test, y_test, model_args=None, dct=None):\n",
    "    pred_proba_args = (X_test,)\n",
    "    \n",
    "    spec_scorer_list = [validate.make_best_spec_high_sens_scorer(sens) for sens in [0.9, 0.92, 0.94, 0.96, 0.98]]\n",
    "    spec_scores = [scorer(y_test, model.predict_proba(*pred_proba_args)[:, 1]) for scorer in spec_scorer_list]\n",
    "    apc = metrics.average_precision_score(y_test, model.predict_proba(*pred_proba_args)[:, 1])\n",
    "    auc = metrics.roc_auc_score(y_test, model.predict_proba(*pred_proba_args)[:, 1])\n",
    "    acc = metrics.accuracy_score(y_test, model.predict(X_test))\n",
    "    f1 = metrics.f1_score(y_test, model.predict(X_test))\n",
    "    if dct is not None:\n",
    "        dct[model_name] = spec_scores + [apc, auc, acc, f1, model_args]\n",
    "    else:\n",
    "        results[model_name] = spec_scores + [apc, auc, acc, f1, model_args]"
   ]
  },
  {
   "cell_type": "code",
   "execution_count": 36,
   "metadata": {},
   "outputs": [],
   "source": [
    "class TransferTree:\n",
    "    def __init__(self, model_0, model_1, model_1_log_arr):\n",
    "        self.model_0 = model_0\n",
    "        self.model_1 = model_1\n",
    "        self.model_1_log_arr = model_1_log_arr\n",
    "\n",
    "    def predict(self, X):\n",
    "        return np.argmax(self.predict_proba(X), axis=1)\n",
    "\n",
    "    def predict_proba(self, X):\n",
    "        preds_proba = np.zeros((X.shape[0], 2))\n",
    "        preds_proba[~self.model_1_log_arr] = self.model_0.predict_proba(\n",
    "            X[~self.model_1_log_arr])\n",
    "        preds_proba[self.model_1_log_arr] = self.model_1.predict_proba(\n",
    "            X[self.model_1_log_arr])\n",
    "        return preds_proba\n",
    "\n",
    "class PECARNModel:\n",
    "    def __init__(self, young):\n",
    "        self.young = young\n",
    "\n",
    "    def predict(self, X: pd.DataFrame):\n",
    "        if DATASET == 'tbi' and self.young:\n",
    "            factors_sum = (\n",
    "                X['AMS'] + X['HemaLoc_Occipital'] + X['HemaLoc_Parietal/Temporal'] + X['LocLen_1-5 min'] + \n",
    "                X['LocLen_5 sec - 1 min'] + X['LocLen_>5 min'] + X['High_impact_InjSev_High'] + \n",
    "                X['SFxPalp_Unclear'] + X['SFxPalp_Yes'] + (1 - X['ActNorm']))\n",
    "        elif DATASET == 'tbi':\n",
    "            factors_sum = (\n",
    "                X['AMS'] + X['Vomit'] + X['LOCSeparate_Suspected'] + X['LOCSeparate_Yes'] + \n",
    "                X['High_impact_InjSev_High'] + X['SFxBas'] +  X['HASeverity_Severe'])\n",
    "        elif DATASET == 'csi':\n",
    "            factors_sum = (\n",
    "                X['AlteredMentalStatus2'] + X['PainNeck2'] + X['FocalNeuroFindings2'] + \n",
    "                X['Torticollis2'] + X['subinj_TorsoTrunk2'] + X['Predisposed'] + \n",
    "                X['HighriskDiving'] + X['HighriskMVC']\n",
    "            )\n",
    "        elif DATASET == 'iai':\n",
    "            factors_sum = (\n",
    "                X['AbdTrauma_or_SeatBeltSign_yes'] + (X['GCSScore'] <= 13).astype(int) + \n",
    "                X['AbdTenderDegree_Mild'] + X['AbdTenderDegree_Moderate'] + \n",
    "                X['AbdTenderDegree_Severe'] + X['ThoracicTrauma_yes'] + X['AbdomenPain_yes'] +\n",
    "                X['DecrBreathSound_yes'] + X['VomitWretch_yes']\n",
    "            )\n",
    "        preds = (factors_sum >= 1).astype(int)\n",
    "\n",
    "        return preds.values\n",
    "    \n",
    "    def predict_proba(self, X: pd.DataFrame):\n",
    "        preds = np.expand_dims(self.predict(X), axis=1)\n",
    "        return np.hstack((1 - preds, preds))"
   ]
  },
  {
   "cell_type": "code",
   "execution_count": 37,
   "metadata": {},
   "outputs": [],
   "source": [
    "X, y, feature_names = data_util.get_clean_dataset(f'{DATASET}_pecarn_pred.csv', data_source='imodels')\n",
    "X_df = pd.DataFrame(X, columns=feature_names)"
   ]
  },
  {
   "cell_type": "code",
   "execution_count": 38,
   "metadata": {},
   "outputs": [],
   "source": [
    "def predict_and_save(model, X_test, y_test, model_name, group):\n",
    "    '''Plots cv and returns cv, saves all stats\n",
    "    '''\n",
    "    results = {}\n",
    "    for x, y, suffix in zip([X_test],\n",
    "                            [y_test],\n",
    "                            ['_tune']):\n",
    "        stats, threshes = all_stats_curve(y, model.predict_proba(x)[:, 1], plot=suffix == '_tune', model_name=model_name)\n",
    "        for stat in stats.keys():\n",
    "            results[stat + suffix] = stats[stat]\n",
    "        results['threshes' + suffix] = threshes\n",
    "        results['acc'] = metrics.accuracy_score(y, model.predict(x))\n",
    "        results['f1'] = metrics.f1_score(y, model.predict(x))\n",
    "        if type(model) not in {TransferTree, PECARNModel}:\n",
    "            results['params'] = model.get_params()\n",
    "    if not os.path.exists(oj(RESULT_PATH, group)):\n",
    "        os.mkdir(oj(RESULT_PATH, group))\n",
    "    print(RESULT_PATH)\n",
    "    pkl.dump(results, open(oj(RESULT_PATH, group, model_name + '.pkl'), 'wb'))\n",
    "    return stats, threshes"
   ]
  },
  {
   "cell_type": "markdown",
   "metadata": {},
   "source": [
    "### training propensity model"
   ]
  },
  {
   "cell_type": "code",
   "execution_count": 39,
   "metadata": {},
   "outputs": [],
   "source": [
    "X_prop_raw, _, fnames_prop = data_util.get_clean_dataset(f'{DATASET}_pecarn_prop.csv', data_source='imodels', convertna=False)"
   ]
  },
  {
   "cell_type": "code",
   "execution_count": 40,
   "metadata": {},
   "outputs": [],
   "source": [
    "X_df_prop_raw = pd.DataFrame(X_prop_raw, columns=fnames_prop)\n",
    "X_df_prop_raw['outcome'] = y\n",
    "\n",
    "if DATASET == 'tbi':\n",
    "    y_prop = X_df_prop_raw['AgeTwoPlus']\n",
    "    X_df_prop = X_df_prop_raw.drop(columns=['AgeinYears', 'AgeInMonth', 'AgeTwoPlus', 'outcome'])\n",
    "    pmodel_all = GradientBoostingClassifier().fit(X_df_prop, y_prop)\n",
    "elif DATASET == 'csi':\n",
    "    y_prop = (X_df_prop_raw['AgeInYears'] >= 2).astype(int)\n",
    "    X_df_prop = X_df_prop_raw.drop(columns=['AgeInYears', 'outcome'])\n",
    "    pmodel_all = LogisticRegression(C=2.78, penalty='l2', solver='liblinear').fit(X_df_prop, y_prop)\n",
    "elif DATASET == 'iai':\n",
    "    y_prop = X_df_prop_raw['Age<2_no']\n",
    "    X_df_prop = X_df_prop_raw.drop(columns=['Age', 'Age<2_no', 'Age<2_yes', 'outcome'])\n",
    "    pmodel_all = LogisticRegression(C=0.1, penalty='l2', solver='liblinear').fit(X_df_prop, y_prop)\n",
    "\n",
    "pscores_all = pmodel_all.predict_proba(X_df_prop)[:, 1]"
   ]
  },
  {
   "cell_type": "markdown",
   "metadata": {},
   "source": [
    "### data setup"
   ]
  },
  {
   "cell_type": "code",
   "execution_count": 41,
   "metadata": {},
   "outputs": [],
   "source": [
    "if DATASET == 'csi':\n",
    "    is_group_1 = (X_df['AgeInYears'] >= 2).astype(bool)\n",
    "    X_df_clean = X_df\n",
    "elif DATASET == 'tbi':\n",
    "    is_group_1 = X_df['AgeTwoPlus'].astype(bool)\n",
    "    X_df_clean = X_df.drop(columns=['AgeinYears'])\n",
    "elif DATASET == 'iai':\n",
    "    is_group_1 = X_df['Age<2_no'].astype(bool)\n",
    "    X_df_clean = X_df.drop(columns=['Age<2_no', 'Age<2_yes'])\n",
    "feature_names = X_df_clean.columns\n",
    "\n",
    "X_young, X_old = X_df_clean[~is_group_1], X_df_clean[is_group_1]\n",
    "y_young, y_old = y[~is_group_1], y[is_group_1]"
   ]
  },
  {
   "cell_type": "code",
   "execution_count": 42,
   "metadata": {},
   "outputs": [],
   "source": [
    "cls_ratio = lambda x: int(pd.Series(x).value_counts()[0.0] / pd.Series(x).value_counts()[1.0])\n",
    "cls_ratio_all = cls_ratio(y)\n",
    "sw_all = y * cls_ratio_all + 1"
   ]
  },
  {
   "cell_type": "code",
   "execution_count": 43,
   "metadata": {},
   "outputs": [],
   "source": [
    "all_model_young = imodels.FIGSClassifier(max_rules=8)\n",
    "all_model_old = imodels.FIGSClassifier(max_rules=12)\n",
    "all_model_young.fit(X_df_clean, y, sample_weight=(1 - pscores_all) * sw_all)\n",
    "all_model_old.fit(X_df_clean, y, sample_weight=pscores_all * sw_all)\n",
    "all_model_all = TransferTree(all_model_young, all_model_old, is_group_1)"
   ]
  },
  {
   "cell_type": "code",
   "execution_count": 44,
   "metadata": {},
   "outputs": [
    {
     "name": "stdout",
     "output_type": "stream",
     "text": [
      "------------\n",
      "AMS <= 0.500 (Tree #0 root)\n",
      "\tHemaLoc_Parietal/Temporal <= 0.500 (split)\n",
      "\t\tHigh_impact_InjSev_High <= 0.500 (split)\n",
      "\t\t\tSFxPalpDepress_1.0 <= 0.500 (split)\n",
      "\t\t\t\tSeizLen_Not applicable <= 0.500 (split)\n",
      "\t\t\t\t\tVal: 0.742 (leaf)\n",
      "\t\t\t\t\tSFxBas <= 0.500 (split)\n",
      "\t\t\t\t\t\tVal: 0.047 (leaf)\n",
      "\t\t\t\t\t\tVal: 0.870 (leaf)\n",
      "\t\t\t\tVal: 0.966 (leaf)\n",
      "\t\t\tHemaLoc_Occipital <= 0.500 (split)\n",
      "\t\t\t\tAgeInMonth <= 6.500 (split)\n",
      "\t\t\t\t\tVal: 0.602 (leaf)\n",
      "\t\t\t\t\tVal: 0.211 (leaf)\n",
      "\t\t\t\tVal: 0.791 (leaf)\n",
      "\t\tVal: 0.719 (leaf)\n",
      "\tVal: 0.827 (leaf)\n",
      "\n"
     ]
    }
   ],
   "source": [
    "all_model_young.feature_names_ = feature_names\n",
    "print(all_model_young)"
   ]
  },
  {
   "cell_type": "code",
   "execution_count": 45,
   "metadata": {},
   "outputs": [
    {
     "name": "stdout",
     "output_type": "stream",
     "text": [
      "------------\n",
      "AMS <= 0.500 (Tree #0 root)\n",
      "\tSFxBas <= 0.500 (split)\n",
      "\t\tHigh_impact_InjSev_High <= 0.500 (split)\n",
      "\t\t\tLOCSeparate_No <= 0.500 (split)\n",
      "\t\t\t\tAmnesia_verb_0.0 <= 0.500 (split)\n",
      "\t\t\t\t\tVal: 0.553 (leaf)\n",
      "\t\t\t\t\tInjuryMech_BikeCol <= 0.500 (split)\n",
      "\t\t\t\t\t\tVal: 0.068 (leaf)\n",
      "\t\t\t\t\t\tVal: 0.744 (leaf)\n",
      "\t\t\t\tVomitStart_Not applicable <= 0.500 (split)\n",
      "\t\t\t\t\tHA_verb_1.0 <= 0.500 (split)\n",
      "\t\t\t\t\t\tVal: 0.103 (leaf)\n",
      "\t\t\t\t\t\tVal: 0.585 (leaf)\n",
      "\t\t\t\t\tSFxPalpDepress_1.0 <= 0.500 (split)\n",
      "\t\t\t\t\t\tOSIFlank <= 0.500 (split)\n",
      "\t\t\t\t\t\t\tHASeverity_Severe <= 0.500 (split)\n",
      "\t\t\t\t\t\t\t\tNeuroDCranial <= 0.500 (split)\n",
      "\t\t\t\t\t\t\t\t\tVal: 0.047 (leaf)\n",
      "\t\t\t\t\t\t\t\t\tVal: 0.800 (leaf)\n",
      "\t\t\t\t\t\t\t\tVal: 0.507 (leaf)\n",
      "\t\t\t\t\t\t\tVal: 0.515 (leaf)\n",
      "\t\t\t\t\t\tVal: 0.943 (leaf)\n",
      "\t\t\tVal: 0.576 (leaf)\n",
      "\t\tVal: 0.935 (leaf)\n",
      "\tVal: 0.826 (leaf)\n",
      "\n"
     ]
    }
   ],
   "source": [
    "all_model_old.feature_names_ = feature_names\n",
    "print(all_model_old)"
   ]
  },
  {
   "cell_type": "code",
   "execution_count": 46,
   "metadata": {},
   "outputs": [
    {
     "name": "stderr",
     "output_type": "stream",
     "text": [
      "100%|██████████| 13/13 [00:01<00:00, 10.53it/s]\n"
     ]
    },
    {
     "name": "stdout",
     "output_type": "stream",
     "text": [
      "notebooks/transfertree/results/tbi\n"
     ]
    },
    {
     "name": "stderr",
     "output_type": "stream",
     "text": [
      "100%|██████████| 9/9 [00:00<00:00, 28.76it/s]\n"
     ]
    },
    {
     "name": "stdout",
     "output_type": "stream",
     "text": [
      "notebooks/transfertree/results/tbi\n"
     ]
    },
    {
     "name": "stderr",
     "output_type": "stream",
     "text": [
      "100%|██████████| 22/22 [00:02<00:00,  7.64it/s]\n"
     ]
    },
    {
     "name": "stdout",
     "output_type": "stream",
     "text": [
      "notebooks/transfertree/results/tbi\n"
     ]
    },
    {
     "data": {
      "text/plain": [
       "({'sens': [0.9813829787234043,\n",
       "   0.9707446808510638,\n",
       "   0.9680851063829787,\n",
       "   0.9680851063829787,\n",
       "   0.9654255319148937,\n",
       "   0.9601063829787234,\n",
       "   0.9574468085106383,\n",
       "   0.9069148936170213,\n",
       "   0.8085106382978723,\n",
       "   0.773936170212766,\n",
       "   0.7526595744680851,\n",
       "   0.6941489361702128,\n",
       "   0.6861702127659575,\n",
       "   0.6781914893617021,\n",
       "   0.6648936170212766,\n",
       "   0.6622340425531915,\n",
       "   0.19946808510638298,\n",
       "   0.06648936170212766,\n",
       "   0.06382978723404255,\n",
       "   0.013297872340425532,\n",
       "   0.010638297872340425,\n",
       "   0.0],\n",
       "  'spec': [0.4274945305811852,\n",
       "   0.5894606677446971,\n",
       "   0.6261295538856654,\n",
       "   0.6486255112717588,\n",
       "   0.6742128792923048,\n",
       "   0.6793969371254637,\n",
       "   0.6851992770855132,\n",
       "   0.7294777894035955,\n",
       "   0.8053362503567012,\n",
       "   0.8297821744506801,\n",
       "   0.8419337962522591,\n",
       "   0.8622657661942357,\n",
       "   0.8635974507752306,\n",
       "   0.8663559402644345,\n",
       "   0.8694473508988871,\n",
       "   0.8700894131075811,\n",
       "   0.9678493294016931,\n",
       "   0.995458004375535,\n",
       "   0.9958384856843907,\n",
       "   0.999357937791306,\n",
       "   0.9998335394273756,\n",
       "   1.0],\n",
       "  'ppv': [0.015095729013254787,\n",
       "   0.020704520959782178,\n",
       "   0.022628372497824196,\n",
       "   0.02404227212681638,\n",
       "   0.025812415558557917,\n",
       "   0.026078162248067617,\n",
       "   0.02647448154140315,\n",
       "   0.029103012716565672,\n",
       "   0.03580683156654888,\n",
       "   0.039065646395489324,\n",
       "   0.04083694083694084,\n",
       "   0.043119114488683295,\n",
       "   0.043043043043043044,\n",
       "   0.04340425531914894,\n",
       "   0.04355400696864112,\n",
       "   0.043592436974789914,\n",
       "   0.05255781359495445,\n",
       "   0.11574074074074074,\n",
       "   0.12060301507537688,\n",
       "   0.15625,\n",
       "   0.36363636363636365,\n",
       "   nan],\n",
       "  'npv': [0.9996107651245552,\n",
       "   0.9995564337271664,\n",
       "   0.9995444537240908,\n",
       "   0.9995602462620933,\n",
       "   0.9995416887008638,\n",
       "   0.9994752492566031,\n",
       "   0.999445022545959,\n",
       "   0.9988603431995051,\n",
       "   0.9978784842948907,\n",
       "   0.9975699705537608,\n",
       "   0.9973801340920615,\n",
       "   0.9968384879725086,\n",
       "   0.9967612669484548,\n",
       "   0.996689738188384,\n",
       "   0.9965656345399041,\n",
       "   0.996541017540037,\n",
       "   0.9926587156410819,\n",
       "   0.99168482895859,\n",
       "   0.9916644959624902,\n",
       "   0.9912491744504198,\n",
       "   0.991229931395431,\n",
       "   0.9911379277835392],\n",
       "  'lr+': [1.7141896997414996,\n",
       "   2.3645595064381917,\n",
       "   2.589359807506489,\n",
       "   2.7551377161354242,\n",
       "   2.963363099860227,\n",
       "   2.9946887418054646,\n",
       "   3.0414377694130055,\n",
       "   3.352460012867702,\n",
       "   4.153370310493784,\n",
       "   4.546739847693104,\n",
       "   4.7616729991773585,\n",
       "   5.039770556600446,\n",
       "   5.0304793910798535,\n",
       "   5.074610055273719,\n",
       "   5.092915552455143,\n",
       "   5.097614123640275,\n",
       "   6.204165617524858,\n",
       "   14.638799153391833,\n",
       "   15.338115501519578,\n",
       "   20.711189913317334,\n",
       "   63.908814589664914,\n",
       "   nan],\n",
       "  'lr-': [0.0435491449476221,\n",
       "   0.04963065519005426,\n",
       "   0.050971709319520636,\n",
       "   0.049203882768110364,\n",
       "   0.05128123349022614,\n",
       "   0.05871915936222342,\n",
       "   0.06210338059660707,\n",
       "   0.12760512757911793,\n",
       "   0.23777566403761516,\n",
       "   0.27243755861216157,\n",
       "   0.2937765732090972,\n",
       "   0.3547062585816385,\n",
       "   0.36339823253568554,\n",
       "   0.37145068866276076,\n",
       "   0.3854245833658245,\n",
       "   0.3881968362773836,\n",
       "   0.8271245229755868,\n",
       "   0.9377699854686256,\n",
       "   0.940082379044202,\n",
       "   0.9873360588302302,\n",
       "   0.9895264192620369,\n",
       "   1.0],\n",
       "  'f1': [0.029734085414987912,\n",
       "   0.04054429325187448,\n",
       "   0.04422305916656542,\n",
       "   0.04691930910028358,\n",
       "   0.05028049033866611,\n",
       "   0.05077712919333287,\n",
       "   0.051524259338772006,\n",
       "   0.05639626230050442,\n",
       "   0.06857658470561696,\n",
       "   0.07437699680511183,\n",
       "   0.07747057213249384,\n",
       "   0.0811945870275315,\n",
       "   0.08100470957613815,\n",
       "   0.08158694608862582,\n",
       "   0.08175277959450622,\n",
       "   0.08180026281208935,\n",
       "   0.08319467554076539,\n",
       "   0.08445945945945946,\n",
       "   0.08347826086956522,\n",
       "   0.024509803921568627,\n",
       "   0.020671834625323,\n",
       "   0.0]},\n",
       " [0.04698588032490701,\n",
       "  0.04749168488082581,\n",
       "  0.06789741616123543,\n",
       "  0.1026570491495183,\n",
       "  0.21106769338078027,\n",
       "  0.5065151685149525,\n",
       "  0.5153169084234418,\n",
       "  0.552747666136654,\n",
       "  0.5755594902389517,\n",
       "  0.5851401504508863,\n",
       "  0.6015537816244844,\n",
       "  0.7193515603950146,\n",
       "  0.7423333867324148,\n",
       "  0.7435087425298527,\n",
       "  0.7906795687495668,\n",
       "  0.8000678987279396,\n",
       "  0.8260537641208817,\n",
       "  0.8273779964293956,\n",
       "  0.8697759874558566,\n",
       "  0.9354026481484347,\n",
       "  0.942538620638675,\n",
       "  0.9663096602352649])"
      ]
     },
     "execution_count": 46,
     "metadata": {},
     "output_type": "execute_result"
    },
    {
     "data": {
      "image/png": "[encoded data removed]",
      "text/plain": [
       "<Figure size 1500x1000 with 1 Axes>"
      ]
     },
     "metadata": {
      "needs_background": "light"
     },
     "output_type": "display_data"
    }
   ],
   "source": [
    "predict_and_save(all_model_old, X_old, y_old, 'pfigs_old', '')\n",
    "predict_and_save(all_model_young, X_young, y_young, 'pfigs_young', '')\n",
    "predict_and_save(all_model_all, X_df_clean, y, 'pfigs_all', '')"
   ]
  },
  {
   "cell_type": "code",
   "execution_count": 47,
   "metadata": {},
   "outputs": [],
   "source": [
    "pkl.dump(all_model_old, open(oj(RESULT_PATH, 'all_model_old.pkl'), 'wb'))\n",
    "pkl.dump(all_model_young, open(oj(RESULT_PATH, 'all_model_young.pkl'), 'wb'))"
   ]
  },
  {
   "cell_type": "code",
   "execution_count": 267,
   "metadata": {},
   "outputs": [
    {
     "data": {
      "text/plain": [
       "8"
      ]
     },
     "execution_count": 267,
     "metadata": {},
     "output_type": "execute_result"
    }
   ],
   "source": [
    "pkl.load(open('notebooks/transfertree/results/csi/seed_6/all_model_old.pkl', 'rb')).max_rules"
   ]
  },
  {
   "cell_type": "code",
   "execution_count": 107,
   "metadata": {},
   "outputs": [],
   "source": [
    "dt = DecisionTreeClassifier(max_depth=1).fit(X_df_clean, y)"
   ]
  },
  {
   "cell_type": "code",
   "execution_count": 109,
   "metadata": {},
   "outputs": [
    {
     "data": {
      "text/plain": [
       "array([[[11841.,   203.]],\n",
       "\n",
       "       [[11613.,   154.]],\n",
       "\n",
       "       [[  228.,    49.]]])"
      ]
     },
     "execution_count": 109,
     "metadata": {},
     "output_type": "execute_result"
    }
   ],
   "source": [
    "dt.tree_.value"
   ]
  },
  {
   "cell_type": "code",
   "execution_count": 111,
   "metadata": {},
   "outputs": [
    {
     "name": "stdout",
     "output_type": "stream",
     "text": [
      "[[[0.01685487]]\n",
      "\n",
      " [[0.01308745]]\n",
      "\n",
      " [[0.17689531]]]\n",
      "[[[ 1.76206078e-17]]\n",
      "\n",
      " [[-4.08219084e-03]]\n",
      "\n",
      " [[ 1.13258875e-01]]]\n",
      "[[[0.01308745]]\n",
      "\n",
      " [[0.00939833]]\n",
      "\n",
      " [[0.12303665]]]\n",
      "[[[0.17689531]]\n",
      "\n",
      " [[0.31730769]]\n",
      "\n",
      " [[0.09248555]]]\n",
      "[[[0.16530378]]\n",
      "\n",
      " [[0.30672225]]\n",
      "\n",
      " [[0.08028921]]]\n",
      "[[[0.01336032]]\n",
      "\n",
      " [[0.07747669]]\n",
      "\n",
      " [[0.01024649]]]\n",
      "[[[-5.36866669e-16]]\n",
      "\n",
      " [[ 6.75033882e-02]]\n",
      "\n",
      " [[-3.64484034e-03]]]\n",
      "[[[-0.00408219]]\n",
      "\n",
      " [[ 0.0634212 ]]\n",
      "\n",
      " [[-0.00786577]]]\n",
      "[[[0.11325887]]\n",
      "\n",
      " [[0.2271996 ]]\n",
      "\n",
      " [[0.03849934]]]\n",
      "[[[0.01342994]]\n",
      "\n",
      " [[0.07747669]]\n",
      "\n",
      " [[0.01031949]]]\n",
      "[[[-5.43964574e-16]]\n",
      "\n",
      " [[ 6.75033882e-02]]\n",
      "\n",
      " [[-3.64484034e-03]]]\n",
      "[[[-0.00408219]]\n",
      "\n",
      " [[ 0.0634212 ]]\n",
      "\n",
      " [[-0.00786577]]]\n",
      "[[[0.16234637]]\n",
      "\n",
      " [[0.30699506]]\n",
      "\n",
      " [[0.07538993]]]\n",
      "[[[0.2271996 ]]\n",
      "\n",
      " [[0.17067429]]\n",
      "\n",
      " [[0.51820028]]]\n",
      "[[[0.03849934]]\n",
      "\n",
      " [[0.03538583]]\n",
      "\n",
      " [[0.82310469]]]\n"
     ]
    },
    {
     "data": {
      "text/plain": [
       "FIGSClassifier(max_rules=3)"
      ]
     },
     "execution_count": 111,
     "metadata": {},
     "output_type": "execute_result"
    }
   ],
   "source": [
    "imodels.FIGSClassifier(max_rules=3).fit(X_df_clean, y)"
   ]
  },
  {
   "cell_type": "code",
   "execution_count": null,
   "metadata": {},
   "outputs": [],
   "source": []
  }
 ],
 "metadata": {
  "interpreter": {
   "hash": "d833dc0779f0f050568351c83cfa2f037bffe4d045df2adc54e8a65e73ce0016"
  },
  "kernelspec": {
   "display_name": "Python 3.10.0 ('imodels-experiments')",
   "language": "python",
   "name": "python3"
  },
  "language_info": {
   "codemirror_mode": {
    "name": "ipython",
    "version": 3
   },
   "file_extension": ".py",
   "mimetype": "text/x-python",
   "name": "python",
   "nbconvert_exporter": "python",
   "pygments_lexer": "ipython3",
   "version": "3.10.0"
  },
  "orig_nbformat": 4
 },
 "nbformat": 4,
 "nbformat_minor": 2
}
