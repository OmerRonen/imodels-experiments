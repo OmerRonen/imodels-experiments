{
 "cells": [
  {
   "cell_type": "code",
   "execution_count": 147,
   "metadata": {},
   "outputs": [],
   "source": [
    "import numpy as np\n",
    "import pickle as pkl\n",
    "import matplotlib.pyplot as plt\n",
    "import glob\n",
    "import pandas as pd\n",
    "import os\n",
    "import matplotlib as mpl\n",
    "from numpy import concatenate as cat\n",
    "from collections import defaultdict\n",
    "from sklearn import metrics\n",
    "mpl.rcParams['figure.dpi'] = 250\n",
    "pd.set_option('precision', 2)"
   ]
  },
  {
   "cell_type": "code",
   "execution_count": 148,
   "metadata": {},
   "outputs": [],
   "source": [
    "results = {}\n",
    "for dataset in ['csi', 'tbi', 'iai']:\n",
    "    for group in ['all']:\n",
    "        results[f'{dataset}_{group}'] = pd.read_csv(\n",
    "            f'results/{dataset}/{group}_average.csv').set_index('Unnamed: 0')\n",
    "results['sim'] = pd.read_csv(f'results/sim/all_average.csv').set_index('Unnamed: 0')"
   ]
  },
  {
   "cell_type": "code",
   "execution_count": 149,
   "metadata": {},
   "outputs": [],
   "source": [
    "for key in results:\n",
    "    results[key] = results[key].rename({\n",
    "        'spec_0.92': '0.92',\n",
    "        'spec_0.94': '0.94',\n",
    "        'spec_0.96': '0.96',\n",
    "        'spec_0.98': '0.98',\n",
    "        'auc': 'AUC of ROC',\n",
    "        'aps': 'Avg precision score',\n",
    "        'acc': 'Accuracy',\n",
    "    }, axis=1)\n",
    "    results[key] = results[key].rename(lambda x: x.replace('pfigs_combine', 'pfigs'), axis=0)\n",
    "    results[key].index = results[key].index.rename('Model')\n",
    "\n",
    "    results[key]['Accuracy'] = (results[key]['Accuracy']*100)#.map(lambda x: '{0:.1f}'.format(x))\n",
    "    results[key]['f1'] = (results[key]['f1']*100)#.map(lambda x: '{0:.1f}'.format(x)) \n",
    "    results[key]['AUC of ROC'] = results[key]['AUC of ROC'].map(lambda x: '{0:.3f}'.format(x))\n",
    "    results[key]['Avg precision score'] = results[key]['Avg precision score'].map(lambda x: '{0:.3f}'.format(x)) "
   ]
  },
  {
   "cell_type": "markdown",
   "metadata": {},
   "source": [
    "# csi"
   ]
  },
  {
   "cell_type": "code",
   "execution_count": 150,
   "metadata": {},
   "outputs": [],
   "source": [
    "order = [0, 1, 11, 12, 3, 4, 9, 6]"
   ]
  },
  {
   "cell_type": "markdown",
   "metadata": {},
   "source": [
    "#### all"
   ]
  },
  {
   "cell_type": "code",
   "execution_count": 151,
   "metadata": {},
   "outputs": [
    {
     "data": {
      "text/html": [
       "<style type=\"text/css\">\n",
       "#T_32dd0_row0_col1, #T_32dd0_row7_col0 {\n",
       "  background-color: yellow;\n",
       "}\n",
       "</style>\n",
       "<table id=\"T_32dd0_\">\n",
       "  <thead>\n",
       "    <tr>\n",
       "      <th class=\"blank level0\" >&nbsp;</th>\n",
       "      <th class=\"col_heading level0 col0\" >AUC of ROC</th>\n",
       "      <th class=\"col_heading level0 col1\" >f1</th>\n",
       "    </tr>\n",
       "    <tr>\n",
       "      <th class=\"index_name level0\" >Model</th>\n",
       "      <th class=\"blank col0\" >&nbsp;</th>\n",
       "      <th class=\"blank col1\" >&nbsp;</th>\n",
       "    </tr>\n",
       "  </thead>\n",
       "  <tbody>\n",
       "    <tr>\n",
       "      <th id=\"T_32dd0_level0_row0\" class=\"row_heading level0 row0\" >cart_all</th>\n",
       "      <td id=\"T_32dd0_row0_col0\" class=\"data row0 col0\" >0.617</td>\n",
       "      <td id=\"T_32dd0_row0_col1\" class=\"data row0 col1\" >45.82</td>\n",
       "    </tr>\n",
       "    <tr>\n",
       "      <th id=\"T_32dd0_level0_row1\" class=\"row_heading level0 row1\" >cart_combine</th>\n",
       "      <td id=\"T_32dd0_row1_col0\" class=\"data row1 col0\" >0.707</td>\n",
       "      <td id=\"T_32dd0_row1_col1\" class=\"data row1 col1\" >44.15</td>\n",
       "    </tr>\n",
       "    <tr>\n",
       "      <th id=\"T_32dd0_level0_row2\" class=\"row_heading level0 row2\" >tao_all</th>\n",
       "      <td id=\"T_32dd0_row2_col0\" class=\"data row2 col0\" >0.422</td>\n",
       "      <td id=\"T_32dd0_row2_col1\" class=\"data row2 col1\" >44.53</td>\n",
       "    </tr>\n",
       "    <tr>\n",
       "      <th id=\"T_32dd0_level0_row3\" class=\"row_heading level0 row3\" >tao_combine</th>\n",
       "      <td id=\"T_32dd0_row3_col0\" class=\"data row3 col0\" >0.702</td>\n",
       "      <td id=\"T_32dd0_row3_col1\" class=\"data row3 col1\" >44.43</td>\n",
       "    </tr>\n",
       "    <tr>\n",
       "      <th id=\"T_32dd0_level0_row4\" class=\"row_heading level0 row4\" >figs_all</th>\n",
       "      <td id=\"T_32dd0_row4_col0\" class=\"data row4 col0\" >0.664</td>\n",
       "      <td id=\"T_32dd0_row4_col1\" class=\"data row4 col1\" >42.99</td>\n",
       "    </tr>\n",
       "    <tr>\n",
       "      <th id=\"T_32dd0_level0_row5\" class=\"row_heading level0 row5\" >figs_combine</th>\n",
       "      <td id=\"T_32dd0_row5_col0\" class=\"data row5 col0\" >0.643</td>\n",
       "      <td id=\"T_32dd0_row5_col1\" class=\"data row5 col1\" >41.41</td>\n",
       "    </tr>\n",
       "    <tr>\n",
       "      <th id=\"T_32dd0_level0_row6\" class=\"row_heading level0 row6\" >pfigs</th>\n",
       "      <td id=\"T_32dd0_row6_col0\" class=\"data row6 col0\" >0.700</td>\n",
       "      <td id=\"T_32dd0_row6_col1\" class=\"data row6 col1\" >42.58</td>\n",
       "    </tr>\n",
       "    <tr>\n",
       "      <th id=\"T_32dd0_level0_row7\" class=\"row_heading level0 row7\" >pcart_combine</th>\n",
       "      <td id=\"T_32dd0_row7_col0\" class=\"data row7 col0\" >0.751</td>\n",
       "      <td id=\"T_32dd0_row7_col1\" class=\"data row7 col1\" >45.18</td>\n",
       "    </tr>\n",
       "  </tbody>\n",
       "</table>\n"
      ],
      "text/plain": [
       "<pandas.io.formats.style.Styler at 0x7fd6f1209de0>"
      ]
     },
     "execution_count": 151,
     "metadata": {},
     "output_type": "execute_result"
    }
   ],
   "source": [
    "(results['csi_all'].iloc[order, [-13, -10]]).style.highlight_max(color='yellow')\n",
    "#.to_latex()"
   ]
  },
  {
   "cell_type": "code",
   "execution_count": 152,
   "metadata": {},
   "outputs": [
    {
     "data": {
      "text/html": [
       "<div>\n",
       "<style scoped>\n",
       "    .dataframe tbody tr th:only-of-type {\n",
       "        vertical-align: middle;\n",
       "    }\n",
       "\n",
       "    .dataframe tbody tr th {\n",
       "        vertical-align: top;\n",
       "    }\n",
       "\n",
       "    .dataframe thead th {\n",
       "        text-align: right;\n",
       "    }\n",
       "</style>\n",
       "<table border=\"1\" class=\"dataframe\">\n",
       "  <thead>\n",
       "    <tr style=\"text-align: right;\">\n",
       "      <th></th>\n",
       "      <th>auc_std_err</th>\n",
       "      <th>f1_std_err</th>\n",
       "    </tr>\n",
       "    <tr>\n",
       "      <th>Model</th>\n",
       "      <th></th>\n",
       "      <th></th>\n",
       "    </tr>\n",
       "  </thead>\n",
       "  <tbody>\n",
       "    <tr>\n",
       "      <th>cart_all</th>\n",
       "      <td>5.7</td>\n",
       "      <td>1.4</td>\n",
       "    </tr>\n",
       "    <tr>\n",
       "      <th>cart_combine</th>\n",
       "      <td>0.4</td>\n",
       "      <td>1.4</td>\n",
       "    </tr>\n",
       "    <tr>\n",
       "      <th>tao_all</th>\n",
       "      <td>3.7</td>\n",
       "      <td>1.2</td>\n",
       "    </tr>\n",
       "    <tr>\n",
       "      <th>tao_combine</th>\n",
       "      <td>0.6</td>\n",
       "      <td>1.4</td>\n",
       "    </tr>\n",
       "    <tr>\n",
       "      <th>figs_all</th>\n",
       "      <td>2.8</td>\n",
       "      <td>1.3</td>\n",
       "    </tr>\n",
       "    <tr>\n",
       "      <th>figs_combine</th>\n",
       "      <td>1.5</td>\n",
       "      <td>1.3</td>\n",
       "    </tr>\n",
       "    <tr>\n",
       "      <th>pfigs</th>\n",
       "      <td>1.5</td>\n",
       "      <td>1.1</td>\n",
       "    </tr>\n",
       "    <tr>\n",
       "      <th>pcart_combine</th>\n",
       "      <td>0.7</td>\n",
       "      <td>1.2</td>\n",
       "    </tr>\n",
       "  </tbody>\n",
       "</table>\n",
       "</div>"
      ],
      "text/plain": [
       "               auc_std_err  f1_std_err\n",
       "Model                                 \n",
       "cart_all               5.7         1.4\n",
       "cart_combine           0.4         1.4\n",
       "tao_all                3.7         1.2\n",
       "tao_combine            0.6         1.4\n",
       "figs_all               2.8         1.3\n",
       "figs_combine           1.5         1.3\n",
       "pfigs                  1.5         1.1\n",
       "pcart_combine          0.7         1.2"
      ]
     },
     "execution_count": 152,
     "metadata": {},
     "output_type": "execute_result"
    }
   ],
   "source": [
    "(results['csi_all'].iloc[order, [-4, -1]] * 100).round(1)"
   ]
  },
  {
   "cell_type": "markdown",
   "metadata": {},
   "source": [
    "#### young"
   ]
  },
  {
   "cell_type": "code",
   "execution_count": 153,
   "metadata": {},
   "outputs": [],
   "source": [
    "# order_group = [0, 1, 7, 8, 2, 3, 6]"
   ]
  },
  {
   "cell_type": "code",
   "execution_count": 154,
   "metadata": {},
   "outputs": [],
   "source": [
    "# (results['csi_young'].iloc[order_group, [-17, -16, -15, -14]] * 100).style.highlight_max(color='yellow')"
   ]
  },
  {
   "cell_type": "markdown",
   "metadata": {},
   "source": [
    "#### old"
   ]
  },
  {
   "cell_type": "code",
   "execution_count": 155,
   "metadata": {},
   "outputs": [],
   "source": [
    "# (results['csi_old'].iloc[order_group, [-17, -16, -15, -14]] * 100).style.highlight_max(color='yellow')"
   ]
  },
  {
   "cell_type": "markdown",
   "metadata": {},
   "source": [
    "# tbi"
   ]
  },
  {
   "cell_type": "markdown",
   "metadata": {},
   "source": [
    "### all"
   ]
  },
  {
   "cell_type": "code",
   "execution_count": 156,
   "metadata": {},
   "outputs": [
    {
     "data": {
      "text/html": [
       "<div>\n",
       "<style scoped>\n",
       "    .dataframe tbody tr th:only-of-type {\n",
       "        vertical-align: middle;\n",
       "    }\n",
       "\n",
       "    .dataframe tbody tr th {\n",
       "        vertical-align: top;\n",
       "    }\n",
       "\n",
       "    .dataframe thead th {\n",
       "        text-align: right;\n",
       "    }\n",
       "</style>\n",
       "<table border=\"1\" class=\"dataframe\">\n",
       "  <thead>\n",
       "    <tr style=\"text-align: right;\">\n",
       "      <th></th>\n",
       "      <th>AUC of ROC</th>\n",
       "      <th>f1</th>\n",
       "    </tr>\n",
       "    <tr>\n",
       "      <th>Model</th>\n",
       "      <th></th>\n",
       "      <th></th>\n",
       "    </tr>\n",
       "  </thead>\n",
       "  <tbody>\n",
       "    <tr>\n",
       "      <th>cart_all</th>\n",
       "      <td>0.702</td>\n",
       "      <td>5.73</td>\n",
       "    </tr>\n",
       "    <tr>\n",
       "      <th>cart_combine</th>\n",
       "      <td>0.753</td>\n",
       "      <td>5.64</td>\n",
       "    </tr>\n",
       "    <tr>\n",
       "      <th>tao_all</th>\n",
       "      <td>0.294</td>\n",
       "      <td>5.22</td>\n",
       "    </tr>\n",
       "    <tr>\n",
       "      <th>tao_combine</th>\n",
       "      <td>0.748</td>\n",
       "      <td>5.76</td>\n",
       "    </tr>\n",
       "    <tr>\n",
       "      <th>figs_all</th>\n",
       "      <td>0.380</td>\n",
       "      <td>4.85</td>\n",
       "    </tr>\n",
       "    <tr>\n",
       "      <th>figs_combine</th>\n",
       "      <td>0.619</td>\n",
       "      <td>5.05</td>\n",
       "    </tr>\n",
       "    <tr>\n",
       "      <th>pfigs</th>\n",
       "      <td>0.696</td>\n",
       "      <td>4.73</td>\n",
       "    </tr>\n",
       "    <tr>\n",
       "      <th>pcart_combine</th>\n",
       "      <td>0.758</td>\n",
       "      <td>5.49</td>\n",
       "    </tr>\n",
       "  </tbody>\n",
       "</table>\n",
       "</div>"
      ],
      "text/plain": [
       "              AUC of ROC    f1\n",
       "Model                         \n",
       "cart_all           0.702  5.73\n",
       "cart_combine       0.753  5.64\n",
       "tao_all            0.294  5.22\n",
       "tao_combine        0.748  5.76\n",
       "figs_all           0.380  4.85\n",
       "figs_combine       0.619  5.05\n",
       "pfigs              0.696  4.73\n",
       "pcart_combine      0.758  5.49"
      ]
     },
     "execution_count": 156,
     "metadata": {},
     "output_type": "execute_result"
    }
   ],
   "source": [
    "(results['tbi_all'].iloc[order, [-13, -10]])#.to_latex()#.style.highlight_max(color='yellow')"
   ]
  },
  {
   "cell_type": "code",
   "execution_count": 158,
   "metadata": {},
   "outputs": [
    {
     "data": {
      "text/html": [
       "<div>\n",
       "<style scoped>\n",
       "    .dataframe tbody tr th:only-of-type {\n",
       "        vertical-align: middle;\n",
       "    }\n",
       "\n",
       "    .dataframe tbody tr th {\n",
       "        vertical-align: top;\n",
       "    }\n",
       "\n",
       "    .dataframe thead th {\n",
       "        text-align: right;\n",
       "    }\n",
       "</style>\n",
       "<table border=\"1\" class=\"dataframe\">\n",
       "  <thead>\n",
       "    <tr style=\"text-align: right;\">\n",
       "      <th></th>\n",
       "      <th>auc_std_err</th>\n",
       "      <th>f1_std_err</th>\n",
       "    </tr>\n",
       "    <tr>\n",
       "      <th>Model</th>\n",
       "      <th></th>\n",
       "      <th></th>\n",
       "    </tr>\n",
       "  </thead>\n",
       "  <tbody>\n",
       "    <tr>\n",
       "      <th>cart_all</th>\n",
       "      <td>6.40</td>\n",
       "      <td>0.23</td>\n",
       "    </tr>\n",
       "    <tr>\n",
       "      <th>cart_combine</th>\n",
       "      <td>1.84</td>\n",
       "      <td>0.19</td>\n",
       "    </tr>\n",
       "    <tr>\n",
       "      <th>tao_all</th>\n",
       "      <td>5.47</td>\n",
       "      <td>0.16</td>\n",
       "    </tr>\n",
       "    <tr>\n",
       "      <th>tao_combine</th>\n",
       "      <td>1.88</td>\n",
       "      <td>0.16</td>\n",
       "    </tr>\n",
       "    <tr>\n",
       "      <th>figs_all</th>\n",
       "      <td>6.90</td>\n",
       "      <td>0.21</td>\n",
       "    </tr>\n",
       "    <tr>\n",
       "      <th>figs_combine</th>\n",
       "      <td>5.08</td>\n",
       "      <td>0.24</td>\n",
       "    </tr>\n",
       "    <tr>\n",
       "      <th>pfigs</th>\n",
       "      <td>4.33</td>\n",
       "      <td>0.20</td>\n",
       "    </tr>\n",
       "    <tr>\n",
       "      <th>pcart_combine</th>\n",
       "      <td>1.42</td>\n",
       "      <td>0.19</td>\n",
       "    </tr>\n",
       "  </tbody>\n",
       "</table>\n",
       "</div>"
      ],
      "text/plain": [
       "               auc_std_err  f1_std_err\n",
       "Model                                 \n",
       "cart_all              6.40        0.23\n",
       "cart_combine          1.84        0.19\n",
       "tao_all               5.47        0.16\n",
       "tao_combine           1.88        0.16\n",
       "figs_all              6.90        0.21\n",
       "figs_combine          5.08        0.24\n",
       "pfigs                 4.33        0.20\n",
       "pcart_combine         1.42        0.19"
      ]
     },
     "execution_count": 158,
     "metadata": {},
     "output_type": "execute_result"
    }
   ],
   "source": [
    "(results['tbi_all'].iloc[order, [-4,  -1]] * 100).round(2)#.to_latex()#.style.highlight_max(color='yellow')"
   ]
  },
  {
   "cell_type": "markdown",
   "metadata": {},
   "source": [
    "### young"
   ]
  },
  {
   "cell_type": "code",
   "execution_count": 159,
   "metadata": {},
   "outputs": [],
   "source": [
    "# (results['tbi_young'].iloc[order_group, [-17, -16, -15, -14]] * 100).style.highlight_max(color='yellow')"
   ]
  },
  {
   "cell_type": "markdown",
   "metadata": {},
   "source": [
    "### old"
   ]
  },
  {
   "cell_type": "code",
   "execution_count": 160,
   "metadata": {},
   "outputs": [],
   "source": [
    "# (results['tbi_old'].iloc[order_group, [-17, -16, -15, -14]] * 100).style.highlight_max(color='yellow')"
   ]
  },
  {
   "cell_type": "markdown",
   "metadata": {},
   "source": [
    "# simulation"
   ]
  },
  {
   "cell_type": "code",
   "execution_count": 162,
   "metadata": {},
   "outputs": [],
   "source": [
    "# results['sim'].iloc[[0, 1, 6, 7, 2, 3, 5, 4], -4:].round(2)#.to_latex()#style.highlight_max(color='yellow')"
   ]
  },
  {
   "cell_type": "markdown",
   "metadata": {},
   "source": [
    "# iai"
   ]
  },
  {
   "cell_type": "code",
   "execution_count": 163,
   "metadata": {},
   "outputs": [
    {
     "data": {
      "text/html": [
       "<div>\n",
       "<style scoped>\n",
       "    .dataframe tbody tr th:only-of-type {\n",
       "        vertical-align: middle;\n",
       "    }\n",
       "\n",
       "    .dataframe tbody tr th {\n",
       "        vertical-align: top;\n",
       "    }\n",
       "\n",
       "    .dataframe thead th {\n",
       "        text-align: right;\n",
       "    }\n",
       "</style>\n",
       "<table border=\"1\" class=\"dataframe\">\n",
       "  <thead>\n",
       "    <tr style=\"text-align: right;\">\n",
       "      <th></th>\n",
       "      <th>AUC of ROC</th>\n",
       "      <th>f1</th>\n",
       "    </tr>\n",
       "    <tr>\n",
       "      <th>Model</th>\n",
       "      <th></th>\n",
       "      <th></th>\n",
       "    </tr>\n",
       "  </thead>\n",
       "  <tbody>\n",
       "    <tr>\n",
       "      <th>cart_all</th>\n",
       "      <td>0.688</td>\n",
       "      <td>13.44</td>\n",
       "    </tr>\n",
       "    <tr>\n",
       "      <th>cart_combine</th>\n",
       "      <td>0.688</td>\n",
       "      <td>13.01</td>\n",
       "    </tr>\n",
       "    <tr>\n",
       "      <th>tao_all</th>\n",
       "      <td>0.372</td>\n",
       "      <td>13.90</td>\n",
       "    </tr>\n",
       "    <tr>\n",
       "      <th>tao_combine</th>\n",
       "      <td>0.675</td>\n",
       "      <td>12.88</td>\n",
       "    </tr>\n",
       "    <tr>\n",
       "      <th>figs_all</th>\n",
       "      <td>0.541</td>\n",
       "      <td>9.39</td>\n",
       "    </tr>\n",
       "    <tr>\n",
       "      <th>figs_combine</th>\n",
       "      <td>0.653</td>\n",
       "      <td>8.04</td>\n",
       "    </tr>\n",
       "    <tr>\n",
       "      <th>pfigs</th>\n",
       "      <td>0.671</td>\n",
       "      <td>9.12</td>\n",
       "    </tr>\n",
       "    <tr>\n",
       "      <th>pcart_combine</th>\n",
       "      <td>0.732</td>\n",
       "      <td>12.47</td>\n",
       "    </tr>\n",
       "  </tbody>\n",
       "</table>\n",
       "</div>"
      ],
      "text/plain": [
       "              AUC of ROC     f1\n",
       "Model                          \n",
       "cart_all           0.688  13.44\n",
       "cart_combine       0.688  13.01\n",
       "tao_all            0.372  13.90\n",
       "tao_combine        0.675  12.88\n",
       "figs_all           0.541   9.39\n",
       "figs_combine       0.653   8.04\n",
       "pfigs              0.671   9.12\n",
       "pcart_combine      0.732  12.47"
      ]
     },
     "execution_count": 163,
     "metadata": {},
     "output_type": "execute_result"
    }
   ],
   "source": [
    "(results['iai_all'].iloc[order, [-13, -10]])#.to_latex()#style.highlight_max(color='yellow')"
   ]
  },
  {
   "cell_type": "code",
   "execution_count": 164,
   "metadata": {},
   "outputs": [
    {
     "data": {
      "text/html": [
       "<div>\n",
       "<style scoped>\n",
       "    .dataframe tbody tr th:only-of-type {\n",
       "        vertical-align: middle;\n",
       "    }\n",
       "\n",
       "    .dataframe tbody tr th {\n",
       "        vertical-align: top;\n",
       "    }\n",
       "\n",
       "    .dataframe thead th {\n",
       "        text-align: right;\n",
       "    }\n",
       "</style>\n",
       "<table border=\"1\" class=\"dataframe\">\n",
       "  <thead>\n",
       "    <tr style=\"text-align: right;\">\n",
       "      <th></th>\n",
       "      <th>auc_std_err</th>\n",
       "      <th>f1_std_err</th>\n",
       "    </tr>\n",
       "    <tr>\n",
       "      <th>Model</th>\n",
       "      <th></th>\n",
       "      <th></th>\n",
       "    </tr>\n",
       "  </thead>\n",
       "  <tbody>\n",
       "    <tr>\n",
       "      <th>cart_all</th>\n",
       "      <td>5.72</td>\n",
       "      <td>0.42</td>\n",
       "    </tr>\n",
       "    <tr>\n",
       "      <th>cart_combine</th>\n",
       "      <td>1.21</td>\n",
       "      <td>0.52</td>\n",
       "    </tr>\n",
       "    <tr>\n",
       "      <th>tao_all</th>\n",
       "      <td>4.30</td>\n",
       "      <td>0.57</td>\n",
       "    </tr>\n",
       "    <tr>\n",
       "      <th>tao_combine</th>\n",
       "      <td>1.35</td>\n",
       "      <td>0.45</td>\n",
       "    </tr>\n",
       "    <tr>\n",
       "      <th>figs_all</th>\n",
       "      <td>4.36</td>\n",
       "      <td>0.96</td>\n",
       "    </tr>\n",
       "    <tr>\n",
       "      <th>figs_combine</th>\n",
       "      <td>1.77</td>\n",
       "      <td>0.29</td>\n",
       "    </tr>\n",
       "    <tr>\n",
       "      <th>pfigs</th>\n",
       "      <td>3.48</td>\n",
       "      <td>0.54</td>\n",
       "    </tr>\n",
       "    <tr>\n",
       "      <th>pcart_combine</th>\n",
       "      <td>1.55</td>\n",
       "      <td>0.67</td>\n",
       "    </tr>\n",
       "  </tbody>\n",
       "</table>\n",
       "</div>"
      ],
      "text/plain": [
       "               auc_std_err  f1_std_err\n",
       "Model                                 \n",
       "cart_all              5.72        0.42\n",
       "cart_combine          1.21        0.52\n",
       "tao_all               4.30        0.57\n",
       "tao_combine           1.35        0.45\n",
       "figs_all              4.36        0.96\n",
       "figs_combine          1.77        0.29\n",
       "pfigs                 3.48        0.54\n",
       "pcart_combine         1.55        0.67"
      ]
     },
     "execution_count": 164,
     "metadata": {},
     "output_type": "execute_result"
    }
   ],
   "source": [
    "(results['iai_all'].iloc[order, [-4, -1]] * 100)#.to_latex()#style.highlight_max(color='yellow')"
   ]
  },
  {
   "cell_type": "code",
   "execution_count": 165,
   "metadata": {},
   "outputs": [],
   "source": [
    "# (results['iai_young'].iloc[order_group, [-15, -14, -13, -12]] * 100).style.highlight_max(color='yellow')"
   ]
  },
  {
   "cell_type": "code",
   "execution_count": 166,
   "metadata": {},
   "outputs": [],
   "source": [
    "# (results['iai_old'].iloc[order_group, [-15, -14, -13, -12]] * 100).style.highlight_max(color='yellow')"
   ]
  },
  {
   "cell_type": "markdown",
   "metadata": {},
   "source": [
    "# fairness?"
   ]
  },
  {
   "cell_type": "markdown",
   "metadata": {},
   "source": []
  }
 ],
 "metadata": {
  "interpreter": {
   "hash": "d833dc0779f0f050568351c83cfa2f037bffe4d045df2adc54e8a65e73ce0016"
  },
  "kernelspec": {
   "display_name": "Python 3.10.0 ('imodels-experiments')",
   "language": "python",
   "name": "python3"
  },
  "language_info": {
   "codemirror_mode": {
    "name": "ipython",
    "version": 3
   },
   "file_extension": ".py",
   "mimetype": "text/x-python",
   "name": "python",
   "nbconvert_exporter": "python",
   "pygments_lexer": "ipython3",
   "version": "3.10.0"
  },
  "orig_nbformat": 4
 },
 "nbformat": 4,
 "nbformat_minor": 2
}
