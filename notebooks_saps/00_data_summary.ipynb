{
 "cells": [
  {
   "cell_type": "code",
   "execution_count": 5,
   "metadata": {},
   "outputs": [
    {
     "name": "stdout",
     "output_type": "stream",
     "text": [
      "The autoreload extension is already loaded. To reload it, use:\n",
      "  %reload_ext autoreload\n"
     ]
    }
   ],
   "source": [
    "%load_ext autoreload\n",
    "%autoreload 2\n",
    "import os\n",
    "import pickle as pkl\n",
    "from typing import Dict, Any\n",
    "\n",
    "import numpy as np\n",
    "import pandas as pd\n",
    "from sklearn.datasets import fetch_openml\n",
    "import matplotlib as mpl\n",
    "import matplotlib.pyplot as plt\n",
    "from copy import deepcopy\n",
    "mpl.rcParams['figure.dpi'] = 250\n",
    "\n",
    "# change working directory to project root\n",
    "if os.getcwd().split('/')[-1] == 'notebooks':\n",
    "    os.chdir('../..')\n",
    "from experiments.notebooks import viz\n",
    "from experiments.data_util import get_clean_dataset\n",
    "from experiments.config.datasets import DATASETS_CLASSIFICATION, DATASETS_REGRESSION\n",
    "from pmlb import fetch_data, classification_dataset_names\n",
    "pd.options.display.max_rows = 100"
   ]
  },
  {
   "cell_type": "markdown",
   "metadata": {},
   "source": [
    "# classification dataset stats"
   ]
  },
  {
   "cell_type": "code",
   "execution_count": null,
   "metadata": {},
   "outputs": [],
   "source": [
    "metadata = []\n",
    "columns = ['Name', 'Samples', 'Features', 'Class 0', 'Class 1', 'Majority class %']\n",
    "for dset_name, dset_file, data_source in DATASETS_CLASSIFICATION:\n",
    "    X, y, feat_names = get_clean_dataset(dset_file, data_source)\n",
    "#     X = np.nan_to_num(X, 0)\n",
    "    shape = X.shape\n",
    "    class_counts = np.unique(y, return_counts=True)[1]\n",
    "    metadata.append([dset_name.capitalize(), shape[0], shape[1], class_counts[0], class_counts[1],\n",
    "                     np.round(100 * np.max(class_counts) / np.sum(class_counts), decimals=1)])\n",
    "\n",
    "metadata = pd.DataFrame(metadata, columns=columns).sort_values(by=['Samples']) #.set_index('Name')\n",
    "# print(metadata.to_latex(index=False))\n",
    "metadata"
   ]
  },
  {
   "cell_type": "markdown",
   "metadata": {},
   "source": [
    "# regression dataset names\n"
   ]
  },
  {
   "cell_type": "code",
   "execution_count": 7,
   "metadata": {},
   "outputs": [
    {
     "data": {
      "text/html": [
       "<div>\n",
       "<style scoped>\n",
       "    .dataframe tbody tr th:only-of-type {\n",
       "        vertical-align: middle;\n",
       "    }\n",
       "\n",
       "    .dataframe tbody tr th {\n",
       "        vertical-align: top;\n",
       "    }\n",
       "\n",
       "    .dataframe thead th {\n",
       "        text-align: right;\n",
       "    }\n",
       "</style>\n",
       "<table border=\"1\" class=\"dataframe\">\n",
       "  <thead>\n",
       "    <tr style=\"text-align: right;\">\n",
       "      <th></th>\n",
       "      <th>Name</th>\n",
       "      <th>Samples</th>\n",
       "      <th>Features</th>\n",
       "      <th>Mean</th>\n",
       "      <th>Std</th>\n",
       "      <th>Min</th>\n",
       "      <th>Max</th>\n",
       "    </tr>\n",
       "  </thead>\n",
       "  <tbody>\n",
       "    <tr>\n",
       "      <th>0</th>\n",
       "      <td>Friedman1</td>\n",
       "      <td>200</td>\n",
       "      <td>10</td>\n",
       "      <td>14.25</td>\n",
       "      <td>4.56</td>\n",
       "      <td>1.71</td>\n",
       "      <td>26.95</td>\n",
       "    </tr>\n",
       "    <tr>\n",
       "      <th>1</th>\n",
       "      <td>Friedman2</td>\n",
       "      <td>200</td>\n",
       "      <td>4</td>\n",
       "      <td>464.02</td>\n",
       "      <td>390.78</td>\n",
       "      <td>7.15</td>\n",
       "      <td>1699.68</td>\n",
       "    </tr>\n",
       "    <tr>\n",
       "      <th>2</th>\n",
       "      <td>Friedman3</td>\n",
       "      <td>200</td>\n",
       "      <td>4</td>\n",
       "      <td>1.32</td>\n",
       "      <td>0.32</td>\n",
       "      <td>0.02</td>\n",
       "      <td>1.57</td>\n",
       "    </tr>\n",
       "    <tr>\n",
       "      <th>3</th>\n",
       "      <td>Diabetes-regr</td>\n",
       "      <td>442</td>\n",
       "      <td>10</td>\n",
       "      <td>152.13</td>\n",
       "      <td>77.01</td>\n",
       "      <td>25.00</td>\n",
       "      <td>346.00</td>\n",
       "    </tr>\n",
       "    <tr>\n",
       "      <th>4</th>\n",
       "      <td>California-housing</td>\n",
       "      <td>442</td>\n",
       "      <td>10</td>\n",
       "      <td>152.13</td>\n",
       "      <td>77.01</td>\n",
       "      <td>25.00</td>\n",
       "      <td>346.00</td>\n",
       "    </tr>\n",
       "    <tr>\n",
       "      <th>5</th>\n",
       "      <td>Satellite-image</td>\n",
       "      <td>6435</td>\n",
       "      <td>36</td>\n",
       "      <td>3.67</td>\n",
       "      <td>2.21</td>\n",
       "      <td>1.00</td>\n",
       "      <td>7.00</td>\n",
       "    </tr>\n",
       "    <tr>\n",
       "      <th>6</th>\n",
       "      <td>Echo-months</td>\n",
       "      <td>17496</td>\n",
       "      <td>9</td>\n",
       "      <td>21.99</td>\n",
       "      <td>15.79</td>\n",
       "      <td>-4.40</td>\n",
       "      <td>74.56</td>\n",
       "    </tr>\n",
       "  </tbody>\n",
       "</table>\n",
       "</div>"
      ],
      "text/plain": [
       "                 Name  Samples  Features    Mean     Std    Min      Max\n",
       "0           Friedman1      200        10   14.25    4.56   1.71    26.95\n",
       "1           Friedman2      200         4  464.02  390.78   7.15  1699.68\n",
       "2           Friedman3      200         4    1.32    0.32   0.02     1.57\n",
       "3       Diabetes-regr      442        10  152.13   77.01  25.00   346.00\n",
       "4  California-housing      442        10  152.13   77.01  25.00   346.00\n",
       "5     Satellite-image     6435        36    3.67    2.21   1.00     7.00\n",
       "6         Echo-months    17496         9   21.99   15.79  -4.40    74.56"
      ]
     },
     "execution_count": 7,
     "metadata": {},
     "output_type": "execute_result"
    }
   ],
   "source": [
    "metadata = []\n",
    "columns = ['Name', 'Samples', 'Features', 'Mean', 'Std', 'Min', \"Max\"]\n",
    "for dset_name, dset_file, data_source in DATASETS_REGRESSION:\n",
    "#     print(dset_name, dset_file, data_source)\n",
    "    X, y, feat_names = get_clean_dataset(dset_file, data_source)\n",
    "#     X = np.nan_to_num(X, 0)\n",
    "#     print(y.dtype)\n",
    "#     print(np.unique(y))\n",
    "    shape = X.shape\n",
    "    metadata.append([dset_name.capitalize(), shape[0], shape[1], np.mean(y), np.std(y), np.min(y), np.max(y)])\n",
    "\n",
    "metadata = pd.DataFrame(metadata, columns=columns).round(2).sort_values(by=['Samples'])\n",
    "#.set_index('Name')\n",
    "# print(metadata.to_latex(index=False))\n",
    "metadata"
   ]
  },
  {
   "cell_type": "code",
   "execution_count": 8,
   "metadata": {
    "tags": []
   },
   "outputs": [
    {
     "name": "stdout",
     "output_type": "stream",
     "text": [
      "shapes (200, 10) (200,) [ 1.54807941  2.82584089  3.26260264  3.58710555  5.11763798  5.42531158\n",
      "  5.63301555  5.74722517  6.10242782  6.20489243  6.56014744  6.85847467\n",
      "  7.18417699  7.36325666  7.39342959  7.44751827  8.09587663  8.09797839\n",
      "  8.22070863  8.25235835  8.29692857  8.57150104  8.61788598  8.82239744\n",
      "  8.89802983  9.08491611  9.20334603  9.21966825  9.24019214  9.25595083\n",
      "  9.49387347  9.64898803  9.71182684  9.80450925  9.95905093  9.98434944\n",
      "  9.9975615  10.23995605 10.35352875 10.4029495  10.44838625 10.46052791\n",
      " 10.52496695 10.60750259 10.64587348 10.76111163 10.83940749 10.85406208\n",
      " 10.86375354 10.9408716  10.95164538 10.95342806 10.96393778 11.00683843\n",
      " 11.01975958 11.26092686 11.48717995 11.51290823 11.59509797 11.77250693\n",
      " 11.92633296 11.9662568  12.02930547 12.08237057 12.10473253 12.42237003\n",
      " 12.80092649 12.81473684 12.84739159 12.8819466  12.90865831 12.91331892\n",
      " 12.94010616 12.96911324 13.00576323 13.11220829 13.18642017 13.28761968\n",
      " 13.49001963 13.6188573  13.79783797 13.85494845 13.91625292 14.07083691\n",
      " 14.093246   14.15880114 14.16682011 14.38901278 14.40337939 14.4213751\n",
      " 14.45415981 14.4748406  14.6316424  14.73819647 14.76667326 14.77133295\n",
      " 14.77296594 14.78171164 14.82512616 14.91052315 14.96029296 14.97766628\n",
      " 15.1172384  15.32597904 15.39497619 15.45299813 15.45346707 15.46507835\n",
      " 15.46520353 15.49726878 15.62323466 15.70197821 15.72544034 15.75263639\n",
      " 15.75998649 15.82488316 15.85235893 15.95195798 16.30910691 16.40621584\n",
      " 16.42052504 16.43825233 16.47170598 16.57264034 16.61774624 16.63789096\n",
      " 16.66041759 16.66370998 16.67585689 16.69443744 17.08695278 17.10557085\n",
      " 17.11976015 17.17728342 17.17986359 17.22591649 17.2501139  17.26140725\n",
      " 17.30052897 17.50981131 17.5803197  17.68408512 17.79288043 17.91362785\n",
      " 18.05374238 18.0641617  18.23285535 18.30798801 18.50612    18.56555744\n",
      " 18.61349455 18.64910539 18.66018965 18.79300034 18.87492717 18.98602531\n",
      " 19.03736889 19.05877348 19.19806473 19.26739271 19.57029025 19.62569554\n",
      " 19.69804241 19.73875805 19.80218669 19.82982234 19.90961153 19.97029803\n",
      " 20.0386928  20.11527377 20.22746244 20.29479537 20.42595733 20.54155337\n",
      " 20.54775367 20.57162903 20.59367662 20.74302452 20.76381264 20.81217742\n",
      " 21.01651037 21.05466203 21.1072806  21.52650481 21.87272446 21.94032317\n",
      " 22.04404563 22.40829395 22.54544071 22.5618     22.65143277 22.98859271\n",
      " 23.16731741 23.29568444 23.62585379 24.69052958 24.95170338 25.48104556\n",
      " 25.73844013 27.92649932]\n"
     ]
    }
   ],
   "source": [
    "X, y, feature_names = get_clean_dataset('friedman1', data_source='synthetic')\n",
    "print('shapes', X.shape, y.shape, np.unique(y))"
   ]
  },
  {
   "cell_type": "code",
   "execution_count": 10,
   "metadata": {},
   "outputs": [
    {
     "name": "stdout",
     "output_type": "stream",
     "text": [
      "shapes (768, 8) (768,) [0 1]\n"
     ]
    }
   ],
   "source": [
    "X, y, feature_names = get_clean_dataset('diabetes', data_source='pmlb')\n",
    "print('shapes', X.shape, y.shape, np.unique(y))"
   ]
  },
  {
   "cell_type": "code",
   "execution_count": 8,
   "metadata": {},
   "outputs": [
    {
     "data": {
      "text/plain": [
       "(768, 8)"
      ]
     },
     "execution_count": 8,
     "metadata": {},
     "output_type": "execute_result"
    }
   ],
   "source": [
    "from imodels import C45TreeClassifier\n",
    "m = C45TreeClassifier(max_rules=100)\n",
    "m.fit(X, y)\n",
    "print('mse', np.mean(np.square(m.predict(X) - y)))\n",
    "print(m)"
   ]
  }
 ],
 "metadata": {
  "jupytext": {
   "formats": "ipynb,../../tests/notebooks//py:percent"
  },
  "kernelspec": {
   "display_name": "Python 3",
   "language": "python",
   "name": "python3"
  },
  "language_info": {
   "codemirror_mode": {
    "name": "ipython",
    "version": 3
   },
   "file_extension": ".py",
   "mimetype": "text/x-python",
   "name": "python",
   "nbconvert_exporter": "python",
   "pygments_lexer": "ipython3",
   "version": "3.8.3"
  }
 },
 "nbformat": 4,
 "nbformat_minor": 4
}
